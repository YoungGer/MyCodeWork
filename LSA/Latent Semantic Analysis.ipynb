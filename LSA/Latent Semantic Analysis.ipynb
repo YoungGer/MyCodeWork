{
 "cells": [
  {
   "cell_type": "markdown",
   "metadata": {},
   "source": [
    "1. The Neatest Little Guide to Stock Market Investing\n",
    "2. Investing For Dummies, 4th Edition\n",
    "3. The Little Book of Common Sense Investing: The Only Way to Guarantee Your Fair Share of Stock Market Returns\n",
    "4. The Little Book of Value Investing\n",
    "5. Value Investing: From Graham to Buffett and Beyond\n",
    "6. Rich Dad's Guide to Investing: What the Rich Invest in, That the Poor and the Middle Class Do Not!\n",
    "7. Investing in Real Estate, 5th Edition\n",
    "8. Stock Investing For Dummies\n",
    "9. Rich Dad's Advisors: The ABC's of Real Estate Investing: The Secrets of Finding Hidden Profits Most Investors Miss"
   ]
  },
  {
   "cell_type": "code",
   "execution_count": 207,
   "metadata": {
    "collapsed": false,
    "scrolled": true
   },
   "outputs": [
    {
     "name": "stdout",
     "output_type": "stream",
     "text": [
      "Populating the interactive namespace from numpy and matplotlib\n"
     ]
    },
    {
     "name": "stderr",
     "output_type": "stream",
     "text": [
      "WARNING: pylab import has clobbered these variables: ['log', 'svd']\n",
      "`%matplotlib` prevents importing * from pylab and numpy\n"
     ]
    }
   ],
   "source": [
    "%pylab inline\n",
    "from numpy import zeros\n",
    "from scipy.linalg import svd\n",
    "#following needed for TFIDF\n",
    "from math import log\n",
    "from numpy import asarray, sum\n",
    "import matplotlib.pyplot as plt \n",
    "\n",
    "titles = [\"The Neatest Little Guide to Stock Market Investing\",\n",
    "          \"Investing For Dummies, 4th Edition\",\n",
    "          \"The Little Book of Common Sense Investing: The Only Way to Guarantee Your Fair Share of Stock Market Returns\",\n",
    "          \"The Little Book of Value Investing\",\n",
    "          \"Value Investing: From Graham to Buffett and Beyond\",\n",
    "          \"Rich Dad's Guide to Investing: What the Rich Invest in, That the Poor and the Middle Class Do Not!\",\n",
    "          \"Investing in Real Estate, 5th Edition\",\n",
    "          \"Stock Investing For Dummies\",\n",
    "          \"Rich Dad's Advisors: The ABC's of Real Estate Investing: The Secrets of Finding Hidden Profits Most Investors Miss\"\n",
    "          ]\n",
    "stopwords = ['and','edition','for','in','little','of','the','to']\n",
    "ignorechars = ''',:'!'''\n",
    "\n",
    "class LSA(object):\n",
    "    def __init__(self, stopwords, ignorechars):\n",
    "        self.stopwords = stopwords\n",
    "        self.ignorechars = ignorechars\n",
    "        self.wdict = {}\n",
    "        self.dcount = 0        \n",
    "    def parse(self, doc):\n",
    "        words = doc.split();\n",
    "        for w in words:\n",
    "            w = w.lower().translate(None, self.ignorechars)\n",
    "            if w in self.stopwords:\n",
    "                continue\n",
    "            elif w in self.wdict:\n",
    "                self.wdict[w].append(self.dcount)\n",
    "            else:\n",
    "                #考虑wdict['book']会不会出现[0,0]如果book在0中出现两次\n",
    "                self.wdict[w] = [self.dcount]\n",
    "        self.dcount += 1      \n",
    "    def build(self):\n",
    "        self.keys = [k for k in self.wdict.keys() if len(self.wdict[k]) > 1]\n",
    "        self.keys.sort()\n",
    "        self.A = zeros([len(self.keys), self.dcount])\n",
    "        for i, k in enumerate(self.keys):\n",
    "            for d in self.wdict[k]:\n",
    "                self.A[i,d] += 1\n",
    "    def calc(self):\n",
    "        self.U, self.S, self.Vt = svd(self.A)\n",
    "        \n",
    "    def picture0(self):\n",
    "        '''\n",
    "        根据奇异值的平方画出奇异值的重要性的bar图\n",
    "        '''\n",
    "        plt.bar(left=range(len(self.S)) ,height=(self.S**2)/sum(self.S**2),align=\"center\")\n",
    "        plt.xticks(range(len(self.S)))\n",
    "        plt.title(\"The Importance of Each Singular Value\")\n",
    "        plt.xlabel(u\"Singular Values\")\n",
    "        plt.ylabel(u\"Importance\")\n",
    "    def picture1(self):\n",
    "        '''\n",
    "        画出瓦片图\n",
    "        '''\n",
    "        plt.set_cmap('bwr') \n",
    "        plt.pcolor(-1*self.Vt[0:3,:])\n",
    "        plt.colorbar()\n",
    "        plt.yticks(np.arange(3)+0.5,['Dim1','Dim2','Dim3',])\n",
    "        plt.xticks(np.arange(9)+0.5,[i[0]+i[1] for i in zip(['T']*9 ,map(str,range(1,10)))])\n",
    "        plt.gca().invert_yaxis()\n",
    "        plt.gca().set_aspect('equal')\n",
    "        plt.xlabel(\"Book Titles\")\n",
    "        plt.ylabel(\"Dimensions\")\n",
    "        plt.title(\"Top 3 Dimensions of Each Book Title\")\n",
    "    \n",
    "    def picture2(self):\n",
    "        '''\n",
    "        画出散点图加上点的注释，投影到概念空间\n",
    "        '''\n",
    "        TitleX = -1*self.Vt[1,:]\n",
    "        TitleY = -1*self.Vt[2,:]\n",
    "        WordX = -1*self.U[:,1]\n",
    "        WordY = -1*self.U[:,2]\n",
    "        \n",
    "        #画Word图的形状和注释\n",
    "        Words = self.keys\n",
    "        plt.plot(WordX,WordY,'rs')\n",
    "        for i in range(len(Words)):\n",
    "            plt.annotate(Words[i],xy=(WordX[i],WordY[i]),xytext=(2, 6),textcoords='offset points',color='red')\n",
    "        #画Title图的形状和注释\n",
    "        Titles = [i[0]+i[1] for i in zip(['T']*9 ,map(str,range(1,10)))]\n",
    "        plt.plot(TitleX,TitleY,'bo')\n",
    "        for i in range(len(TitleX)):\n",
    "            plt.annotate(Titles[i],xy=(TitleX[i],TitleY[i]),xytext=(2, 2),textcoords='offset points',color='blue')\n",
    "        plt.title('XY plots of Words and Titles')\n",
    "        plt.xlabel('Dimension 2')\n",
    "        plt.ylabel('Dimension 1')\n",
    "        \n",
    "    def TFIDF(self):\n",
    "        WordsPerDoc = sum(self.A, axis=0)        \n",
    "        DocsPerWord = sum(asarray(self.A > 0, 'i'), axis=1)\n",
    "        rows, cols = self.A.shape\n",
    "        for i in range(rows):\n",
    "            for j in range(cols):\n",
    "                self.A[i,j] = (self.A[i,j] / WordsPerDoc[j]) * log(float(cols) / DocsPerWord[i])\n",
    "\n",
    "    def printA(self):\n",
    "        print 'Here is the count matrix'\n",
    "        print self.A\n",
    "    def printSVD(self):\n",
    "        print 'Here are the singular values'\n",
    "        print self.S\n",
    "        print 'Here are the first 3 columns of the U matrix'\n",
    "        print -1*self.U[:, 0:3]\n",
    "        print 'Here are the first 3 rows of the Vt matrix'\n",
    "        print -1*self.Vt[0:3, :]\n",
    "\n",
    "mylsa = LSA(stopwords, ignorechars)\n",
    "for t in titles:\n",
    "    mylsa.parse(t)\n",
    "mylsa.build()\n",
    "mylsa.printA()\n",
    "mylsa.calc()\n",
    "mylsa.printSVD()\n",
    "plt.figure(1)\n",
    "mylsa.picture1()\n",
    "plt.figure(2)\n",
    "mylsa.picture2()"
   ]
  },
  {
   "cell_type": "code",
   "execution_count": 209,
   "metadata": {
    "collapsed": false
   },
   "outputs": [
    {
     "name": "stdout",
     "output_type": "stream",
     "text": [
      "Here is the count matrix\n",
      "[[ 0.  0.  1.  1.  0.  0.  0.  0.  0.]\n",
      " [ 0.  0.  0.  0.  0.  1.  0.  0.  1.]\n",
      " [ 0.  1.  0.  0.  0.  0.  0.  1.  0.]\n",
      " [ 0.  0.  0.  0.  0.  0.  1.  0.  1.]\n",
      " [ 1.  0.  0.  0.  0.  1.  0.  0.  0.]\n",
      " [ 1.  1.  1.  1.  1.  1.  1.  1.  1.]\n",
      " [ 1.  0.  1.  0.  0.  0.  0.  0.  0.]\n",
      " [ 0.  0.  0.  0.  0.  0.  1.  0.  1.]\n",
      " [ 0.  0.  0.  0.  0.  2.  0.  0.  1.]\n",
      " [ 1.  0.  1.  0.  0.  0.  0.  1.  0.]\n",
      " [ 0.  0.  0.  1.  1.  0.  0.  0.  0.]]\n",
      "Here are the singular values\n",
      "[ 3.90941804  2.60911881  1.99682784  1.68702498  1.54678536  1.04451835\n",
      "  0.59375541  0.41040138  0.26652691]\n",
      "Here are the first 3 columns of the U matrix\n",
      "[[ 0.15283556 -0.26603445  0.04450319]\n",
      " [ 0.23746367  0.37826282 -0.08595889]\n",
      " [ 0.13026538 -0.17428415  0.06901432]\n",
      " [ 0.18440432  0.1939483   0.44568964]\n",
      " [ 0.2161232   0.08727248 -0.46011902]\n",
      " [ 0.74009654 -0.21114703  0.21075317]\n",
      " [ 0.17687585 -0.29791161 -0.28320277]\n",
      " [ 0.18440432  0.1939483   0.44568964]\n",
      " [ 0.3630785   0.58854128 -0.34119818]\n",
      " [ 0.2501936  -0.41557716 -0.28435272]\n",
      " [ 0.12293617 -0.14317803  0.23449128]]\n",
      "Here are the first 3 rows of the Vt matrix\n",
      "[[ 0.35383506  0.22263209  0.33764656  0.25985153  0.22075733  0.49108087\n",
      "   0.28364968  0.28662975  0.43726389]\n",
      " [-0.32093722 -0.14772466 -0.45634958 -0.23776591 -0.13580258  0.54864149\n",
      "   0.06774301 -0.3070034   0.43829115]\n",
      " [-0.40910955  0.14010597 -0.15639762  0.24526283  0.22297589 -0.50966892\n",
      "   0.55194165 -0.00229626  0.33802383]]\n"
     ]
    }
   ],
   "source": [
    "mylsa = LSA(stopwords, ignorechars)\n",
    "for t in titles:\n",
    "    mylsa.parse(t)\n",
    "mylsa.build()\n",
    "mylsa.printA()\n",
    "mylsa.calc()\n",
    "mylsa.printSVD()"
   ]
  },
  {
   "cell_type": "code",
   "execution_count": 211,
   "metadata": {
    "collapsed": false
   },
   "outputs": [
    {
     "data": {
      "image/png": "[encoded data removed]",
      "text/plain": [
       "<matplotlib.figure.Figure at 0x161b2be0>"
      ]
     },
     "metadata": {},
     "output_type": "display_data"
    }
   ],
   "source": [
    "mylsa.picture0()"
   ]
  },
  {
   "cell_type": "code",
   "execution_count": 205,
   "metadata": {
    "collapsed": false,
    "scrolled": false
   },
   "outputs": [
    {
     "data": {
      "image/png": "[encoded data removed]",
      "text/plain": [
       "<matplotlib.figure.Figure at 0x161968d0>"
      ]
     },
     "metadata": {},
     "output_type": "display_data"
    }
   ],
   "source": [
    "mylsa.picture1()"
   ]
  },
  {
   "cell_type": "code",
   "execution_count": 210,
   "metadata": {
    "collapsed": false
   },
   "outputs": [
    {
     "data": {
      "image/png": "[encoded data removed]",
      "text/plain": [
       "<matplotlib.figure.Figure at 0x16c9c5c0>"
      ]
     },
     "metadata": {},
     "output_type": "display_data"
    }
   ],
   "source": [
    "mylsa.picture2()"
   ]
  }
 ],
 "metadata": {
  "kernelspec": {
   "display_name": "Python 2",
   "language": "python",
   "name": "python2"
  },
  "language_info": {
   "codemirror_mode": {
    "name": "ipython",
    "version": 2
   },
   "file_extension": ".py",
   "mimetype": "text/x-python",
   "name": "python",
   "nbconvert_exporter": "python",
   "pygments_lexer": "ipython2",
   "version": "2.7.10"
  }
 },
 "nbformat": 4,
 "nbformat_minor": 0
}
