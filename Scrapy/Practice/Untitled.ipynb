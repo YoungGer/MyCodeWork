{
 "cells": [
  {
   "cell_type": "code",
   "execution_count": 95,
   "metadata": {
    "collapsed": false
   },
   "outputs": [],
   "source": [
    "# -*- coding:utf-8 -*-\n",
    "import requests\n",
    "import os,time\n",
    "from bs4 import BeautifulSoup\n",
    "from selenium import  webdriver\n",
    "from selenium.webdriver.common.by import By\n",
    "from selenium.webdriver.support.ui import WebDriverWait\n",
    "from selenium.webdriver.support import expected_conditions as EC\n",
    "def logIn(name,pw):\n",
    "    global driver\n",
    "    driver.get('http://i.qq.com/')\n",
    "    driver.maximize_window()\n",
    "    driver.switch_to_frame(driver.find_element_by_id('login_frame'))\n",
    "    upElement = driver.find_element_by_id('switcher_plogin')\n",
    "    upElement.click()\n",
    "    #输入账号密码，以及submit\n",
    "    uElement = driver.find_element_by_id('u')\n",
    "    pElement = driver.find_element_by_id('p') \n",
    "    uElement.clear()  \n",
    "    uElement.send_keys(name)\n",
    "    pElement.clear()\n",
    "    pElement.send_keys(pw)\n",
    "    time.sleep(1)\n",
    "    loginB = driver.find_element_by_id('login_button')\n",
    "    loginB.click()\n",
    "    time.sleep(1)\n",
    "    print ('登陆成功！')\n",
    "\n",
    "def allPages():\n",
    "    global driver\n",
    "    # 默认driver.switch_to_frame(driver.find_element_by_class_name('app_canvas_frame'))\n",
    "    try:\n",
    "        element = WebDriverWait(driver,10).until(\n",
    "            EC.presence_of_element_located((By.ID,'_pager_content_0'))\n",
    "        )\n",
    "    except:\n",
    "        print ('allPages错误')\n",
    "        return None\n",
    "    else:\n",
    "        driver.find_element_by_id('_pager_content_0')\n",
    "        bsPaperNum = BeautifulSoup(driver.page_source,'lxml')\n",
    "        return int(bsPaperNum.find('a',title=\"下一页\").previous_sibling.get_text())\n",
    "\n",
    "\n",
    "\n",
    "def onePageInfo():\n",
    "    # 默认driver.switch_to_frame(driver.find_element_by_class_name('app_canvas_frame'))\n",
    "    global driver\n",
    "    bsObj = BeautifulSoup(driver.page_source,'lxml')\n",
    "    times_contents = [[li0.find('a',class_='c_tx3').get_text(),li0.find('pre',class_='content').get_text()] \\\n",
    "    for li0 in bsObj.findAll('li',class_='feed')]\n",
    "    return times_contents\n",
    "\n",
    "def nextPage(i):\n",
    "    global driver\n",
    "    # 默认driver.switch_to_frame(driver.find_element_by_class_name('app_canvas_frame'))\n",
    "    try:\n",
    "        element = WebDriverWait(driver,10).until(\n",
    "            EC.element_to_be_clickable((By.ID,'pager_next_'+str(i)))\n",
    "        )\n",
    "    except TimeoutException:\n",
    "        print ('nextPage错误')\n",
    "    else:\n",
    "        driver.find_element_by_id('pager_next_'+str(i)).click()"
   ]
  },
  {
   "cell_type": "code",
   "execution_count": 80,
   "metadata": {
    "collapsed": false
   },
   "outputs": [
    {
     "data": {
      "text/plain": [
       "'http://user.qzone.qq.com/771657815/311'"
      ]
     },
     "execution_count": 80,
     "metadata": {},
     "output_type": "execute_result"
    }
   ],
   "source": [
    "original_url"
   ]
  },
  {
   "cell_type": "code",
   "execution_count": 79,
   "metadata": {
    "collapsed": false
   },
   "outputs": [
    {
     "name": "stdout",
     "output_type": "stream",
     "text": [
      "请输入登陆用的qq号：771657815\n",
      "请输入对应的qq密码：ygy433991100\n",
      "登陆成功！\n"
     ]
    }
   ],
   "source": [
    "driver = webdriver.PhantomJS('/usr/local/phantomjs/bin/phantomjs')\n",
    "driver.implicitly_wait(1)\n",
    "name = input('请输入登陆用的qq号：')\n",
    "pw = input('请输入对应的qq密码：')\n",
    "logIn(name,pw)"
   ]
  },
  {
   "cell_type": "code",
   "execution_count": 97,
   "metadata": {
    "collapsed": false
   },
   "outputs": [
    {
     "name": "stdout",
     "output_type": "stream",
     "text": [
      "开始第 1 页的收集\n",
      "结束第 1 页的收集\n",
      "开始第 2 页的收集\n",
      "结束第 2 页的收集\n",
      "开始第 3 页的收集\n",
      "结束第 3 页的收集\n",
      "开始第 4 页的收集\n",
      "结束第 4 页的收集\n",
      "开始第 5 页的收集\n",
      "结束第 5 页的收集\n",
      "开始第 6 页的收集\n",
      "结束第 6 页的收集\n",
      "开始第 7 页的收集\n",
      "结束第 7 页的收集\n",
      "开始第 8 页的收集\n",
      "结束第 8 页的收集\n",
      "开始第 9 页的收集\n",
      "结束第 9 页的收集\n",
      "开始第 10 页的收集\n",
      "结束第 10 页的收集\n",
      "开始第 11 页的收集\n",
      "结束第 11 页的收集\n",
      "开始第 12 页的收集\n",
      "结束第 12 页的收集\n",
      "开始第 13 页的收集\n",
      "结束第 13 页的收集\n",
      "开始第 14 页的收集\n",
      "结束第 14 页的收集\n",
      "开始第 15 页的收集\n",
      "结束第 15 页的收集\n",
      "开始第 16 页的收集\n",
      "结束第 16 页的收集\n",
      "开始第 17 页的收集\n",
      "结束第 17 页的收集\n",
      "开始第 18 页的收集\n",
      "结束第 18 页的收集\n",
      "开始第 19 页的收集\n",
      "结束第 19 页的收集\n",
      "开始第 20 页的收集\n",
      "结束第 20 页的收集\n",
      "开始第 21 页的收集\n",
      "结束第 21 页的收集\n",
      "全部结束 共搜集了 21 页数据；共有 420 篇说说。\n"
     ]
    }
   ],
   "source": [
    "#driver.get(driver.current_url+'/311')\n",
    "# time.sleep(1)\n",
    "driver.get(original_url)\n",
    "driver.switch_to_frame(driver.find_element_by_class_name('app_canvas_frame'))\n",
    "allPagesNum = allPages()\n",
    "TIMES_CONSTENTS = []\n",
    "for i in range(allPagesNum):\n",
    "    print ('开始第',i+1,'页的收集')\n",
    "    times_contents = onePageInfo()\n",
    "    TIMES_CONSTENTS+=times_contents\n",
    "    print ('结束第 '+str(i+1)+' 页的收集')\n",
    "    if i== allPagesNum-1:\n",
    "        print ('全部结束','共搜集了',allPagesNum,'页数据；共有',len(TIMES_CONSTENTS),'篇说说。')\n",
    "    else:\n",
    "        nextPage(i)"
   ]
  },
  {
   "cell_type": "code",
   "execution_count": 102,
   "metadata": {
    "collapsed": true
   },
   "outputs": [],
   "source": [
    "import pandas as pd"
   ]
  },
  {
   "cell_type": "code",
   "execution_count": 104,
   "metadata": {
    "collapsed": false
   },
   "outputs": [],
   "source": [
    "p = pd.DataFrame(TIMES_CONSTENTS)"
   ]
  },
  {
   "cell_type": "code",
   "execution_count": 138,
   "metadata": {
    "collapsed": true
   },
   "outputs": [],
   "source": [
    "driver.get('http://user.qzone.qq.com/915537522/311')"
   ]
  },
  {
   "cell_type": "code",
   "execution_count": 139,
   "metadata": {
    "collapsed": false
   },
   "outputs": [
    {
     "data": {
      "text/plain": [
       "'http://user.qzone.qq.com/915537522/311'"
      ]
     },
     "execution_count": 139,
     "metadata": {},
     "output_type": "execute_result"
    }
   ],
   "source": [
    "driver.current_url"
   ]
  },
  {
   "cell_type": "code",
   "execution_count": 141,
   "metadata": {
    "collapsed": false
   },
   "outputs": [
    {
     "data": {
      "text/plain": [
       "<selenium.webdriver.remote.webelement.WebElement (session=\"0f1c8c60-cd38-11e5-8390-5b0f90f0b3a5\", element=\":wdc:1454814060498\")>"
      ]
     },
     "execution_count": 141,
     "metadata": {},
     "output_type": "execute_result"
    }
   ],
   "source": [
    "driver.find_element_by_class_name('tips')"
   ]
  },
  {
   "cell_type": "code",
   "execution_count": 142,
   "metadata": {
    "collapsed": false
   },
   "outputs": [
    {
     "name": "stderr",
     "output_type": "stream",
     "text": [
      "//anaconda/envs/python3/lib/python3.5/site-packages/bs4/__init__.py:166: UserWarning: No parser was explicitly specified, so I'm using the best available HTML parser for this system (\"lxml\"). This usually isn't a problem, but if you run this code on another system, or in a different virtual environment, it may use a different parser and behave differently.\n",
      "\n",
      "To get rid of this warning, change this:\n",
      "\n",
      " BeautifulSoup([your markup])\n",
      "\n",
      "to this:\n",
      "\n",
      " BeautifulSoup([your markup], \"lxml\")\n",
      "\n",
      "  markup_type=markup_type))\n"
     ]
    }
   ],
   "source": [
    "b0 = BeautifulSoup(driver.page_source)"
   ]
  },
  {
   "cell_type": "code",
   "execution_count": 145,
   "metadata": {
    "collapsed": false
   },
   "outputs": [
    {
     "data": {
      "text/plain": [
       "True"
      ]
     },
     "execution_count": 145,
     "metadata": {},
     "output_type": "execute_result"
    }
   ],
   "source": [
    "b0.find('p',class_='tips').get_text()==\"主人设置了权限，您可通过以下方式访问\""
   ]
  }
 ],
 "metadata": {
  "kernelspec": {
   "display_name": "Python 3",
   "language": "python",
   "name": "python3"
  },
  "language_info": {
   "codemirror_mode": {
    "name": "ipython",
    "version": 3
   },
   "file_extension": ".py",
   "mimetype": "text/x-python",
   "name": "python",
   "nbconvert_exporter": "python",
   "pygments_lexer": "ipython3",
   "version": "3.5.1"
  }
 },
 "nbformat": 4,
 "nbformat_minor": 0
}
