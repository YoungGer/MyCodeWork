{
 "cells": [
  {
   "cell_type": "code",
   "execution_count": 3,
   "metadata": {
    "collapsed": false
   },
   "outputs": [],
   "source": [
    "import requests\n",
    "from bs4 import BeautifulSoup\n",
    "from selenium import  webdriver"
   ]
  },
  {
   "cell_type": "markdown",
   "metadata": {},
   "source": [
    "# 登陆"
   ]
  },
  {
   "cell_type": "code",
   "execution_count": 6,
   "metadata": {
    "collapsed": false
   },
   "outputs": [
    {
     "name": "stderr",
     "output_type": "stream",
     "text": [
      "Exception ignored in: <bound method Service.__del__ of <selenium.webdriver.phantomjs.service.Service object at 0x104f8d1d0>>\n",
      "Traceback (most recent call last):\n",
      "  File \"//anaconda/envs/python3/lib/python3.5/site-packages/selenium-2.51.1-py3.5.egg/selenium/webdriver/common/service.py\", line 151, in __del__\n",
      "    self.stop()\n",
      "  File \"//anaconda/envs/python3/lib/python3.5/site-packages/selenium-2.51.1-py3.5.egg/selenium/webdriver/common/service.py\", line 123, in stop\n",
      "    if self.process is None:\n",
      "AttributeError: 'Service' object has no attribute 'process'\n"
     ]
    }
   ],
   "source": [
    "driver = webdriver.PhantomJS('/usr/local/phantomjs/bin/phantomjs')"
   ]
  },
  {
   "cell_type": "code",
   "execution_count": 48,
   "metadata": {
    "collapsed": true
   },
   "outputs": [],
   "source": [
    "driver.get('http://i.qq.com/')"
   ]
  },
  {
   "cell_type": "code",
   "execution_count": 9,
   "metadata": {
    "collapsed": false
   },
   "outputs": [
    {
     "data": {
      "text/plain": [
       "'http://i.qq.com/'"
      ]
     },
     "execution_count": 9,
     "metadata": {},
     "output_type": "execute_result"
    }
   ],
   "source": [
    "driver.current_url"
   ]
  },
  {
   "cell_type": "code",
   "execution_count": 11,
   "metadata": {
    "collapsed": false
   },
   "outputs": [
    {
     "data": {
      "text/plain": [
       "'/Users/yangguangyao/Documents/dev/Scrapy/Practice'"
      ]
     },
     "execution_count": 11,
     "metadata": {},
     "output_type": "execute_result"
    }
   ],
   "source": [
    "pwd"
   ]
  },
  {
   "cell_type": "code",
   "execution_count": 12,
   "metadata": {
    "collapsed": false,
    "scrolled": true
   },
   "outputs": [
    {
     "name": "stderr",
     "output_type": "stream",
     "text": [
      "Exception ignored in: <bound method Service.__del__ of <selenium.webdriver.phantomjs.service.Service object at 0x104fbb2b0>>\n",
      "Traceback (most recent call last):\n",
      "  File \"//anaconda/envs/python3/lib/python3.5/site-packages/selenium-2.51.1-py3.5.egg/selenium/webdriver/common/service.py\", line 151, in __del__\n",
      "    self.stop()\n",
      "  File \"//anaconda/envs/python3/lib/python3.5/site-packages/selenium-2.51.1-py3.5.egg/selenium/webdriver/common/service.py\", line 123, in stop\n",
      "    if self.process is None:\n",
      "AttributeError: 'Service' object has no attribute 'process'\n"
     ]
    },
    {
     "data": {
      "text/plain": [
       "True"
      ]
     },
     "execution_count": 12,
     "metadata": {},
     "output_type": "execute_result"
    }
   ],
   "source": [
    "driver.save_screenshot('show')"
   ]
  },
  {
   "cell_type": "code",
   "execution_count": 49,
   "metadata": {
    "collapsed": false
   },
   "outputs": [
    {
     "data": {
      "text/plain": [
       "<selenium.webdriver.remote.webelement.WebElement (session=\"a3a0ab50-ccde-11e5-9801-ed84ff1f69e5\", element=\":wdc:1454771484907\")>"
      ]
     },
     "execution_count": 49,
     "metadata": {},
     "output_type": "execute_result"
    }
   ],
   "source": [
    "driver.find_element_by_id('login_frame')"
   ]
  },
  {
   "cell_type": "code",
   "execution_count": 50,
   "metadata": {
    "collapsed": false
   },
   "outputs": [],
   "source": [
    "driver.switch_to_frame(driver.find_element_by_id('login_frame'))"
   ]
  },
  {
   "cell_type": "code",
   "execution_count": 51,
   "metadata": {
    "collapsed": false
   },
   "outputs": [
    {
     "data": {
      "text/plain": [
       "'<!DOCTYPE html PUBLIC \"-//W3C//DTD XHTML 1.0 Transitional//EN\" \"http://www.w3.org/TR/xhtml1/DTD/xhtml1-transitional.dtd\"><html xmlns=\"http://www.w3.org/1999/xhtml\"><head><meta http-equiv=\"Content-Type\" content=\"text/html; charset=utf-8\"><script>!function(){window.onerror=function(n,o,e){var t=\"https:\"==location.protocol?\"https://ssl.qq.com/ptlogin/cgi-bin/ptlogin_report?\":\"http://log.wtlogin.qq.com/cgi-bin/ptlogin_report?\",_=document.createElement(\"img\"),i=encodeURIComponent(n+\"|_|\"+o+\"|_|\"+e+\"|_|\"+window.navigator.userAgent);_.src=t+\"id=195279&msg=\"+i+\"&v=\"+Math.random()}}();var g_cdn_js_fail=!1,pt={};pt.str={no_uin:\"您还没有输入帐号！\",no_pwd:\"您还没有输入密码！\",no_vcode:\"您还没有输入验证码！\",inv_uin:\"请输入正确的帐号！\",inv_vcode:\"请输入完整的验证码！\",qlogin_expire:\"您所选择号码对应的QQ已经失效，请检查该号码对应的QQ是否已经被关闭。\",other_login:\"帐号登录\",h_pt_login:\"帐号密码登录\",otherqq_login:\"QQ帐号密码登录\"},pt.ptui={s_url:\"http\\\\x3A\\\\x2F\\\\x2Fqzs.qq.com\\\\x2Fqzone\\\\x2Fv5\\\\x2Floginsucc.html\\\\x3Fpara\\\\x3Dizone\",proxy_url:\"http\\\\x3A\\\\x2F\\\\x2Fqzs.qq.com\\\\x2Fqzone\\\\x2Fv6\\\\x2Fportal\\\\x2Fproxy.html\",jumpname:encodeURIComponent(\"\"),mibao_css:encodeURIComponent(\"\"),defaultUin:\"\",lockuin:parseInt(\"0\"),href:\"http\\\\x3A\\\\x2F\\\\x2Fxui.ptlogin2.qq.com\\\\x2Fcgi-bin\\\\x2Fxlogin\\\\x3Fproxy_url\\\\x3Dhttp\\\\x253A\\\\x2F\\\\x2Fqzs.qq.com\\\\x2Fqzone\\\\x2Fv6\\\\x2Fportal\\\\x2Fproxy.html\\\\x26daid\\\\x3D5\\\\x26\\\\x26hide_title_bar\\\\x3D1\\\\x26low_login\\\\x3D0\\\\x26qlogin_auto_login\\\\x3D1\\\\x26no_verifyimg\\\\x3D1\\\\x26link_target\\\\x3Dblank\\\\x26appid\\\\x3D549000912\\\\x26style\\\\x3D22\\\\x26target\\\\x3Dself\\\\x26s_url\\\\x3Dhttp\\\\x253A\\\\x252F\\\\x252Fqzs.qq.com\\\\x252Fqzone\\\\x252Fv5\\\\x252Floginsucc.html\\\\x253Fpara\\\\x253Dizone\\\\x26pt_qr_app\\\\x3D\\\\x25E6\\\\x2589\\\\x258B\\\\x25E6\\\\x259C\\\\x25BAQQ\\\\x25E7\\\\x25A9\\\\x25BA\\\\x25E9\\\\x2597\\\\x25B4\\\\x26pt_qr_link\\\\x3Dhttp\\\\x253A\\\\x2F\\\\x2Fz.qzone.com\\\\x2Fdownload.html\\\\x26self_regurl\\\\x3Dhttp\\\\x253A\\\\x2F\\\\x2Fqzs.qq.com\\\\x2Fqzone\\\\x2Fv6\\\\x2Freg\\\\x2Findex.html\\\\x26pt_qr_help_link\\\\x3Dhttp\\\\x253A\\\\x2F\\\\x2Fz.qzone.com\\\\x2Fdownload.html\",login_sig:\"\",clientip:\"\",serverip:\"\",version:\"201203081004\",ptui_version:encodeURIComponent(\"10149\"),isHttps:!1,cssPath:\"http://imgcache.qq.com/ptlogin/v4/style/32\",domain:encodeURIComponent(\"qq.com\"),fromStyle:parseInt(\"\"),pt_3rd_aid:encodeURIComponent(\"0\"),appid:encodeURIComponent(\"549000912\"),lang:encodeURIComponent(\"2052\"),style:encodeURIComponent(\"32\"),low_login:encodeURIComponent(\"0\"),daid:encodeURIComponent(\"5\"),regmaster:encodeURIComponent(\"\"),enable_qlogin:\"1\",noAuth:\"0\",target:isNaN(parseInt(\"0\"))?{_top:1,_self:0,_parent:2}[\"0\"]:parseInt(\"0\"),csimc:encodeURIComponent(\"0\"),csnum:encodeURIComponent(\"0\"),authid:encodeURIComponent(\"0\"),auth_mode:encodeURIComponent(\"0\"),pt_qzone_sig:\"0\",pt_light:\"0\",pt_vcode_v1:\"1\",pt_ver_md5:\"000D07E83572ABC1DDC8BBDD06FCC5B5A7F66243422A10411DF37403\",gzipEnable:\"1\"};</script><style type=\"text/css\" id=\"main_css\">html{overflow:hidden}body{font-family:Tahoma,Verdana,Arial,宋体;font-size:12px;margin:0}ul{padding:0;margin:0}ul li{list-style-type:none}a{text-decoration:none}a:hover{text-decoration:underline}input[type=\"text\"]:focus,input[type=\"password\"]:focus{outline:0}input::-ms-clear,input::-ms-reveal{display:none;width:0;height:0}.grayscale{-webkit-filter:grayscale(100%);-moz-filter:grayscale(100%);-ms-filter:grayscale(100%);-o-filter:grayscale(100%);filter:grayscale(100%);filter:url(\"data:image/svg+xml;utf8,<svgxmlns=\\\\\\'http://www.w3.org/2000/svg\\\\\\'><filterid=\\\\\\'grayscale\\\\\\'><feColorMatrixtype=\\\\\\'matrix\\\\\\'values=\\\\\\'0.33330.33330.3333000.33330.33330.3333000.33330.33330.33330000010\\\\\\'/></filter></svg>#grayscale\");filter:progid:DXImageTransform.Microsoft.BasicImage(grayscale=1)}.uncheck{background:url(http://imgcache.qq.com/ptlogin/v4/style/33/images/icon_3_tiny.png) no-repeat -74px -163px;_background:url(http://imgcache.qq.com/ptlogin/v4/style/33/images/icon_3_8.png) no-repeat -74px -163px}.checked{background:url(http://imgcache.qq.com/ptlogin/v4/style/33/images/icon_3_tiny.png) no-repeat -92px -163px;_background:url(http://imgcache.qq.com/ptlogin/v4/style/33/images/icon_3_8.png) no-repeat -92px -163px}.login,.login_no_qlogin{margin:0 auto;width:418px;border:2px solid #eee;position:relative}.header{height:50px;border-bottom:1px solid #e2e2e2;position:relative;font-family:\"微软雅黑\"}.header .switch{height:45px;position:absolute;left:60px;bottom:0;font-size:16px}.header .switch #switcher_qlogin{margin-right:110px}.header .switch .switch_btn{color:#999;display:inline-block;height:45px;line-height:45px;outline:0}.header .switch .switch_btn_focus{color:#333;display:inline-block;height:45px;line-height:45px;outline:0}.header .switch .switch_btn:hover{color:#333;text-decoration:none}.header .switch .switch_btn_focus:hover{text-decoration:none}.header .switch .switch_bottom{position:absolute;bottom:-1px;border-bottom:2px solid #848484}.header .close{width:47px;height:20px;float:right;background:url(http://imgcache.qq.com/ptlogin/v4/style/33/images/icon_3_tiny.png) no-repeat -221px -126px;_background:url(http://imgcache.qq.com/ptlogin/v4/style/33/images/icon_3_8.png) no-repeat -221px -126px;outline:0}.header .close:hover{background-position:-221px -151px}.login_no_qlogin .header{border:0;height:40px}.login_no_qlogin .header .switch{height:40px;position:absolute;left:20px;top:10px;font-size:22px}.login_no_qlogin .header .switch .switch_bottom{display:none}.login_no_qlogin .header .switch .switch_btn{display:none}.login_no_qlogin .header .switch .switch_btn_focus{color:#333;cursor:default;text-decoration:none;display:inline-block;height:30px;line-height:30px}.web_login{width:418px;position:relative;padding-bottom:65px}.web_login .tips{height:50px;width:270px;position:relative;margin:0 auto;z-index:11}.loginTips{position:absolute;height:50px;z-index:100}.loginTips .error_tips{padding:5px;border:1px solid #dad699;background:#f9f5c7;display:none;position:absolute;bottom:0;border-radius:2px;width:258px;left:74px}.loginTips .error_tips .error_logo{position:absolute;left:3px;height:18px;line-height:18px;width:18px;background:url(http://imgcache.qq.com/ptlogin/v4/style/33/images/icon_3_tiny.png) no-repeat 0 -162px;_background:url(http://imgcache.qq.com/ptlogin/v4/style/33/images/icon_3_8.png) no-repeat 0 -162px}.loginTips .loading_tips{text-align:center;height:24px;display:none;position:absolute;top:10px;width:370px}.loginTips .error_tips .err_m{display:inline-block;padding-left:20px;line-height:18px;color:#434343;vertical-align:middle;text-align:left}.web_login .operate_tips{display:none;padding:8px;border:1px solid #dad699;background:#f9f5c7;position:absolute;bottom:-3px;border-radius:2px}.web_login .operate_tips .tips_link{color:#f39800}.web_login .operate_tips .down_row{position:absolute;bottom:-6px;_bottom:-7px;left:20px;width:12px;height:6px;background:url(http://imgcache.qq.com/ptlogin/v4/style/33/images/icon_3_tiny.png) no-repeat -162px -161px;_background:url(http://imgcache.qq.com/ptlogin/v4/style/33/images/icon_3_8.png) no-repeat -162px -161px;font-size:1px}.web_login .operate_tips .operate_content{width:100%;text-align:left}.web_login .login_form{width:272px;margin:0 auto}.web_login .inputOuter{width:272px;height:42px;background:url(http://imgcache.qq.com/ptlogin/v4/style/33/images/icon_3_tiny.png) no-repeat -1px -1px;_background:url(http://imgcache.qq.com/ptlogin/v4/style/33/images/icon_3_8.png) no-repeat -1px -1px}.web_login .inputOuter_focus{width:272px;height:42px;background:url(http://imgcache.qq.com/ptlogin/v4/style/33/images/icon_3_tiny.png) no-repeat -1px -45px;_background:url(http://imgcache.qq.com/ptlogin/v4/style/33/images/icon_3_8.png) no-repeat -1px -45px}.web_login .inputstyle{width:258px;position:relative;top:2px;left:2px;height:18px;padding:11px 0 11px 10px;line-height:18px;border:0;background:0;color:#333;font-family:Verdana,Tahoma,Arial;font-size:16px}.web_login .input_tips,.web_login .input_tips_focus{position:absolute;top:13px;+top:15px;left:13px;font-size:14px;line-height:16px;color:#aaa;cursor:text}.web_login .input_tips_focus{color:#ddd}.web_login .uinArea{height:55px;position:relative;z-index:10}.web_login .uin_del{width:21px;height:21px;cursor:pointer;position:absolute;right:15px;top:10px;background:url(http://imgcache.qq.com/ptlogin/v4/style/33/images/icon_3_tiny.png) no-repeat -116px -160px;_background:url(http://imgcache.qq.com/ptlogin/v4/style/33/images/icon_3_8.png) no-repeat -116px -160px;display:none}.web_login .uin_del:hover{background-position:-139px -160px}.web_login .email_list{border:1px solid #70c2ec;background:#fff;width:266px;position:absolute;z-index:10;display:none;border-radius:1px;padding:1px;left:2px}.web_login .email_list li,.web_login .email_list p{height:31px;line-height:31px;margin:0;overflow:hidden;padding-left:10px}.web_login .email_list p{height:16px;line-height:10px}.web_login .email_list .hover{background:#cbe2fa}.web_login .pwdArea{height:55px;position:relative;z-index:3}.web_login .lock_tips{position:absolute;top:32px;left:-15px;height:16px;padding:5px;text-align:center;display:none;border:1px solid #dad699;background:#f9f5c7;border-radius:2px}.web_login .lock_tips .lock_tips_row{position:absolute;top:-6px;left:25px;width:12px;height:6px;background:url(http://imgcache.qq.com/ptlogin/v4/style/33/images/icon_3_tiny.png) no-repeat -162px -168px;_background:url(http://imgcache.qq.com/ptlogin/v4/style/33/images/icon_3_8.png) no-repeat -162px -168px}.web_login .verifyArea{display:none;height:120px;position:relative}.web_login .verifyinputArea{height:55px}.web_login .verifycode{color:#333;font-size:16px}.web_login .verifyimgArea{position:relative;height:55px;cursor:pointer}.web_login .verifyimgArea .verifyimg{height:55px;width:150px;position:absolute;left:0}.web_login .verifyimgArea .verifyimg_tips{position:absolute;left:165px;top:15px;color:#000}.web_login .submit{position:relative;height:40px}.web_login .login_button{position:absolute;left:0;outline:0}.web_login .login_button .btn{width:115px;height:35px;line-height:35px;border:0;font-size:18px;font-weight:bold;color:#fff;cursor:pointer;background:url(http://imgcache.qq.com/ptlogin/v4/style/33/images/icon_3_tiny.png) no-repeat 0 -90px;_background:url(http://imgcache.qq.com/ptlogin/v4/style/33/images/icon_3_8.png) no-repeat 0 -90px}.web_login .login_button:hover .btn{background-position:-116px -90px}.web_login .login_button:hover{text-decoration:none}.web_login .low_login{position:absolute;left:140px;top:10px}.web_login .low_login .uncheck{float:left;height:18px;width:18px}.web_login .low_login .checked{float:left;height:18px;width:18px}.web_login .low_login .low_login_wording{height:16px;line-height:16px;line-height:18px\\\\9;cursor:pointer;margin-left:5px}.bottom{height:16px;margin-bottom:8px;width:410px;position:absolute;bottom:0;right:10px;text-align:right;font-size:12px}.bottom .link{color:#666}.bottom .dotted{color:#bfbfbf;margin:0 5px}.bottom .vip_link:hover{color:red}.bottom .low_login{position:absolute;bottom:0;left:10px}.bottom .low_login .uncheck{float:left;height:18px;width:18px}.bottom .low_login .checked{float:left;height:18px;width:18px}.bottom .low_login .low_login_wording{height:16px;line-height:16px;line-height:18px\\\\9;cursor:pointer;margin-left:5px}.web_qr_login{position:relative;height:265px;overflow:hidden}.web_qr_login .web_qr_login_show{position:absolute;top:0}.noscript{background:none repeat scroll 0 0 #f9f5c7;border:1px solid #dad699;display:inline-block;height:24px;line-height:24px;padding:5px;text-align:center}.hide{display:none}.authLogin{background:none repeat scroll 0 0 #fff;height:315px;position:absolute;top:0;width:100%;z-index:9999;display:none}.authLogin .authHeader{height:50px;border-bottom:1px solid #e2e2e2;position:relative;font-family:\"Hiragino Sans GB\",\"微软雅黑\"}.authLogin .authHeader .title{position:absolute;top:5px;left:20px;line-height:30px;height:30px;font-size:22px}.authLogin .authTips{height:30px}.authLogin .authInfo{text-align:center}.authLogin .authWording{text-align:center;color:#a0a0a0;line-height:20px;height:35px}.authLogin .face{display:inline-block;height:120px;width:120px;text-align:center;position:relative;cursor:pointer;outline:0}.authLogin .face:focus{outline:0}.authLogin .face:hover{border:0;text-decoration:none}.authLogin .face img{width:80px;height:80px;position:absolute;top:10px;left:19px;border:0}.authLogin .face .img_out{width:88px;height:88px;position:absolute;top:4px;left:14px;background:url(http://imgcache.qq.com/ptlogin/v4/style/33/images/icon_3_tiny.png) no-repeat -0 -182px;_background:url(http://imgcache.qq.com/ptlogin/v4/style/33/images/icon_3_8.png) no-repeat -0 -182px}.authLogin .face .img_out_focus{width:88px;height:88px;position:absolute;top:5px;left:15px;background:url(http://imgcache.qq.com/ptlogin/v4/style/33/images/icon_3_tiny.png) no-repeat -91px -183px;_background:url(http://imgcache.qq.com/ptlogin/v4/style/33/images/icon_3_8.png) no-repeat -91px -183px}.authLogin .face:hover .img_out{width:88px;height:88px;position:absolute;top:5px;left:15px;background:url(http://imgcache.qq.com/ptlogin/v4/style/33/images/icon_3_tiny.png) no-repeat -91px -183px;_background:url(http://imgcache.qq.com/ptlogin/v4/style/33/images/icon_3_8.png) no-repeat -91px -183px}.authLogin .face .nick{display:inline-block;text-align:center;position:absolute;top:100px;left:0;height:20px;line-height:18px;vertical-align:middle;width:100%;overflow:hidden;color:#6f7479;font-family:Tahoma,\\\\u5fae\\\\u8f6f\\\\u96c5\\\\u9ed1,\\\\u5b8b\\\\u4f53,Verdana,Arial,sans-serif}.authLogin .red{color:red}.authLogin .face .vip_logo{width:26px;height:12px;position:absolute;top:12px;left:21px;background:url(http://imgcache.qq.com/ptlogin/v4/style/33/images/icon_3_tiny.png) no-repeat -236px -92px;_background:url(http://imgcache.qq.com/ptlogin/v4/style/33/images/icon_3_8.png) no-repeat -236px -92px}.authLogin .face .uin{display:none}.authLogin .face:hover .uin{display:block;background:#000;height:20px;width:80px;line-height:20px;position:absolute;left:20px;top:72px;filter:Alpha(opacity=50);opacity:.5;color:#fff;border-radius:0 0 4px 4px}.authLogin .face .face_mengban{background:#000;width:80px;height:80px;position:absolute;top:10px;left:20px;filter:Alpha(opacity=30);opacity:.3}.authLogin .cancleAuthOuter{margin-top:10px;text-align:center}.authLogin .cancleAuth{display:inline-block;height:14px;border:1px solid #d3d3d3;padding:3px;cursor:pointer;color:#888;text-decoration:none}.authLogin .bottom{position:absolute;bottom:-2px;left:0;width:100%;height:25px}.authLogin .low_login{position:absolute;bottom:0;left:10px}.authLogin .low_login .uncheck{float:left;height:18px;width:18px}.authLogin .low_login .checked{float:left;height:18px;width:18px}.authLogin .low_login .low_login_wording{height:16px;line-height:16px;line-height:18px\\\\9;cursor:pointer;margin-left:5px}.authLogin .feedback_authLogin{position:absolute;bottom:0;right:10px}.qlogin{height:265px;position:relative;margin:0 auto;display:none}.qlogin .qlogin_tips{color:#a0a0a0;height:30px;padding-top:40px;text-align:center}.qlogin .qlogin_select{height:160px;position:relative}.qlogin .qlogin_show{width:360px;height:200px;position:absolute;left:30px;overflow:hidden}.qlogin .qlogin_list{height:100%;position:absolute;text-align:center}.qlogin .prePage{width:25px;height:120px;position:absolute;top:70px;left:5px;text-align:center;display:none}.qlogin .nextPage{width:25px;height:120px;position:absolute;top:70px;right:10px;text-align:center;display:none}.qlogin .preRow{width:16px;height:35px;display:inline-block;margin-top:35px;background:url(http://imgcache.qq.com/ptlogin/v4/style/33/images/icon_3_tiny.png) no-repeat -181px -185px;_background:url(http://imgcache.qq.com/ptlogin/v4/style/33/images/icon_3_8.png) no-repeat -181px -185px;cursor:pointer}.qlogin .prePage:hover .preRow{background-position:-181px -228px}.qlogin .nextRow{width:16px;height:35px;display:inline-block;margin-top:35px;background:url(http://imgcache.qq.com/ptlogin/v4/style/33/images/icon_3_tiny.png) no-repeat -201px -185px;_background:url(http://imgcache.qq.com/ptlogin/v4/style/33/images/icon_3_8.png) no-repeat -201px -185px;cursor:pointer}.qlogin .nextPage:hover .nextRow{background-position:-201px -228px}.qlogin .face{display:inline-block;height:120px;width:120px;text-align:center;position:relative;cursor:pointer;none;outline:0}.qlogin .face:focus{outline:0}.qlogin .face:hover{border:0;text-decoration:none}.qlogin .face img{width:80px;height:80px;position:absolute;top:10px;left:19px;border:0}.qlogin .face .img_out{width:88px;height:88px;position:absolute;top:4px;left:14px;background:url(http://imgcache.qq.com/ptlogin/v4/style/33/images/icon_3_tiny.png) no-repeat -0 -182px;_background:url(http://imgcache.qq.com/ptlogin/v4/style/33/images/icon_3_8.png) no-repeat -0 -182px}.qlogin .face .img_out_focus{width:88px;height:88px;position:absolute;top:5px;left:15px;background:url(http://imgcache.qq.com/ptlogin/v4/style/33/images/icon_3_tiny.png) no-repeat -91px -183px;_background:url(http://imgcache.qq.com/ptlogin/v4/style/33/images/icon_3_8.png) no-repeat -91px -183px}.qlogin .face:hover .img_out{width:88px;height:88px;position:absolute;top:5px;left:15px;background:url(http://imgcache.qq.com/ptlogin/v4/style/33/images/icon_3_tiny.png) no-repeat -91px -183px;_background:url(http://imgcache.qq.com/ptlogin/v4/style/33/images/icon_3_8.png) no-repeat -91px -183px}.qlogin .face .nick{display:inline-block;text-align:center;position:absolute;top:100px;left:0;height:20px;line-height:18px;vertical-align:middle;width:100%;overflow:hidden;color:#6f7479;font-family:Tahoma,Verdana,Arial,sans-serif}.bottom .red,.qlogin .face .red{color:red}.qlogin .face .vip_logo{width:26px;height:12px;position:absolute;top:12px;left:21px;background:url(http://imgcache.qq.com/ptlogin/v4/style/33/images/icon_3_tiny.png) no-repeat -236px -92px;_background:url(http://imgcache.qq.com/ptlogin/v4/style/33/images/icon_3_8.png) no-repeat -236px -92px}.qlogin .face .uin{display:none}.qlogin .face .uin_menban{display:none}.qlogin .face:hover .uin_menban{display:block;height:20px;width:80px;line-height:20px;position:absolute;left:20px;top:72px;background:#000;filter:Alpha(opacity=50);opacity:.5;border-radius:0 0 4px 4px}.qlogin .face:hover .uin{display:block;height:20px;width:80px;line-height:20px;position:absolute;left:20px;top:72px;color:#fff}.qlogin .face .face_mengban{background:#000;width:80px;height:80px;position:absolute;top:10px;left:20px;filter:Alpha(opacity=30);opacity:.3}.qlogin .tips{height:60px;margin-top:20px}.qlogin .tips_logo{display:none}.qlogin .err_m{display:inline-block;height:18px;vertical-align:middle;line-height:18px;color:#a0a0a0}.qlogin .wording_tips{text-align:center;height:25px}.qlogin .loading_tips{text-align:center;height:25px;visibility:hidden}.qlogin .low_login{position:absolute;left:12px;bottom:6px;height:18px}.qlogin .low_login .uncheck{float:left;height:18px;width:18px}.qlogin .low_login .checked{float:left;height:18px;width:18px}.qlogin .low_login .low_login_wording{float:left;height:16px;line-height:16px;line-height:18px\\\\9;margin-left:5px;color:#b5bbc1;cursor:pointer}.qlogin .qr_0{display:inline-block;height:100%;width:150px;text-align:center;position:relative}.qlogin .qr_0 a{outline:0}.qlogin .qr_0 .qr_short_tips,.qlogin .qr_0 .qr_safe_login{display:none}.qlogin .qr_0 .qr_info_link{background:url(http://imgcache.qq.com/ptlogin/v4/style/33/images/icon_3_tiny.png) no-repeat scroll 0 -541px transparent;_background:url(http://imgcache.qq.com/ptlogin/v4/style/33/images/icon_3_8.png) no-repeat 0 -541px;color:gray;display:inline-block;height:30px;line-height:30px;text-decoration:none;width:152px}.qlogin .qr_0 .qr_info_link:hover{background-position:0 -573px;text-decoration:none}.qlogin .qr_0 .qr_info_link_en{text-decoration:none;display:inline-block;width:152px;height:38px;line-height:18px;color:gray;background:url(http://imgcache.qq.com/ptlogin/v4/style/33/images/icon_3_tiny.png) no-repeat 0 -606px;_background:url(http://imgcache.qq.com/ptlogin/v4/style/33/images/icon_3_8.png) no-repeat 0 -606px}.qlogin .qr_0 .qr_info_link_en:hover{background-position:0 -647px;text-decoration:none}.qlogin .qr_0 .qr_safe_tips{height:20px;line-height:20px;font-size:14px;font-weight:bold;text-align:center;margin-left:5px}.qlogin .qr_0 .qrImg{position:absolute;height:130px;width:130px;left:12px;top:30px;border:1px solid #d3d3d3;z-index:1000}.qlogin .qr_0 .qr_app_name{display:inline-block;text-align:center;position:absolute;bottom:0;left:4px;vertical-align:middle;width:100%;overflow:hidden}.qlogin .qr_0 .qr_mengban,.qlogin .qr_0 .qrlogin_img_out{background:#000;filter:Alpha(opacity=50);opacity:.5;height:134px;left:11px;opacity:.5;position:absolute;top:29px;width:134px;z-index:1000}.qlogin .qr_0 .qrlogin_img_out{filter:Alpha(opacity=1);opacity:.01}.qlogin .qr_0 .qr_invalid_tips{color:#fff;cursor:pointer;left:11px;line-height:20px;position:absolute;text-align:center;top:75px;width:134px;z-index:1000}.qlogin .qr_1{display:inline-block;height:120px;width:120px;text-align:center;position:relative}.qlogin .qr_1 .qr_info_link,.qlogin .qr_1 .qr_info_link_en{display:none}.qlogin .qr_1 .qrImg{height:82px;left:17px;position:absolute;top:8px;width:82px;border:1px solid #d3d3d3}.qlogin .qr_1 .qr_app_name{display:inline-block;text-align:center;position:absolute;top:100px;left:0;height:20px;line-height:18px;vertical-align:middle;width:100%;overflow:hidden}.qlogin .qr_1 .qr_app_name a{cursor:pointer;outline:0}.qlogin .qr_short_tips{color:#3481cf}.qlogin .qr_1 .qr_tips{position:absolute;top:30;left:0;width:100px;height:150px;display:none}.qlogin .qr_invalid{display:none}.qlogin .qr_1 .qr_mengban,.qlogin .qr_1 .qrlogin_img_out{background:#000;width:84px;height:84px;position:absolute;top:8px;left:17px;filter:Alpha(opacity=40);opacity:.4;z-index:1000}.qlogin .qr_1 .qrlogin_img_out{filter:Alpha(opacity=1);opacity:.01}.qlogin .qr_1 .qr_invalid_tips{color:#fff;cursor:pointer;left:17px;line-height:20px;position:absolute;text-align:center;top:30px;width:85px;z-index:1000}.qlogin .qr_1 .qr_safe_tips{display:none}.qrlogin_step2{display:none;position:absolute;width:100%;height:100%;left:0;top:0;background:#fff;z-index:1000}.qrlogin_step2 .step2_outer{height:110px;margin:50px 0 0 20px;padding:80px 0 0 115px;background:url(http://imgcache.qq.com/ptlogin/v4/style/33/images/icon_3_tiny.png) #fff no-repeat 0 -348px;_background:url(http://imgcache.qq.com/ptlogin/v4/style/33/images/icon_3_8.png) #fff no-repeat 0 -348px}.qrlogin_step2 .qr_h3{text-align:left;margin:0;padding-bottom:20px;font-size:14px;font-weight:bold}.qrlogin_step2 .goBack{color:#b4b4b4}.qrlogin_step2 .goBack a{color:#3481cf}.qr_tips{display:none;position:absolute;left:246px;top:70px;height:200px;width:160px;z-index:999}.qr_tips .qr_tips_menban{opacity:.5;filter:alpha(opacity=50);background:#fff;width:100%;height:100%}.qr_tips .qr_tips_pic{width:160px;height:196px;position:absolute;top:0}.qr_tips .qr_tips_pic_chs,.qr_tips .qr_tips_pic_cht,.qr_tips .qr_tips_pic_en{background:url(http://imgcache.qq.com/ptlogin/v4/style/20/images/shouQ_v2/small_24_tiny.png) no-repeat 0 0;background:url(http://imgcache.qq.com/ptlogin/v4/style/20/images/shouQ_v2/small_8.png) no-repeat 0 0\\\\9}.newVcodeArea{background:none repeat scroll 0 0 #fff;height:315px;position:absolute;top:0;width:100%;z-index:9999;display:none}.login,.login_no_qlogin{background-color:#fff;}.header .logo,.authHeader .logo{background:url(http://imgcache.qq.com/ptlogin/v4/style/11/images/icon_24_c_3.png) no-repeat;;background-position:0 -280px;}</style><script type=\"text/javascript\" charset=\"utf-8\" src=\"http://imgcache.qq.com/ptlogin/ver/10149/js/c_login_2.js?max_age=604800&amp;ptui_identifier=000DEC345627A8CA8409BB638399C30132D1640F5C646815BAA193AEA6\"></script></head><body><div class=\"login\" id=\"login\"><div id=\"header\" class=\"header\"><div class=\"switch\" id=\"switch\"><a class=\"switch_btn_focus\" hidefocus=\"true\" id=\"switcher_qlogin\" href=\"javascript:void(0);\" tabindex=\"7\">快速登录</a> <a class=\"switch_btn\" hidefocus=\"true\" id=\"switcher_plogin\" href=\"javascript:void(0);\" tabindex=\"8\">帐号密码登录</a><div class=\"switch_bottom\" id=\"switch_bottom\" style=\"left: 0px; width: 64px;\"></div></div></div><div class=\"loginTips\"><div class=\"error_tips\" id=\"error_tips\" style=\"display: block;\"><span class=\"error_logo\" id=\"error_logo\"></span> <span class=\"err_m\" id=\"err_m\">快速登录异常，试试 <a class=\"tips_link\" style=\"color: #29B1F1\" href=\"http://im.qq.com/macqq/index.shtml#im.qqformac.plusdown\" target=\"_blank\">安装插件</a> 并重启浏览器</span></div><div class=\"loading_tips\" id=\"loading_tips\" style=\"display: none;\"><span id=\"loading_wording\">登录中</span> <img id=\"loading_img\" place_src=\"http://imgcache.qq.com/ptlogin/v4/style/0/images/load.gif\" align=\"absmiddle\" src=\"http://imgcache.qq.com/ptlogin/v4/style/0/images/load.gif\"></div></div><div class=\"qlogin\" id=\"qlogin\" style=\"display: block;\"><div class=\"qlogin_tips\" id=\"qlogin_tips\" style=\"display: none;\">请用<a class=\"qr_short_tips\" href=\"http://im.qq.com/mobileqq/#from=login\" target=\"_blank\">QQ手机版</a>扫描二维码，或点击头像登录</div><a title=\"上一页\" class=\"prePage\" id=\"prePage\" href=\"javascript:void(0);\"><span class=\"preRow\" tabindex=\"6\"></span></a><div class=\"qlogin_show\" id=\"qlogin_show\" style=\"top: 25px;\"><div class=\"qlogin_list\" id=\"qlogin_list\" style=\"width: 364px;\"><span id=\"qr_area\" class=\"qr_0\"><span class=\"qr_safe_tips\">安全登录，防止被盗</span> <img id=\"qrlogin_img\" alt=\"\" class=\"qrImg\" src=\"http://ptlogin2.qq.com/ptqrshow?appid=549000912&amp;e=2&amp;l=M&amp;s=3&amp;d=72&amp;v=4&amp;t=0.3965678552631289&amp;daid=5\"> <span class=\"qr_app_name\"><span class=\"qr_safe_login\">安全登录</span> <a hidefocus=\"true\" draggable=\"false\" class=\"qr_info_link\" href=\"http://im.qq.com/mobileqq/#from=login\" target=\"_blank\">使用QQ手机版扫描二维码</a></span> <span class=\"qrlogin_img_out\" onmouseover=\"pt.plogin.showQrTips()\" onmouseout=\"pt.plogin.hideQrTips()\"></span> <span id=\"qr_invalid\" class=\"qr_invalid\" onclick=\"pt.plogin.begin_qrlogin()\" style=\"display: none;\"><span id=\"qr_mengban\" class=\"qr_mengban\"></span> <span id=\"qr_invalid_tips\" class=\"qr_invalid_tips\">二维码失效<br>请点击刷新</span></span></span></div></div><a title=\"下一页\" class=\"nextPage\" id=\"nextPage\" href=\"javascript:void(0);\"><span class=\"nextRow\" tabindex=\"7\"></span></a></div><div class=\"web_qr_login\" id=\"web_qr_login\" style=\"display: none;\"><div class=\"web_qr_login_show\" id=\"web_qr_login_show\"><div class=\"web_login\" id=\"web_login\"><div class=\"tips\" id=\"tips\"><noscript id=\"noscript_area\">&lt;span class=\"noscript\"&gt; 您的浏览器脚本被禁用了， &lt;a href=\"/assistant/noscript.html\" target=\"_blank\" style=\"color: #29B1F1\"&gt;查看启用方法&lt;/a&gt; &lt;/span&gt; &lt;img id=\"noscript_img\" style=\"width:1px;height:1px;\" src=\"https://ui.ptlogin2.qq.com/cgi-bin/report?id=301240\" /&gt;</noscript><div class=\"operate_tips\" id=\"operate_tips\"><span class=\"operate_content\">手机号码也可登录哦， <a class=\"tips_link\" id=\"bind_account\" href=\"javascript:void(0);\">登录个人中心绑定</a></span> <span class=\"down_row\"></span></div></div><div class=\"login_form\"><form id=\"loginform\" autocomplete=\"off\" name=\"loginform\" action=\"\" method=\"post\" target=\"_self\" style=\"margin:0\"><div class=\"uinArea\" id=\"uinArea\"><label class=\"input_tips\" id=\"uin_tips\" for=\"u\">支持QQ号/邮箱/手机号登录</label><div class=\"inputOuter\"><input type=\"text\" class=\"inputstyle\" id=\"u\" name=\"u\" value=\"\" tabindex=\"1\"> <a class=\"uin_del\" id=\"uin_del\" href=\"javascript:void(0);\"></a></div><ul class=\"email_list\" id=\"email_list\"></ul></div><div class=\"pwdArea\" id=\"pwdArea\"><label class=\"input_tips\" id=\"pwd_tips\" for=\"p\">密码</label><div class=\"inputOuter\"><input type=\"password\" class=\"inputstyle password\" id=\"p\" name=\"p\" value=\"\" maxlength=\"16\" tabindex=\"2\"></div><div class=\"lock_tips\" id=\"caps_lock_tips\"><span class=\"lock_tips_row\"></span> <span>大写锁定已打开</span></div></div><div class=\"verifyArea\" id=\"verifyArea\"><div class=\"verifyinputArea\" id=\"verifyinputArea\"><label class=\"input_tips\" id=\"vc_tips\" for=\"verifycode\">验证码</label><div class=\"inputOuter\"><input name=\"verifycode\" type=\"text\" class=\"inputstyle verifycode\" id=\"verifycode\" value=\"\" tabindex=\"3\"></div></div><div class=\"verifyimgArea\" id=\"verifyimgArea\"><img class=\"verifyimg\" id=\"verifyimg\" title=\"看不清，换一张\"> <a tabindex=\"4\" href=\"javascript:void(0);\" class=\"verifyimg_tips\">看不清，换一张</a></div></div><div class=\"submit\"><a class=\"login_button\" href=\"javascript:void(0);\" hidefocus=\"true\"><input type=\"submit\" tabindex=\"6\" value=\"登 录\" class=\"btn\" id=\"login_button\"></a> </div></form></div><div class=\"bottom\" id=\"bottom_web\"><a href=\"http://ptlogin2.qq.com/ptui_forgetpwd\" class=\"link\" id=\"forgetpwd\" target=\"_blank\">忘了密码？</a> <span class=\"dotted\">|</span> <a href=\"http://qzs.qq.com/qzone/v6/reg/index.html\" class=\"link\" target=\"_blank\">注册新帐号</a> <span class=\"dotted\">|</span> <a class=\"link\" id=\"feedback_web\" href=\"http://support.qq.com/write.shtml?guest=1&amp;fid=713&amp;SSTAG=hailunna\" target=\"_blank\">意见反馈</a></div></div></div></div><div id=\"qrlogin_step2\" class=\"qrlogin_step2\"><div class=\"step2_outer\"><div class=\"qr_h3\">扫描成功，请在手机上确认是否授权登录</div><div class=\"goBack\">使用其它方式登录，请 <a id=\"goBack\" href=\"javascript:void(0);\" tabindex=\"14\">返回</a></div></div></div><div id=\"qr_tips\" class=\"qr_tips\"><div class=\"qr_tips_menban\" id=\"qr_tips_menban\"></div><div class=\"qr_tips_pic qr_tips_pic_chs\" id=\"qr_tips_pic\"></div></div><div class=\"bottom hide\" id=\"bottom_qlogin\" style=\"display: block;\"> <a href=\"javascript:void(0);\" class=\"link vip_link hide\" id=\"vip_link2\" target=\"_blank\">开通QQ会员</a> <span class=\"dotted hide\" id=\"vip_dot\">|</span> <a href=\"http://qzs.qq.com/qzone/v6/reg/index.html\" class=\"link\" target=\"_blank\">注册新帐号</a> <span class=\"dotted\">|</span> <a class=\"link\" id=\"feedback_qlogin\" href=\"http://support.qq.com/write.shtml?guest=1&amp;fid=713&amp;SSTAG=hailunna\" target=\"_blank\">意见反馈</a></div><div id=\"authLogin\" class=\"authLogin\"><div class=\"authHeader\" id=\"authHeader\"><div class=\"logo\"></div><span class=\"title\">腾讯业务</span></div><div class=\"authTips\"></div><div class=\"authWording\"><span><span>点击头像，确认帐号登录</span> <span>腾讯业务</span></span></div><div class=\"authInfo\"><a class=\"face\" id=\"auth_area\" tabindex=\"1\" href=\"javascript:void(0);\" draggable=\"false\" hidefocus=\"true\"><img id=\"auth_face\"> <span id=\"auth_mengban\" class=\"\"></span> <span class=\"uin\" id=\"auth_uin\"></span> <span class=\"img_out_focus\"></span> <span class=\"nick\" id=\"auth_nick\"></span></a></div><div class=\"cancleAuthOuter\" id=\"cancleAuthOuter\"><a id=\"cancleAuth\" class=\"cancleAuth\">使用其他帐号</a></div><div class=\"bottom\"> <a class=\"link feedback_authLogin\" id=\"feedback_authLogin\" href=\"http://support.qq.com/write.shtml?guest=1&amp;fid=713&amp;SSTAG=hailunna\" target=\"_blank\">意见反馈</a></div></div><div id=\"newVcodeArea\" class=\"newVcodeArea\"></div></div><div id=\"proxy\" class=\"hide\"></div><script>function cleanCache(e){var t=document.createElement(\"iframe\");3==e.split(\"#\").length&&(e=e.substring(0,e.lastIndexOf(\"#\"))),t.src=e,t.style.display=\"none\",document.body.appendChild(t)}function loadScript(e,t,n){var o=document.createElement(\"script\");o.type=\"text/javascript\",o.charset=\"utf-8\",o.onload=o.onerror=o.onreadystatechange=function(){return window[n]?void(loadJs.onloadTime=+new Date):void(this.readyState&&(\"loaded\"!==this.readyState&&\"complete\"!==this.readyState||window[n])||(t&&t(),o.onerror=o.onreadystatechange=null))},o.src=e,document.getElementsByTagName(\"head\")[0].appendChild(o)}function ptuiV(e){e!=window.pt.ptui.ptui_version&&cleanCache(\"/clearcache.html#\"+location.href)}function checkVersion(){var e=document.createElement(\"script\");e.src=\"/ptui_ver.js?v=\"+Math.random()+\"&ptui_identifier=\"+pt.ptui.pt_ver_md5,document.body.appendChild(e)}function loadJs(){1!=loadJs.hasLoad&&(loadJs.hasLoad=!0,loadScript(\"http://imgcache.qq.com/ptlogin/ver/10149/js/c_login_2.js?max_age=604800&ptui_identifier=000DEC345627A8CA8409BB638399C30132D1640F5C646815BAA193AEA6\",function(){window.g_cdn_js_fail=!0;var e=new Image;e.src=location.protocol+\"//ui.ptlogin2.qq.com/cgi-bin/report?id=242325&union=256043\";var t=\"../js/\"+pt.ptui.ptui_version+\"/c_login_2.js?max_age=604800&ptui_identifier=000DEC345627A8CA8409BB638399C30132D1640F5C646815BAA193AEA6\";loadScript(t,function(){var t=document.getElementById(\"login_button\");t&&(t.disabled=!0),e.src=location.protocol+\"//ui.ptlogin2.qq.com/cgi-bin/report?id=280504\"},\"ptuiCB\")},\"ptuiCB\"),ready())}function ready(){window.setTimeout(checkVersion,1500)}document.addEventListener&&document.addEventListener(\"DOMContentLoaded\",loadJs),window.onload=loadJs,window.setTimeout(loadJs,5e3);</script><script src=\"/ptui_ver.js?v=0.1506551734637469&amp;ptui_identifier=000D07E83572ABC1DDC8BBDD06FCC5B5A7F66243422A10411DF37403\"></script></body></html>'"
      ]
     },
     "execution_count": 51,
     "metadata": {},
     "output_type": "execute_result"
    }
   ],
   "source": [
    "driver.page_source"
   ]
  },
  {
   "cell_type": "code",
   "execution_count": 44,
   "metadata": {
    "collapsed": true
   },
   "outputs": [],
   "source": [
    "driver.maximize_window()"
   ]
  },
  {
   "cell_type": "code",
   "execution_count": 58,
   "metadata": {
    "collapsed": true
   },
   "outputs": [],
   "source": [
    "upElement = driver.find_element_by_id('switcher_plogin')"
   ]
  },
  {
   "cell_type": "code",
   "execution_count": 63,
   "metadata": {
    "collapsed": true
   },
   "outputs": [],
   "source": [
    "upElement.click()"
   ]
  },
  {
   "cell_type": "code",
   "execution_count": 52,
   "metadata": {
    "collapsed": false
   },
   "outputs": [],
   "source": [
    "uElement = driver.find_element_by_id('u')\n",
    "pElement = driver.find_element_by_id('p')"
   ]
  },
  {
   "cell_type": "markdown",
   "metadata": {},
   "source": [
    "# debug"
   ]
  },
  {
   "cell_type": "code",
   "execution_count": 106,
   "metadata": {
    "collapsed": true
   },
   "outputs": [],
   "source": [
    "import time"
   ]
  },
  {
   "cell_type": "code",
   "execution_count": 107,
   "metadata": {
    "collapsed": true
   },
   "outputs": [],
   "source": [
    "time.sleep(2)"
   ]
  },
  {
   "cell_type": "code",
   "execution_count": 99,
   "metadata": {
    "collapsed": false
   },
   "outputs": [
    {
     "data": {
      "text/plain": [
       "True"
      ]
     },
     "execution_count": 99,
     "metadata": {},
     "output_type": "execute_result"
    }
   ],
   "source": [
    "driver.save_screenshot('2.png')"
   ]
  },
  {
   "cell_type": "code",
   "execution_count": 57,
   "metadata": {
    "collapsed": false
   },
   "outputs": [
    {
     "data": {
      "text/plain": [
       "True"
      ]
     },
     "execution_count": 57,
     "metadata": {},
     "output_type": "execute_result"
    }
   ],
   "source": [
    "driver.save_screenshot('f1.png')"
   ]
  },
  {
   "cell_type": "code",
   "execution_count": 61,
   "metadata": {
    "collapsed": false,
    "scrolled": true
   },
   "outputs": [],
   "source": [
    "uElement.send_keys('771657815')\n",
    "pElement.send_keys('ygy433991100')"
   ]
  },
  {
   "cell_type": "code",
   "execution_count": 65,
   "metadata": {
    "collapsed": true
   },
   "outputs": [],
   "source": [
    "loginB = driver.find_element_by_id('login_button')\n",
    "loginB.click()"
   ]
  },
  {
   "cell_type": "code",
   "execution_count": 67,
   "metadata": {
    "collapsed": true
   },
   "outputs": [],
   "source": [
    "driver.get(driver.current_url+'/311')"
   ]
  },
  {
   "cell_type": "markdown",
   "metadata": {},
   "source": [
    "# 找到总页数"
   ]
  },
  {
   "cell_type": "code",
   "execution_count": 86,
   "metadata": {
    "collapsed": false
   },
   "outputs": [
    {
     "data": {
      "text/plain": [
       "<selenium.webdriver.remote.webelement.WebElement (session=\"a3a0ab50-ccde-11e5-9801-ed84ff1f69e5\", element=\":wdc:1454776620828\")>"
      ]
     },
     "execution_count": 86,
     "metadata": {},
     "output_type": "execute_result"
    }
   ],
   "source": [
    "#仍然在frame上面\n",
    "driver.find_element_by_id('_pager_content_0')"
   ]
  },
  {
   "cell_type": "code",
   "execution_count": 89,
   "metadata": {
    "collapsed": false
   },
   "outputs": [],
   "source": [
    "bsPaperNum = BeautifulSoup(driver.page_source,'lxml')"
   ]
  },
  {
   "cell_type": "code",
   "execution_count": 95,
   "metadata": {
    "collapsed": false
   },
   "outputs": [
    {
     "data": {
      "text/plain": [
       "'21'"
      ]
     },
     "execution_count": 95,
     "metadata": {},
     "output_type": "execute_result"
    }
   ],
   "source": [
    "bsPaperNum.find('a',title=\"下一页\").previous_sibling.get_text()"
   ]
  },
  {
   "cell_type": "markdown",
   "metadata": {},
   "source": [
    "# 提取当前页面的内容"
   ]
  },
  {
   "cell_type": "code",
   "execution_count": null,
   "metadata": {
    "collapsed": true
   },
   "outputs": [],
   "source": [
    "mod_wrap_iframe"
   ]
  },
  {
   "cell_type": "code",
   "execution_count": 72,
   "metadata": {
    "collapsed": false
   },
   "outputs": [],
   "source": [
    "driver.switch_to_frame(driver.find_element_by_class_name('app_canvas_frame'))"
   ]
  },
  {
   "cell_type": "code",
   "execution_count": 74,
   "metadata": {
    "collapsed": false
   },
   "outputs": [
    {
     "name": "stderr",
     "output_type": "stream",
     "text": [
      "//anaconda/envs/python3/lib/python3.5/site-packages/bs4/__init__.py:166: UserWarning: No parser was explicitly specified, so I'm using the best available HTML parser for this system (\"lxml\"). This usually isn't a problem, but if you run this code on another system, or in a different virtual environment, it may use a different parser and behave differently.\n",
      "\n",
      "To get rid of this warning, change this:\n",
      "\n",
      " BeautifulSoup([your markup])\n",
      "\n",
      "to this:\n",
      "\n",
      " BeautifulSoup([your markup], \"lxml\")\n",
      "\n",
      "  markup_type=markup_type))\n"
     ]
    }
   ],
   "source": [
    "bsObj = BeautifulSoup(driver.page_source)"
   ]
  },
  {
   "cell_type": "code",
   "execution_count": 84,
   "metadata": {
    "collapsed": false
   },
   "outputs": [],
   "source": [
    "times_contents = [[li0.find('a',class_='c_tx3').get_text(),li0.find('pre',class_='content').get_text()] \\\n",
    "  for li0 in bsObj.findAll('li',class_='feed')]"
   ]
  },
  {
   "cell_type": "code",
   "execution_count": 85,
   "metadata": {
    "collapsed": false,
    "scrolled": true
   },
   "outputs": [
    {
     "data": {
      "text/plain": [
       "[['2015年8月4日', 'In me the tiger sniffs the rose^_^'],\n",
       " ['2015年8月4日', 'In me the tiger sniffs the rose'],\n",
       " ['2015年7月25日', '未来的事情，谁知道呢？\\n不过，一切，都在朝着好的方面，一点点去积累，一点点去改变～'],\n",
       " ['2015年6月11日', 'qq上很多都是大学前的同学朋友，大家看看我的学校天大啊，今天太美了！！！'],\n",
       " ['2015年5月28日', '好名之人，能让千乘之国；苟非其人，箪食豆羹见于色。\\n——《孟子-尽心下》'],\n",
       " ['2015年5月23日',\n",
       "  '纵繁华鲜见，却厚古薄今，末了再自恋一句：这，叫做坚守，叫做不离弃，叫做始终如一。\\n时光的车轮啊，留下一道道车辙，这车辙之深难以消灭，这，是记忆。\\n可往往，高估了记忆的深度，却也低估了记忆的长度。\\n时光的车轮啊，继续着前行，携带着驶过的记忆，但也期待自然，憧憬美丽，徜徉未来！！！'],\n",
       " ['2015年5月20日', '加州，嗯嗯～'],\n",
       " ['2015年5月11日', '今天拍的学校照片，好漂亮！'],\n",
       " ['2015年5月8日', '世界很大很精彩，有那么多的人和事，值得我不断地虚心学习～'],\n",
       " ['2015年5月1日',\n",
       "  '一路走来\\n我们在追逐一个梦想\\n你说\\n它在校园午后的阳光里\\n教八楼前的树荫下\\n微风吹起美丽的长发\\n两人的影子变得五彩斑斓\\n一路走来\\n我们在追逐一个梦想\\n你说'],\n",
       " ['2015年4月7日',\n",
       "  '刚刚听一位老教授讲课，有说到“paranoia is a healthy human trait”——“偏执是一个正常人的特质”。想想也蛮有意思的～(^_^)'],\n",
       " ['2015年3月28日',\n",
       "  '人说，20多岁，最迷茫的时候嘛～\\n是这样的吧，患得患失，忧虑重重，乃至胡思乱想。\\n社会很浮躁，个人也难求一份清净。\\n可是，经历的事见的人多了，再不济的树苗也要开始长大，愈发蓬勃茂盛。\\n突然觉得，内心出奇的平静。\\n很喜欢这种感觉，任风吹雨打，我自岿然不动。\\n感觉，还不错哟～'],\n",
       " ['2015年3月17日',\n",
       "  '喜欢夜深人静的时候，任各种各样的东西在脑子里面乱窜。\\n现实的世界很小，心中的世界却很大。\\n任思绪飞扬，哪里又有终点呢？\\n'],\n",
       " ['2015年2月28日',\n",
       "  '一直很喜欢柴静。\\n视频中的柴静，有着媒体工作者的责任和母亲的担当。感动敬佩于柴静的行动——-离职央视开展环境调查，却也惊悚于中国环境保护的现状。\\n看了柴静，不禁想起了一个人，叫克莱尔-帕特森。可能不是举世闻名的学者，但他做的事，却足以让人称道敬佩——孤身一人对抗铅物质在消费品中的使用。我们很难想象，如果现在的日用品汽油中还是大量含铅，世界究竟情景几何，我们，又是何种模样。\\n余华说过一句话：“为了不让真理的路上人满为患，命运让大多数人迷茫”。或许，帕特森之于铅污染，柴静之于霾污染，便是如此吧。\\n希望，未来的蓝天与白云，与你重见。'],\n",
       " ['2015年2月23日',\n",
       "  '年，是过的差不多了，略记一二事。\\n一是回到了四年前租住的房子。当初高三的时候为了方便，父母给我在外面租了房子，母亲也搬到了那里照顾我。条件很简陋，父母很辛苦，房东爷爷奶奶也都特别关照我。这次回去，见到爷爷奶奶，给他们拜个年，看得出来，他们，特别高兴！\\n二跟一句话有关：“压岁钱我们给你存起来”。现在想想，已经存了二十一年的红包了。长辈们对我的关怀照顾，表现在鼓鼓的红包上，当然不仅于此！！！希望成年的我，以后也能够给长辈们发个鼓鼓的红包，当然也不仅于此！！！\\n新的一年，会有很多好事情在发生！！！'],\n",
       " ['2015年1月18日', '早上整理书桌，成功把老爸的书桌占为己有\\n假期开始啦！'],\n",
       " ['2015年1月15日', 'Live in the future and build what seems interesting.'],\n",
       " ['2015年1月15日', \"Live in the future, then build what's missing.\"],\n",
       " ['2015年1月1日', '2015年第一缕阳光！新年越来越牛！'],\n",
       " ['2015年1月1日', '2015年，我来啦！！！']]"
      ]
     },
     "execution_count": 85,
     "metadata": {},
     "output_type": "execute_result"
    }
   ],
   "source": [
    "times_contents"
   ]
  },
  {
   "cell_type": "markdown",
   "metadata": {},
   "source": [
    "# 换到下一页"
   ]
  },
  {
   "cell_type": "code",
   "execution_count": 96,
   "metadata": {
    "collapsed": false,
    "scrolled": true
   },
   "outputs": [
    {
     "data": {
      "text/plain": [
       "<a class=\"c_tx\" href=\"javascript:void(0);\" id=\"pager_next_0\" onclick=\"return false;\" title=\"下一页\"><span>下一页</span></a>"
      ]
     },
     "execution_count": 96,
     "metadata": {},
     "output_type": "execute_result"
    }
   ],
   "source": [
    "bsPaperNum.find('a',title=\"下一页\")"
   ]
  },
  {
   "cell_type": "code",
   "execution_count": 98,
   "metadata": {
    "collapsed": false
   },
   "outputs": [],
   "source": [
    "driver.find_element_by_id('pager_next_0').click()"
   ]
  },
  {
   "cell_type": "code",
   "execution_count": 101,
   "metadata": {
    "collapsed": false
   },
   "outputs": [
    {
     "data": {
      "text/plain": [
       "'http://cm.qzs.qq.com/qzone/app/mood_v6/html/index.html#mood&uin=771657815&pfid=2&qz_ver=8&appcanvas=0&qz_style=25&params=&entertime=1454775407714&canvastype='"
      ]
     },
     "execution_count": 101,
     "metadata": {},
     "output_type": "execute_result"
    }
   ],
   "source": [
    "driver.current_url"
   ]
  },
  {
   "cell_type": "code",
   "execution_count": 100,
   "metadata": {
    "collapsed": false,
    "scrolled": true
   },
   "outputs": [
    {
     "ename": "NoSuchElementException",
     "evalue": "Message: {\"errorMessage\":\"Unable to find element with class name 'app_canvas_frame'\",\"request\":{\"headers\":{\"Accept\":\"application/json\",\"Accept-Encoding\":\"identity\",\"Connection\":\"close\",\"Content-Length\":\"105\",\"Content-Type\":\"application/json;charset=UTF-8\",\"Host\":\"127.0.0.1:61218\",\"User-Agent\":\"Python-urllib/3.5\"},\"httpVersion\":\"1.1\",\"method\":\"POST\",\"post\":\"{\\\"value\\\": \\\"app_canvas_frame\\\", \\\"using\\\": \\\"class name\\\", \\\"sessionId\\\": \\\"a3a0ab50-ccde-11e5-9801-ed84ff1f69e5\\\"}\",\"url\":\"/element\",\"urlParsed\":{\"anchor\":\"\",\"query\":\"\",\"file\":\"element\",\"directory\":\"/\",\"path\":\"/element\",\"relative\":\"/element\",\"port\":\"\",\"host\":\"\",\"password\":\"\",\"user\":\"\",\"userInfo\":\"\",\"authority\":\"\",\"protocol\":\"\",\"source\":\"/element\",\"queryKey\":{},\"chunks\":[\"element\"]},\"urlOriginal\":\"/session/a3a0ab50-ccde-11e5-9801-ed84ff1f69e5/element\"}}\n",
     "output_type": "error",
     "traceback": [
      "\u001b[0;31m---------------------------------------------------------------------------\u001b[0m",
      "\u001b[0;31mNoSuchElementException\u001b[0m                    Traceback (most recent call last)",
      "\u001b[0;32m<ipython-input-100-338da841f8dc>\u001b[0m in \u001b[0;36m<module>\u001b[0;34m()\u001b[0m\n\u001b[0;32m----> 1\u001b[0;31m \u001b[0mdriver\u001b[0m\u001b[0;34m.\u001b[0m\u001b[0mswitch_to_frame\u001b[0m\u001b[0;34m(\u001b[0m\u001b[0mdriver\u001b[0m\u001b[0;34m.\u001b[0m\u001b[0mfind_element_by_class_name\u001b[0m\u001b[0;34m(\u001b[0m\u001b[0;34m'app_canvas_frame'\u001b[0m\u001b[0;34m)\u001b[0m\u001b[0;34m)\u001b[0m\u001b[0;34m\u001b[0m\u001b[0m\n\u001b[0m",
      "\u001b[0;32m//anaconda/envs/python3/lib/python3.5/site-packages/selenium-2.51.1-py3.5.egg/selenium/webdriver/remote/webdriver.py\u001b[0m in \u001b[0;36mfind_element_by_class_name\u001b[0;34m(self, name)\u001b[0m\n\u001b[1;32m    376\u001b[0m             \u001b[0mdriver\u001b[0m\u001b[0;34m.\u001b[0m\u001b[0mfind_element_by_class_name\u001b[0m\u001b[0;34m(\u001b[0m\u001b[0;34m'foo'\u001b[0m\u001b[0;34m)\u001b[0m\u001b[0;34m\u001b[0m\u001b[0m\n\u001b[1;32m    377\u001b[0m         \"\"\"\n\u001b[0;32m--> 378\u001b[0;31m         \u001b[0;32mreturn\u001b[0m \u001b[0mself\u001b[0m\u001b[0;34m.\u001b[0m\u001b[0mfind_element\u001b[0m\u001b[0;34m(\u001b[0m\u001b[0mby\u001b[0m\u001b[0;34m=\u001b[0m\u001b[0mBy\u001b[0m\u001b[0;34m.\u001b[0m\u001b[0mCLASS_NAME\u001b[0m\u001b[0;34m,\u001b[0m \u001b[0mvalue\u001b[0m\u001b[0;34m=\u001b[0m\u001b[0mname\u001b[0m\u001b[0;34m)\u001b[0m\u001b[0;34m\u001b[0m\u001b[0m\n\u001b[0m\u001b[1;32m    379\u001b[0m \u001b[0;34m\u001b[0m\u001b[0m\n\u001b[1;32m    380\u001b[0m     \u001b[0;32mdef\u001b[0m \u001b[0mfind_elements_by_class_name\u001b[0m\u001b[0;34m(\u001b[0m\u001b[0mself\u001b[0m\u001b[0;34m,\u001b[0m \u001b[0mname\u001b[0m\u001b[0;34m)\u001b[0m\u001b[0;34m:\u001b[0m\u001b[0;34m\u001b[0m\u001b[0m\n",
      "\u001b[0;32m//anaconda/envs/python3/lib/python3.5/site-packages/selenium-2.51.1-py3.5.egg/selenium/webdriver/remote/webdriver.py\u001b[0m in \u001b[0;36mfind_element\u001b[0;34m(self, by, value)\u001b[0m\n\u001b[1;32m    710\u001b[0m                 \u001b[0mvalue\u001b[0m \u001b[0;34m=\u001b[0m \u001b[0;34m'[name=\"%s\"]'\u001b[0m \u001b[0;34m%\u001b[0m \u001b[0mvalue\u001b[0m\u001b[0;34m\u001b[0m\u001b[0m\n\u001b[1;32m    711\u001b[0m         return self.execute(Command.FIND_ELEMENT,\n\u001b[0;32m--> 712\u001b[0;31m                              {'using': by, 'value': value})['value']\n\u001b[0m\u001b[1;32m    713\u001b[0m \u001b[0;34m\u001b[0m\u001b[0m\n\u001b[1;32m    714\u001b[0m     \u001b[0;32mdef\u001b[0m \u001b[0mfind_elements\u001b[0m\u001b[0;34m(\u001b[0m\u001b[0mself\u001b[0m\u001b[0;34m,\u001b[0m \u001b[0mby\u001b[0m\u001b[0;34m=\u001b[0m\u001b[0mBy\u001b[0m\u001b[0;34m.\u001b[0m\u001b[0mID\u001b[0m\u001b[0;34m,\u001b[0m \u001b[0mvalue\u001b[0m\u001b[0;34m=\u001b[0m\u001b[0;32mNone\u001b[0m\u001b[0;34m)\u001b[0m\u001b[0;34m:\u001b[0m\u001b[0;34m\u001b[0m\u001b[0m\n",
      "\u001b[0;32m//anaconda/envs/python3/lib/python3.5/site-packages/selenium-2.51.1-py3.5.egg/selenium/webdriver/remote/webdriver.py\u001b[0m in \u001b[0;36mexecute\u001b[0;34m(self, driver_command, params)\u001b[0m\n\u001b[1;32m    199\u001b[0m         \u001b[0mresponse\u001b[0m \u001b[0;34m=\u001b[0m \u001b[0mself\u001b[0m\u001b[0;34m.\u001b[0m\u001b[0mcommand_executor\u001b[0m\u001b[0;34m.\u001b[0m\u001b[0mexecute\u001b[0m\u001b[0;34m(\u001b[0m\u001b[0mdriver_command\u001b[0m\u001b[0;34m,\u001b[0m \u001b[0mparams\u001b[0m\u001b[0;34m)\u001b[0m\u001b[0;34m\u001b[0m\u001b[0m\n\u001b[1;32m    200\u001b[0m         \u001b[0;32mif\u001b[0m \u001b[0mresponse\u001b[0m\u001b[0;34m:\u001b[0m\u001b[0;34m\u001b[0m\u001b[0m\n\u001b[0;32m--> 201\u001b[0;31m             \u001b[0mself\u001b[0m\u001b[0;34m.\u001b[0m\u001b[0merror_handler\u001b[0m\u001b[0;34m.\u001b[0m\u001b[0mcheck_response\u001b[0m\u001b[0;34m(\u001b[0m\u001b[0mresponse\u001b[0m\u001b[0;34m)\u001b[0m\u001b[0;34m\u001b[0m\u001b[0m\n\u001b[0m\u001b[1;32m    202\u001b[0m             response['value'] = self._unwrap_value(\n\u001b[1;32m    203\u001b[0m                 response.get('value', None))\n",
      "\u001b[0;32m//anaconda/envs/python3/lib/python3.5/site-packages/selenium-2.51.1-py3.5.egg/selenium/webdriver/remote/errorhandler.py\u001b[0m in \u001b[0;36mcheck_response\u001b[0;34m(self, response)\u001b[0m\n\u001b[1;32m    191\u001b[0m         \u001b[0;32melif\u001b[0m \u001b[0mexception_class\u001b[0m \u001b[0;34m==\u001b[0m \u001b[0mUnexpectedAlertPresentException\u001b[0m \u001b[0;32mand\u001b[0m \u001b[0;34m'alert'\u001b[0m \u001b[0;32min\u001b[0m \u001b[0mvalue\u001b[0m\u001b[0;34m:\u001b[0m\u001b[0;34m\u001b[0m\u001b[0m\n\u001b[1;32m    192\u001b[0m             \u001b[0;32mraise\u001b[0m \u001b[0mexception_class\u001b[0m\u001b[0;34m(\u001b[0m\u001b[0mmessage\u001b[0m\u001b[0;34m,\u001b[0m \u001b[0mscreen\u001b[0m\u001b[0;34m,\u001b[0m \u001b[0mstacktrace\u001b[0m\u001b[0;34m,\u001b[0m \u001b[0mvalue\u001b[0m\u001b[0;34m[\u001b[0m\u001b[0;34m'alert'\u001b[0m\u001b[0;34m]\u001b[0m\u001b[0;34m.\u001b[0m\u001b[0mget\u001b[0m\u001b[0;34m(\u001b[0m\u001b[0;34m'text'\u001b[0m\u001b[0;34m)\u001b[0m\u001b[0;34m)\u001b[0m\u001b[0;34m\u001b[0m\u001b[0m\n\u001b[0;32m--> 193\u001b[0;31m         \u001b[0;32mraise\u001b[0m \u001b[0mexception_class\u001b[0m\u001b[0;34m(\u001b[0m\u001b[0mmessage\u001b[0m\u001b[0;34m,\u001b[0m \u001b[0mscreen\u001b[0m\u001b[0;34m,\u001b[0m \u001b[0mstacktrace\u001b[0m\u001b[0;34m)\u001b[0m\u001b[0;34m\u001b[0m\u001b[0m\n\u001b[0m\u001b[1;32m    194\u001b[0m \u001b[0;34m\u001b[0m\u001b[0m\n\u001b[1;32m    195\u001b[0m     \u001b[0;32mdef\u001b[0m \u001b[0m_value_or_default\u001b[0m\u001b[0;34m(\u001b[0m\u001b[0mself\u001b[0m\u001b[0;34m,\u001b[0m \u001b[0mobj\u001b[0m\u001b[0;34m,\u001b[0m \u001b[0mkey\u001b[0m\u001b[0;34m,\u001b[0m \u001b[0mdefault\u001b[0m\u001b[0;34m)\u001b[0m\u001b[0;34m:\u001b[0m\u001b[0;34m\u001b[0m\u001b[0m\n",
      "\u001b[0;31mNoSuchElementException\u001b[0m: Message: {\"errorMessage\":\"Unable to find element with class name 'app_canvas_frame'\",\"request\":{\"headers\":{\"Accept\":\"application/json\",\"Accept-Encoding\":\"identity\",\"Connection\":\"close\",\"Content-Length\":\"105\",\"Content-Type\":\"application/json;charset=UTF-8\",\"Host\":\"127.0.0.1:61218\",\"User-Agent\":\"Python-urllib/3.5\"},\"httpVersion\":\"1.1\",\"method\":\"POST\",\"post\":\"{\\\"value\\\": \\\"app_canvas_frame\\\", \\\"using\\\": \\\"class name\\\", \\\"sessionId\\\": \\\"a3a0ab50-ccde-11e5-9801-ed84ff1f69e5\\\"}\",\"url\":\"/element\",\"urlParsed\":{\"anchor\":\"\",\"query\":\"\",\"file\":\"element\",\"directory\":\"/\",\"path\":\"/element\",\"relative\":\"/element\",\"port\":\"\",\"host\":\"\",\"password\":\"\",\"user\":\"\",\"userInfo\":\"\",\"authority\":\"\",\"protocol\":\"\",\"source\":\"/element\",\"queryKey\":{},\"chunks\":[\"element\"]},\"urlOriginal\":\"/session/a3a0ab50-ccde-11e5-9801-ed84ff1f69e5/element\"}}\n"
     ]
    }
   ],
   "source": [
    "# 不用这一步了以及\n",
    "driver.switch_to_frame(driver.find_element_by_class_name('app_canvas_frame'))"
   ]
  },
  {
   "cell_type": "code",
   "execution_count": 103,
   "metadata": {
    "collapsed": true
   },
   "outputs": [],
   "source": [
    "bsObj = BeautifulSoup(driver.page_source,'lxml')"
   ]
  },
  {
   "cell_type": "code",
   "execution_count": 104,
   "metadata": {
    "collapsed": true
   },
   "outputs": [],
   "source": [
    "times_contents = [[li0.find('a',class_='c_tx3').get_text(),li0.find('pre',class_='content').get_text()] \\\n",
    "  for li0 in bsObj.findAll('li',class_='feed')]"
   ]
  },
  {
   "cell_type": "code",
   "execution_count": 105,
   "metadata": {
    "collapsed": false
   },
   "outputs": [
    {
     "data": {
      "text/plain": [
       "[['2014年12月30日', '银装素裹，冰雪天堂～'],\n",
       " ['2014年12月27日', '东方莫斯科，又名西方哈尔滨。\\n冬天的哈尔滨，着实太美了！'],\n",
       " ['2014年12月24日',\n",
       "  '首先，请进入下面的网址：\\nyounggy.com\\n这是参照anvaka的GitHub中的代码，生成的3d旋转圣诞树哦！\\n最后，祝大家平安夜多多吃苹果，圣诞快乐！ '],\n",
       " ['2014年12月23日',\n",
       "  '最近有则新闻，题目既是“无良医生不顾病人安慰，手术室自拍娱乐”，又是“仁医妙术7小时生死急救，农民工成功保住生命之腿”。\\n断章取义，添油加醋，主观臆测，已经成为一些人手中的，无所不利之剑。\\n笔杆子，确是枪杆子。但也得看它指向谁，鲁迅指的是可憎的敌人，而有人，竟指向如此可爱的亲人。\\n鲁迅先生曾说过——我，向来是不惮以最坏的恶意来揣测中国人。\\n诚然，社会不公，分配不均，黑暗的地方到处都是。\\n可是，大多数人，都和你我一样，是普普通通的平常人啊。不是每一个老师都收家长钱，不是每一个医生都要红包，不是每一个公务员都贪污腐败的啊。\\n而对这些人，你随便敲敲键盘，动动嘴巴，各种各样（唉，不知道该怎么形容了）的话就出来了，又可曾想过当事者的感受。\\n这个世界，总是有人，非得认为（甚至是惯性地），每个人都是坏的，社会是不公的，世界到处是黑暗的。末了，再把自己的一事无成，归结于这个“黑暗的社会”，或者，再加一句“怪体制咯”？\\n或许，真的，“怪体制咯”？\\n好久没一口气写些东西了，写完感觉就是舒服。'],\n",
       " ['2014年12月20日',\n",
       "  '刚刚听完了一个摄影讲座。\\n一直觉得，纷纷扰扰的生活中，确是需要留下点什么的。以便，高兴的时候出出糗，失落的时候吹吹牛。\\n于作家，笔墨写出了生活；\\n于摄者，快门拍出了生活。\\n本来，8760是个挺大的数字，只是可惜睡觉发呆占了一半，况且年年岁岁花相似，岁岁年年，人又不同。\\n只是，看到照片，便想起了你，还有你的事。\\n希望你，一切都好，被这个世界温柔相待。'],\n",
       " ['2014年12月10日', '刚刚收拾完书桌。\\n收拾完之后焕然一新！\\n生活学习的好地方(^_^)\\n#AIM@PROD'],\n",
       " ['2014年12月6日',\n",
       "  '刚看了一部小电影，叫“我要进前十”。\\n想起了小时候的事情呢～\\n小时候，总拿第一，第一次拿第二的时候，哭了。\\n依稀记得期末考试，温同学比我多一分，最后有道题改错了，我又比她多了一分，很高兴。\\n大学之前，像是成绩的奴隶，丢了一些我现在认为很重要的东西。\\n即使刚上大学的时候，我也会比较，和你，和他，比这个，再比那个。\\n后来，想开了，较之纸面上的数字，实在是，有太多太多的，值得用心去呵护，去追求，去奋斗的东西了。\\n忽又想起了毛姆的《月亮与六便士》，\\n满地都是六便士，\\n你又能否，'],\n",
       " ['2014年12月4日',\n",
       "  '早上，刚起来的时候，天还是黑的。\\n吃了吃饭，看了会东西，\\n伸个懒腰之余，\\n猛地发现，\\n天竟然亮了。\\n说不出的感觉呐～'],\n",
       " ['2014年11月29日', 'Talk is cheap, show me the code. #AIM@PROD'],\n",
       " ['2014年11月29日', 'Talk is cheap, show me the code. #AIM@PROC'],\n",
       " ['2014年11月24日',\n",
       "  '保研之后，看了一些书。\\n小的时候，是有个习惯的。睡觉前总是要在床上看1小时左右的书，那时候最爱的是中国百科全书。\\n后来，大抵是高考的压力吧，读的课外书愈来愈少。\\n大学之后，还是有着高中的惯势，把成绩这个东西看得很重很重，因而课外的书籍读的也是很少很少。\\n保研了，或是有了难得的自由，每天得以看书，健身，练字，弹乐器，还有超级喜欢的写代码*^_^*。\\n小的时候会想，我一定要好好地学习，将来挣大钱。\\n现在会想，我一定要好好地生活，有点小小的梦想，其他的，细细思量，却不过是理所当然之事，只是交予时间罢了。\\n每晚睡觉的时候很幸福，一是床上舒服，二是明天\\\\w+ 。\\n(^_^)'],\n",
       " ['2014年11月18日',\n",
       "  '最近在看Python，真是爱上她了。\\n下面的图片是：The Zen of Python，翻译为‘Python之禅’。感兴趣的可以看看。'],\n",
       " ['2014年11月16日',\n",
       "  'Truth is ever to be found in simplicity, and not in the multiplicity and confusion of things.'],\n",
       " ['2014年11月6日', 'Aim@Prod'],\n",
       " ['2014年11月2日', 'Aim@Product'],\n",
       " ['2014年10月26日',\n",
       "  'A mathematician is a person who can find analogies between theorems;\\nA better mathematician is one who can see analogies between proofs\\nAnd the best mathematician can notice analogies between theories.\\nOne can imagine that the ultimate mathematician is one who can see analogies between analogies.\\n——Stefan Banach'],\n",
       " ['2014年10月18日', '星星之火，可以燎原。'],\n",
       " ['2014年10月8日', '难得一见的月全食！希望以后的每一天蓝天白云好天气！'],\n",
       " ['2014年9月17日',\n",
       "  '很喜欢刘欢的一句话：“音乐和所有艺术在人类文明中的位置是一样的，就是一个不停地对美好的追问和探索。这就是有生命力的文明为什么可以一而再再而三延续生命力的原因，因为人们心底需要这种美好。”音乐，真的是一件令人幸福欢愉的事情呐。'],\n",
       " ['2014年9月11日',\n",
       "  '最近对“自由”二字愈发看重。明天就要开始保研了，细细思度，保研成功与否或许真的不那么重要。保研对我最大的诱惑，便是更宽松自由的环境以及更高的学位；但即使工作，我仍拥有着最重要的东西——对世界的兴趣。有人说，研究生与否是人生的又一次分水岭，但真正的分水岭，可能确是我们自身。追求什么样的生活，以什么姿态，这些应该，也确确实实，都是我们自己能够决定的，与研究生与否无关，与外界无关。']]"
      ]
     },
     "execution_count": 105,
     "metadata": {},
     "output_type": "execute_result"
    }
   ],
   "source": [
    "times_contents"
   ]
  }
 ],
 "metadata": {
  "kernelspec": {
   "display_name": "Python 3",
   "language": "python",
   "name": "python3"
  },
  "language_info": {
   "codemirror_mode": {
    "name": "ipython",
    "version": 3
   },
   "file_extension": ".py",
   "mimetype": "text/x-python",
   "name": "python",
   "nbconvert_exporter": "python",
   "pygments_lexer": "ipython3",
   "version": "3.5.1"
  }
 },
 "nbformat": 4,
 "nbformat_minor": 0
}
