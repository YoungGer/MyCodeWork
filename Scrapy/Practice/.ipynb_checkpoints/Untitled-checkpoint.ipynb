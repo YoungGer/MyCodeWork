{
 "cells": [
  {
   "cell_type": "code",
   "execution_count": 71,
   "metadata": {
    "collapsed": true
   },
   "outputs": [],
   "source": [
    "# -*- coding:utf-8 -*-\n",
    "import requests\n",
    "import os,time\n",
    "from bs4 import BeautifulSoup\n",
    "from selenium import  webdriver\n",
    "from selenium.webdriver.common.by import By\n",
    "from selenium.webdriver.support.ui import WebDriverWait\n",
    "from selenium.webdriver.support import expected_conditions as EC\n",
    "\n",
    "# 登陆\n",
    "def logIn():\n",
    "    global driver\n",
    "    driver.get('http://i.qq.com/')\n",
    "    driver.maximize_window()\n",
    "    driver.switch_to_frame(driver.find_element_by_id('login_frame'))\n",
    "    upElement = driver.find_element_by_id('switcher_plogin')\n",
    "    upElement.click()\n",
    "    #输入账号密码，以及submit\n",
    "    uElement = driver.find_element_by_id('u')\n",
    "    pElement = driver.find_element_by_id('p') \n",
    "    uElement.clear()  \n",
    "    uElement.send_keys('771657815')\n",
    "    pElement.clear()\n",
    "    pElement.send_keys('ygy433991100')\n",
    "    time.sleep(1)\n",
    "    loginB = driver.find_element_by_id('login_button')\n",
    "    loginB.click()\n",
    "    time.sleep(1)\n",
    "    print (driver.current_url)\n",
    "    print ('登陆成功！')\n",
    "\n",
    "def allPages():\n",
    "    global driver\n",
    "    # 默认driver.switch_to_frame(driver.find_element_by_class_name('app_canvas_frame'))\n",
    "    try:\n",
    "        element = WebDriverWait(driver,10).until(\n",
    "            EC.presence_of_element_located((By.ID,'_pager_content_0'))\n",
    "        )\n",
    "    except:\n",
    "        print ('allPages错误')\n",
    "        return None\n",
    "    finally:\n",
    "        driver.find_element_by_id('_pager_content_0')\n",
    "        bsPaperNum = BeautifulSoup(driver.page_source,'lxml')\n",
    "        return int(bsPaperNum.find('a',title=\"下一页\").previous_sibling.get_text())\n",
    "\n",
    "try:\n",
    "    element = WebDriverWait(driver, 10).until(\n",
    "        EC.presence_of_element_located((By.ID, \"myDynamicElement\"))\n",
    "    )\n",
    "finally:\n",
    "    driver.quit()\n",
    "    \n",
    "    \n",
    "\n",
    "def onePageInfo():\n",
    "    # 默认driver.switch_to_frame(driver.find_element_by_class_name('app_canvas_frame'))\n",
    "    global driver\n",
    "    bsObj = BeautifulSoup(driver.page_source,'lxml')\n",
    "    times_contents = [[li0.find('a',class_='c_tx3').get_text(),li0.find('pre',class_='content').get_text()] \\\n",
    "    for li0 in bsObj.findAll('li',class_='feed')]\n",
    "    return times_contents\n",
    "\n",
    "def nextPage(i):\n",
    "    global driver\n",
    "    # 默认driver.switch_to_frame(driver.find_element_by_class_name('app_canvas_frame'))\n",
    "    driver.find_element_by_id('pager_next_'+str(i)).click()\n",
    "    time.sleep(2)"
   ]
  },
  {
   "cell_type": "code",
   "execution_count": null,
   "metadata": {
    "collapsed": true
   },
   "outputs": [],
   "source": []
  },
  {
   "cell_type": "code",
   "execution_count": 24,
   "metadata": {
    "collapsed": false,
    "scrolled": true
   },
   "outputs": [
    {
     "name": "stdout",
     "output_type": "stream",
     "text": [
      "http://user.qzone.qq.com/771657815\n",
      "登陆成功！\n"
     ]
    }
   ],
   "source": [
    "driver = webdriver.PhantomJS('/usr/local/phantomjs/bin/phantomjs')\n",
    "logIn()"
   ]
  },
  {
   "cell_type": "code",
   "execution_count": 25,
   "metadata": {
    "collapsed": false
   },
   "outputs": [],
   "source": [
    "driver.get(driver.current_url+'/311')"
   ]
  },
  {
   "cell_type": "code",
   "execution_count": 27,
   "metadata": {
    "collapsed": false
   },
   "outputs": [],
   "source": [
    "driver.switch_to_frame(driver.find_element_by_class_name('app_canvas_frame'))"
   ]
  },
  {
   "cell_type": "code",
   "execution_count": 28,
   "metadata": {
    "collapsed": true
   },
   "outputs": [],
   "source": [
    "allPagesNum = allPages()\n",
    "TIMES_CONSTENTS = []"
   ]
  },
  {
   "cell_type": "code",
   "execution_count": 34,
   "metadata": {
    "collapsed": true
   },
   "outputs": [],
   "source": [
    "i = 1"
   ]
  },
  {
   "cell_type": "code",
   "execution_count": 40,
   "metadata": {
    "collapsed": true
   },
   "outputs": [],
   "source": [
    "times_contents = onePageInfo()"
   ]
  },
  {
   "cell_type": "code",
   "execution_count": 41,
   "metadata": {
    "collapsed": true
   },
   "outputs": [],
   "source": [
    "TIMES_CONSTENTS.append(times_contents)"
   ]
  },
  {
   "cell_type": "code",
   "execution_count": 37,
   "metadata": {
    "collapsed": false
   },
   "outputs": [
    {
     "data": {
      "text/plain": [
       "21"
      ]
     },
     "execution_count": 37,
     "metadata": {},
     "output_type": "execute_result"
    }
   ],
   "source": [
    "allPagesNum"
   ]
  },
  {
   "cell_type": "code",
   "execution_count": 39,
   "metadata": {
    "collapsed": false
   },
   "outputs": [],
   "source": [
    "driver.find_element_by_id('pager_next_1').click()"
   ]
  },
  {
   "cell_type": "code",
   "execution_count": 42,
   "metadata": {
    "collapsed": false
   },
   "outputs": [
    {
     "data": {
      "text/plain": [
       "[[['2015年8月4日', 'In me the tiger sniffs the rose^_^'],\n",
       "  ['2015年8月4日', 'In me the tiger sniffs the rose'],\n",
       "  ['2015年7月25日', '未来的事情，谁知道呢？\\n不过，一切，都在朝着好的方面，一点点去积累，一点点去改变～'],\n",
       "  ['2015年6月11日', 'qq上很多都是大学前的同学朋友，大家看看我的学校天大啊，今天太美了！！！'],\n",
       "  ['2015年5月28日', '好名之人，能让千乘之国；苟非其人，箪食豆羹见于色。\\n——《孟子-尽心下》'],\n",
       "  ['2015年5月23日',\n",
       "   '纵繁华鲜见，却厚古薄今，末了再自恋一句：这，叫做坚守，叫做不离弃，叫做始终如一。\\n时光的车轮啊，留下一道道车辙，这车辙之深难以消灭，这，是记忆。\\n可往往，高估了记忆的深度，却也低估了记忆的长度。\\n时光的车轮啊，继续着前行，携带着驶过的记忆，但也期待自然，憧憬美丽，徜徉未来！！！'],\n",
       "  ['2015年5月20日', '加州，嗯嗯～'],\n",
       "  ['2015年5月11日', '今天拍的学校照片，好漂亮！'],\n",
       "  ['2015年5月8日', '世界很大很精彩，有那么多的人和事，值得我不断地虚心学习～'],\n",
       "  ['2015年5月1日',\n",
       "   '一路走来\\n我们在追逐一个梦想\\n你说\\n它在校园午后的阳光里\\n教八楼前的树荫下\\n微风吹起美丽的长发\\n两人的影子变得五彩斑斓\\n一路走来\\n我们在追逐一个梦想\\n你说'],\n",
       "  ['2015年4月7日',\n",
       "   '刚刚听一位老教授讲课，有说到“paranoia is a healthy human trait”——“偏执是一个正常人的特质”。想想也蛮有意思的～(^_^)'],\n",
       "  ['2015年3月28日',\n",
       "   '人说，20多岁，最迷茫的时候嘛～\\n是这样的吧，患得患失，忧虑重重，乃至胡思乱想。\\n社会很浮躁，个人也难求一份清净。\\n可是，经历的事见的人多了，再不济的树苗也要开始长大，愈发蓬勃茂盛。\\n突然觉得，内心出奇的平静。\\n很喜欢这种感觉，任风吹雨打，我自岿然不动。\\n感觉，还不错哟～'],\n",
       "  ['2015年3月17日',\n",
       "   '喜欢夜深人静的时候，任各种各样的东西在脑子里面乱窜。\\n现实的世界很小，心中的世界却很大。\\n任思绪飞扬，哪里又有终点呢？\\n'],\n",
       "  ['2015年2月28日',\n",
       "   '一直很喜欢柴静。\\n视频中的柴静，有着媒体工作者的责任和母亲的担当。感动敬佩于柴静的行动——-离职央视开展环境调查，却也惊悚于中国环境保护的现状。\\n看了柴静，不禁想起了一个人，叫克莱尔-帕特森。可能不是举世闻名的学者，但他做的事，却足以让人称道敬佩——孤身一人对抗铅物质在消费品中的使用。我们很难想象，如果现在的日用品汽油中还是大量含铅，世界究竟情景几何，我们，又是何种模样。\\n余华说过一句话：“为了不让真理的路上人满为患，命运让大多数人迷茫”。或许，帕特森之于铅污染，柴静之于霾污染，便是如此吧。\\n希望，未来的蓝天与白云，与你重见。'],\n",
       "  ['2015年2月23日',\n",
       "   '年，是过的差不多了，略记一二事。\\n一是回到了四年前租住的房子。当初高三的时候为了方便，父母给我在外面租了房子，母亲也搬到了那里照顾我。条件很简陋，父母很辛苦，房东爷爷奶奶也都特别关照我。这次回去，见到爷爷奶奶，给他们拜个年，看得出来，他们，特别高兴！\\n二跟一句话有关：“压岁钱我们给你存起来”。现在想想，已经存了二十一年的红包了。长辈们对我的关怀照顾，表现在鼓鼓的红包上，当然不仅于此！！！希望成年的我，以后也能够给长辈们发个鼓鼓的红包，当然也不仅于此！！！\\n新的一年，会有很多好事情在发生！！！'],\n",
       "  ['2015年1月18日', '早上整理书桌，成功把老爸的书桌占为己有\\n假期开始啦！'],\n",
       "  ['2015年1月15日', 'Live in the future and build what seems interesting.'],\n",
       "  ['2015年1月15日', \"Live in the future, then build what's missing.\"],\n",
       "  ['2015年1月1日', '2015年第一缕阳光！新年越来越牛！'],\n",
       "  ['2015年1月1日', '2015年，我来啦！！！']],\n",
       " [['2014年12月30日', '银装素裹，冰雪天堂～'],\n",
       "  ['2014年12月27日', '东方莫斯科，又名西方哈尔滨。\\n冬天的哈尔滨，着实太美了！'],\n",
       "  ['2014年12月24日',\n",
       "   '首先，请进入下面的网址：\\nyounggy.com\\n这是参照anvaka的GitHub中的代码，生成的3d旋转圣诞树哦！\\n最后，祝大家平安夜多多吃苹果，圣诞快乐！ '],\n",
       "  ['2014年12月23日',\n",
       "   '最近有则新闻，题目既是“无良医生不顾病人安慰，手术室自拍娱乐”，又是“仁医妙术7小时生死急救，农民工成功保住生命之腿”。\\n断章取义，添油加醋，主观臆测，已经成为一些人手中的，无所不利之剑。\\n笔杆子，确是枪杆子。但也得看它指向谁，鲁迅指的是可憎的敌人，而有人，竟指向如此可爱的亲人。\\n鲁迅先生曾说过——我，向来是不惮以最坏的恶意来揣测中国人。\\n诚然，社会不公，分配不均，黑暗的地方到处都是。\\n可是，大多数人，都和你我一样，是普普通通的平常人啊。不是每一个老师都收家长钱，不是每一个医生都要红包，不是每一个公务员都贪污腐败的啊。\\n而对这些人，你随便敲敲键盘，动动嘴巴，各种各样（唉，不知道该怎么形容了）的话就出来了，又可曾想过当事者的感受。\\n这个世界，总是有人，非得认为（甚至是惯性地），每个人都是坏的，社会是不公的，世界到处是黑暗的。末了，再把自己的一事无成，归结于这个“黑暗的社会”，或者，再加一句“怪体制咯”？\\n或许，真的，“怪体制咯”？\\n好久没一口气写些东西了，写完感觉就是舒服。'],\n",
       "  ['2014年12月20日',\n",
       "   '刚刚听完了一个摄影讲座。\\n一直觉得，纷纷扰扰的生活中，确是需要留下点什么的。以便，高兴的时候出出糗，失落的时候吹吹牛。\\n于作家，笔墨写出了生活；\\n于摄者，快门拍出了生活。\\n本来，8760是个挺大的数字，只是可惜睡觉发呆占了一半，况且年年岁岁花相似，岁岁年年，人又不同。\\n只是，看到照片，便想起了你，还有你的事。\\n希望你，一切都好，被这个世界温柔相待。'],\n",
       "  ['2014年12月10日', '刚刚收拾完书桌。\\n收拾完之后焕然一新！\\n生活学习的好地方(^_^)\\n#AIM@PROD'],\n",
       "  ['2014年12月6日',\n",
       "   '刚看了一部小电影，叫“我要进前十”。\\n想起了小时候的事情呢～\\n小时候，总拿第一，第一次拿第二的时候，哭了。\\n依稀记得期末考试，温同学比我多一分，最后有道题改错了，我又比她多了一分，很高兴。\\n大学之前，像是成绩的奴隶，丢了一些我现在认为很重要的东西。\\n即使刚上大学的时候，我也会比较，和你，和他，比这个，再比那个。\\n后来，想开了，较之纸面上的数字，实在是，有太多太多的，值得用心去呵护，去追求，去奋斗的东西了。\\n忽又想起了毛姆的《月亮与六便士》，\\n满地都是六便士，\\n你又能否，'],\n",
       "  ['2014年12月4日',\n",
       "   '早上，刚起来的时候，天还是黑的。\\n吃了吃饭，看了会东西，\\n伸个懒腰之余，\\n猛地发现，\\n天竟然亮了。\\n说不出的感觉呐～'],\n",
       "  ['2014年11月29日', 'Talk is cheap, show me the code. #AIM@PROD'],\n",
       "  ['2014年11月29日', 'Talk is cheap, show me the code. #AIM@PROC'],\n",
       "  ['2014年11月24日',\n",
       "   '保研之后，看了一些书。\\n小的时候，是有个习惯的。睡觉前总是要在床上看1小时左右的书，那时候最爱的是中国百科全书。\\n后来，大抵是高考的压力吧，读的课外书愈来愈少。\\n大学之后，还是有着高中的惯势，把成绩这个东西看得很重很重，因而课外的书籍读的也是很少很少。\\n保研了，或是有了难得的自由，每天得以看书，健身，练字，弹乐器，还有超级喜欢的写代码*^_^*。\\n小的时候会想，我一定要好好地学习，将来挣大钱。\\n现在会想，我一定要好好地生活，有点小小的梦想，其他的，细细思量，却不过是理所当然之事，只是交予时间罢了。\\n每晚睡觉的时候很幸福，一是床上舒服，二是明天\\\\w+ 。\\n(^_^)'],\n",
       "  ['2014年11月18日',\n",
       "   '最近在看Python，真是爱上她了。\\n下面的图片是：The Zen of Python，翻译为‘Python之禅’。感兴趣的可以看看。'],\n",
       "  ['2014年11月16日',\n",
       "   'Truth is ever to be found in simplicity, and not in the multiplicity and confusion of things.'],\n",
       "  ['2014年11月6日', 'Aim@Prod'],\n",
       "  ['2014年11月2日', 'Aim@Product'],\n",
       "  ['2014年10月26日',\n",
       "   'A mathematician is a person who can find analogies between theorems;\\nA better mathematician is one who can see analogies between proofs\\nAnd the best mathematician can notice analogies between theories.\\nOne can imagine that the ultimate mathematician is one who can see analogies between analogies.\\n——Stefan Banach'],\n",
       "  ['2014年10月18日', '星星之火，可以燎原。'],\n",
       "  ['2014年10月8日', '难得一见的月全食！希望以后的每一天蓝天白云好天气！'],\n",
       "  ['2014年9月17日',\n",
       "   '很喜欢刘欢的一句话：“音乐和所有艺术在人类文明中的位置是一样的，就是一个不停地对美好的追问和探索。这就是有生命力的文明为什么可以一而再再而三延续生命力的原因，因为人们心底需要这种美好。”音乐，真的是一件令人幸福欢愉的事情呐。'],\n",
       "  ['2014年9月11日',\n",
       "   '最近对“自由”二字愈发看重。明天就要开始保研了，细细思度，保研成功与否或许真的不那么重要。保研对我最大的诱惑，便是更宽松自由的环境以及更高的学位；但即使工作，我仍拥有着最重要的东西——对世界的兴趣。有人说，研究生与否是人生的又一次分水岭，但真正的分水岭，可能确是我们自身。追求什么样的生活，以什么姿态，这些应该，也确确实实，都是我们自己能够决定的，与研究生与否无关，与外界无关。']],\n",
       " [['2014年9月8日', '北洋·中秋，但愿人长久，千里共婵娟。'],\n",
       "  ['2014年9月8日',\n",
       "   '果然还是不喜欢这种被迫学东西的感觉呢。\\n但是，顺利的话，想想一个月之后，兴奋的不得了！！！\\n最幸福的，莫过于做内心所爱的事情。\\n次之一点的，是身处通往最爱事情的过程中，虽然略显枯燥。\\nPs：大家中秋快乐！'],\n",
       "  ['2014年9月5日', 'Ukulele:-D'],\n",
       "  ['2014年9月2日',\n",
       "   '童年的梦想是成为科学家，用科学影响着世界；后来发现人是如此渺小，梦想很远很远，不被世界改造自己尚且很难，改变世界不是痴人说梦吗；再后来发现，你好一点世界便跟着好一点，你坏一些世界也跟着坏一些，纵使自杀，结束生命，倒也提高了世界的死亡率。或许，每个生命来到这世间，都注定着，时刻着，改变着世界。#宿命'],\n",
       "  ['2014年8月31日', 'Science'],\n",
       "  ['2014年8月27日', '杂七·江滩'],\n",
       "  ['2014年8月27日', '细雨·江滩'],\n",
       "  ['2014年8月22日', '弟弟卖萌搞怪照O(∩_∩)O'],\n",
       "  ['2014年8月12日', '一场烟雨一场梦，于人间，夜未央。\\n一阙歌，思忆暮雨，念未央。'],\n",
       "  ['2014年8月9日', '离开杭州那天被暴雨给淋了，到家这几天也基本上每天有雨。。。雨呐！'],\n",
       "  ['2014年8月4日', '第一次到西湖，哈哈！O(∩_∩)O'],\n",
       "  ['2014年7月17日', '新时代的我们，意气风发，挥斥方遒，欲与天公试比高'],\n",
       "  ['2014年7月16日',\n",
       "   '喜欢上coming home这首歌，源于致敬保罗沃克的官方视频的插曲，其中Dom的祝酒词“the most important thing in life will always be the people in this room,right here,right now. salute my familia”极有感染力，有家一般的感觉。如今，阿克伦的孩子——勒布朗·詹姆斯，经历了在迈阿密四年的“大学”时光，也回到了家乡，又能否实现当初给家乡的承诺呢？——“Let the rain wash away all the pain of yesterday，I know my kingdom awaits and they’ve forgiven my mistakes，I’m coming home, I’m coming home，tell the World that I’m coming”。\\nComing Home，Lebron。We are all witnesses！'],\n",
       "  ['2014年7月10日', '童年的纸飞机，再次飞回我手里。昨晚一宿未睡，会回到，曾经，梦开始的地方吗？'],\n",
       "  ['2014年7月4日', '健了健身，看了看书，唱了唱歌，做了做实验。假期生活开始喽！！！'],\n",
       "  ['2014年7月2日', '雨中大合唱！! ! 最大的一次雨中，和群最要命的死大四的在雨中疯狂～明天最后一门考试了，还有很多很好的事情，要去做呐！'],\n",
       "  ['2014年6月29日', ''],\n",
       "  ['2014年6月20日',\n",
       "   '考试周第一门，考完整个人都不好了！对一道错一道，TT，竟然还能算出arcsin(1.xxx)这种数。得多久没遇到这么差的开头了'],\n",
       "  ['2014年6月8日',\n",
       "   '很少迷迷糊糊的时候记些东西了。这两天，跟着信息的小孩，小小孩凑了凑闹;又和辩论的老人，老老人叙了叙情。一直觉得自己是个不太善于表达感情的人，尤其当面表达自己最真最真的感情。\\n大学三年，你们带给我的有自责，有纠结，有苦闹，当然还有更多更好的。我会记得，当初当部长的时候大家恨不得把脑子用破想吸引小孩儿经常来例会;我会记得，我们部的两个妹子为了部门的事情流泪受委屈;我会记得，一年前的我们，在19楼，给大家做的心墙，做的视频。我不会忘，当初辩论队信誓旦旦进大活的梦想;我不会忘，我们小组赛被淘汰大家失望的表情，珍惜还留了泪;我不会忘，10的你们对我们帮助多大，每周在19陪着我们，逢年过节也会给我们买好吃的。\\n自己作为一个学弟，可能不算很好，作为一个学长，可能也不咋样。但是真的很高兴很高兴大学能够认识大家，信息er&辩论er。\\n马上死大四的了，争取做个愈发靠谱的好学长。\\n最后，祝福......'],\n",
       "  ['2014年6月5日', '毕业季，又一年\\n又一年，离别时\\n感谢大学期间能够遇到这群有时还很靠谱的学长学姐，下次回家，多带一人。⊙▽⊙']]]"
      ]
     },
     "execution_count": 42,
     "metadata": {},
     "output_type": "execute_result"
    }
   ],
   "source": [
    "TIMES_CONSTENTS"
   ]
  },
  {
   "cell_type": "code",
   "execution_count": 46,
   "metadata": {
    "collapsed": false
   },
   "outputs": [
    {
     "name": "stdout",
     "output_type": "stream",
     "text": [
      "http://user.qzone.qq.com/771657815\n",
      "登陆成功！\n"
     ]
    }
   ],
   "source": [
    "driver = webdriver.PhantomJS('/usr/local/phantomjs/bin/phantomjs')\n",
    "logIn()"
   ]
  },
  {
   "cell_type": "code",
   "execution_count": 47,
   "metadata": {
    "collapsed": true
   },
   "outputs": [],
   "source": [
    "original_url = driver.current_url+'/311'"
   ]
  },
  {
   "cell_type": "code",
   "execution_count": 61,
   "metadata": {
    "collapsed": true
   },
   "outputs": [],
   "source": [
    "driver.get(original_url)"
   ]
  },
  {
   "cell_type": "code",
   "execution_count": 62,
   "metadata": {
    "collapsed": true
   },
   "outputs": [],
   "source": [
    "driver.switch_to_frame(driver.find_element_by_class_name('app_canvas_frame'))"
   ]
  },
  {
   "cell_type": "code",
   "execution_count": 63,
   "metadata": {
    "collapsed": true
   },
   "outputs": [],
   "source": [
    "allPagesNum = allPages()"
   ]
  },
  {
   "cell_type": "code",
   "execution_count": 64,
   "metadata": {
    "collapsed": false,
    "scrolled": true
   },
   "outputs": [
    {
     "name": "stdout",
     "output_type": "stream",
     "text": [
      "开始第 1 页的收集\n",
      "结束第 1 页的收集\n",
      "开始第 2 页的收集\n",
      "结束第 2 页的收集\n",
      "开始第 3 页的收集\n",
      "结束第 3 页的收集\n",
      "开始第 4 页的收集\n",
      "结束第 4 页的收集\n",
      "开始第 5 页的收集\n",
      "结束第 5 页的收集\n",
      "开始第 6 页的收集\n",
      "结束第 6 页的收集\n",
      "开始第 7 页的收集\n",
      "结束第 7 页的收集\n",
      "开始第 8 页的收集\n",
      "结束第 8 页的收集\n",
      "开始第 9 页的收集\n",
      "结束第 9 页的收集\n",
      "开始第 10 页的收集\n",
      "结束第 10 页的收集\n",
      "开始第 11 页的收集\n",
      "结束第 11 页的收集\n",
      "开始第 12 页的收集\n",
      "结束第 12 页的收集\n",
      "开始第 13 页的收集\n",
      "结束第 13 页的收集\n",
      "开始第 14 页的收集\n",
      "结束第 14 页的收集\n",
      "开始第 15 页的收集\n",
      "结束第 15 页的收集\n",
      "开始第 16 页的收集\n",
      "结束第 16 页的收集\n",
      "开始第 17 页的收集\n",
      "结束第 17 页的收集\n",
      "开始第 18 页的收集\n",
      "结束第 18 页的收集\n",
      "开始第 19 页的收集\n",
      "结束第 19 页的收集\n",
      "开始第 20 页的收集\n",
      "结束第 20 页的收集\n",
      "开始第 21 页的收集\n",
      "结束第 21 页的收集\n",
      "全部完成！\n"
     ]
    }
   ],
   "source": [
    "TIMES_CONSTENTS = []\n",
    "for i in range(allPagesNum):\n",
    "    print ('开始第',i+1,'页的收集')\n",
    "    times_contents = onePageInfo()\n",
    "    TIMES_CONSTENTS+=times_contents\n",
    "    print ('结束第',i+1,'页的收集')\n",
    "    try:\n",
    "        nextPage(i)\n",
    "    except:\n",
    "        print ('全部完成！')"
   ]
  },
  {
   "cell_type": "code",
   "execution_count": 65,
   "metadata": {
    "collapsed": false,
    "scrolled": true
   },
   "outputs": [
    {
     "data": {
      "text/plain": [
       "406"
      ]
     },
     "execution_count": 65,
     "metadata": {},
     "output_type": "execute_result"
    }
   ],
   "source": [
    "len(TIMES_CONSTENTS)"
   ]
  },
  {
   "cell_type": "code",
   "execution_count": 66,
   "metadata": {
    "collapsed": true
   },
   "outputs": [],
   "source": [
    "def logIn(name,pw):\n",
    "    global driver\n",
    "    driver.get('http://i.qq.com/')\n",
    "    driver.maximize_window()\n",
    "    driver.switch_to_frame(driver.find_element_by_id('login_frame'))\n",
    "    upElement = driver.find_element_by_id('switcher_plogin')\n",
    "    upElement.click()\n",
    "    #输入账号密码，以及submit\n",
    "    uElement = driver.find_element_by_id('u')\n",
    "    pElement = driver.find_element_by_id('p') \n",
    "    uElement.clear()  \n",
    "    uElement.send_keys(name)\n",
    "    pElement.clear()\n",
    "    pElement.send_keys(pw)\n",
    "    time.sleep(1)\n",
    "    loginB = driver.find_element_by_id('login_button')\n",
    "    loginB.click()\n",
    "    time.sleep(1)\n",
    "    print ('登陆成功！')\n",
    "\n",
    "def allPages():\n",
    "    global driver\n",
    "    # 默认driver.switch_to_frame(driver.find_element_by_class_name('app_canvas_frame'))\n",
    "    driver.find_element_by_id('_pager_content_0')\n",
    "    bsPaperNum = BeautifulSoup(driver.page_source,'lxml')\n",
    "    return int(bsPaperNum.find('a',title=\"下一页\").previous_sibling.get_text())\n",
    "\n",
    "def onePageInfo():\n",
    "    # 默认driver.switch_to_frame(driver.find_element_by_class_name('app_canvas_frame'))\n",
    "    global driver\n",
    "    bsObj = BeautifulSoup(driver.page_source,'lxml')\n",
    "    times_contents = [[li0.find('a',class_='c_tx3').get_text(),li0.find('pre',class_='content').get_text()] \\\n",
    "    for li0 in bsObj.findAll('li',class_='feed')]\n",
    "    return times_contents\n",
    "\n",
    "def nextPage(i):\n",
    "    global driver\n",
    "    # 默认driver.switch_to_frame(driver.find_element_by_class_name('app_canvas_frame'))\n",
    "    driver.find_element_by_id('pager_next_'+str(i)).click()"
   ]
  },
  {
   "cell_type": "code",
   "execution_count": 67,
   "metadata": {
    "collapsed": false
   },
   "outputs": [
    {
     "name": "stdout",
     "output_type": "stream",
     "text": [
      "请输入登陆用的qq号：771657815\n",
      "请输入对应的qq密码：ygy433991100\n",
      "登陆成功！\n"
     ]
    }
   ],
   "source": [
    "driver = webdriver.PhantomJS('/usr/local/phantomjs/bin/phantomjs')\n",
    "driver.implicitly_wait(1)\n",
    "name = input('请输入登陆用的qq号：')\n",
    "pw = input('请输入对应的qq密码：')\n",
    "logIn(name,pw)"
   ]
  },
  {
   "cell_type": "code",
   "execution_count": 68,
   "metadata": {
    "collapsed": false
   },
   "outputs": [
    {
     "data": {
      "text/plain": [
       "'http://user.qzone.qq.com/771657815'"
      ]
     },
     "execution_count": 68,
     "metadata": {},
     "output_type": "execute_result"
    }
   ],
   "source": [
    "driver.current_url"
   ]
  },
  {
   "cell_type": "code",
   "execution_count": 70,
   "metadata": {
    "collapsed": true
   },
   "outputs": [],
   "source": [
    "allPagesNum = allPages()"
   ]
  },
  {
   "cell_type": "code",
   "execution_count": 69,
   "metadata": {
    "collapsed": false
   },
   "outputs": [
    {
     "ename": "NoSuchElementException",
     "evalue": "Message: {\"errorMessage\":\"Unable to find element with id '_pager_content_0'\",\"request\":{\"headers\":{\"Accept\":\"application/json\",\"Accept-Encoding\":\"identity\",\"Connection\":\"close\",\"Content-Length\":\"97\",\"Content-Type\":\"application/json;charset=UTF-8\",\"Host\":\"127.0.0.1:52171\",\"User-Agent\":\"Python-urllib/3.5\"},\"httpVersion\":\"1.1\",\"method\":\"POST\",\"post\":\"{\\\"value\\\": \\\"_pager_content_0\\\", \\\"sessionId\\\": \\\"82d6ee40-cd36-11e5-9484-ed7069798f95\\\", \\\"using\\\": \\\"id\\\"}\",\"url\":\"/element\",\"urlParsed\":{\"anchor\":\"\",\"query\":\"\",\"file\":\"element\",\"directory\":\"/\",\"path\":\"/element\",\"relative\":\"/element\",\"port\":\"\",\"host\":\"\",\"password\":\"\",\"user\":\"\",\"userInfo\":\"\",\"authority\":\"\",\"protocol\":\"\",\"source\":\"/element\",\"queryKey\":{},\"chunks\":[\"element\"]},\"urlOriginal\":\"/session/82d6ee40-cd36-11e5-9484-ed7069798f95/element\"}}\n",
     "output_type": "error",
     "traceback": [
      "\u001b[0;31m---------------------------------------------------------------------------\u001b[0m",
      "\u001b[0;31mNoSuchElementException\u001b[0m                    Traceback (most recent call last)",
      "\u001b[0;32m<ipython-input-69-46fa791b4a3e>\u001b[0m in \u001b[0;36m<module>\u001b[0;34m()\u001b[0m\n\u001b[1;32m      2\u001b[0m \u001b[0;31m# time.sleep(1)\u001b[0m\u001b[0;34m\u001b[0m\u001b[0;34m\u001b[0m\u001b[0m\n\u001b[1;32m      3\u001b[0m \u001b[0mdriver\u001b[0m\u001b[0;34m.\u001b[0m\u001b[0mswitch_to_frame\u001b[0m\u001b[0;34m(\u001b[0m\u001b[0mdriver\u001b[0m\u001b[0;34m.\u001b[0m\u001b[0mfind_element_by_class_name\u001b[0m\u001b[0;34m(\u001b[0m\u001b[0;34m'app_canvas_frame'\u001b[0m\u001b[0;34m)\u001b[0m\u001b[0;34m)\u001b[0m\u001b[0;34m\u001b[0m\u001b[0m\n\u001b[0;32m----> 4\u001b[0;31m \u001b[0mallPagesNum\u001b[0m \u001b[0;34m=\u001b[0m \u001b[0mallPages\u001b[0m\u001b[0;34m(\u001b[0m\u001b[0;34m)\u001b[0m\u001b[0;34m\u001b[0m\u001b[0m\n\u001b[0m\u001b[1;32m      5\u001b[0m \u001b[0mTIMES_CONSTENTS\u001b[0m \u001b[0;34m=\u001b[0m \u001b[0;34m[\u001b[0m\u001b[0;34m]\u001b[0m\u001b[0;34m\u001b[0m\u001b[0m\n\u001b[1;32m      6\u001b[0m \u001b[0;32mfor\u001b[0m \u001b[0mi\u001b[0m \u001b[0;32min\u001b[0m \u001b[0mrange\u001b[0m\u001b[0;34m(\u001b[0m\u001b[0mallPagesNum\u001b[0m\u001b[0;34m)\u001b[0m\u001b[0;34m:\u001b[0m\u001b[0;34m\u001b[0m\u001b[0m\n",
      "\u001b[0;32m<ipython-input-66-b6a3a010dee0>\u001b[0m in \u001b[0;36mallPages\u001b[0;34m()\u001b[0m\n\u001b[1;32m     22\u001b[0m     \u001b[0;32mglobal\u001b[0m \u001b[0mdriver\u001b[0m\u001b[0;34m\u001b[0m\u001b[0m\n\u001b[1;32m     23\u001b[0m     \u001b[0;31m# 默认driver.switch_to_frame(driver.find_element_by_class_name('app_canvas_frame'))\u001b[0m\u001b[0;34m\u001b[0m\u001b[0;34m\u001b[0m\u001b[0m\n\u001b[0;32m---> 24\u001b[0;31m     \u001b[0mdriver\u001b[0m\u001b[0;34m.\u001b[0m\u001b[0mfind_element_by_id\u001b[0m\u001b[0;34m(\u001b[0m\u001b[0;34m'_pager_content_0'\u001b[0m\u001b[0;34m)\u001b[0m\u001b[0;34m\u001b[0m\u001b[0m\n\u001b[0m\u001b[1;32m     25\u001b[0m     \u001b[0mbsPaperNum\u001b[0m \u001b[0;34m=\u001b[0m \u001b[0mBeautifulSoup\u001b[0m\u001b[0;34m(\u001b[0m\u001b[0mdriver\u001b[0m\u001b[0;34m.\u001b[0m\u001b[0mpage_source\u001b[0m\u001b[0;34m,\u001b[0m\u001b[0;34m'lxml'\u001b[0m\u001b[0;34m)\u001b[0m\u001b[0;34m\u001b[0m\u001b[0m\n\u001b[1;32m     26\u001b[0m     \u001b[0;32mreturn\u001b[0m \u001b[0mint\u001b[0m\u001b[0;34m(\u001b[0m\u001b[0mbsPaperNum\u001b[0m\u001b[0;34m.\u001b[0m\u001b[0mfind\u001b[0m\u001b[0;34m(\u001b[0m\u001b[0;34m'a'\u001b[0m\u001b[0;34m,\u001b[0m\u001b[0mtitle\u001b[0m\u001b[0;34m=\u001b[0m\u001b[0;34m\"下一页\"\u001b[0m\u001b[0;34m)\u001b[0m\u001b[0;34m.\u001b[0m\u001b[0mprevious_sibling\u001b[0m\u001b[0;34m.\u001b[0m\u001b[0mget_text\u001b[0m\u001b[0;34m(\u001b[0m\u001b[0;34m)\u001b[0m\u001b[0;34m)\u001b[0m\u001b[0;34m\u001b[0m\u001b[0m\n",
      "\u001b[0;32m//anaconda/envs/python3/lib/python3.5/site-packages/selenium-2.51.1-py3.5.egg/selenium/webdriver/remote/webdriver.py\u001b[0m in \u001b[0;36mfind_element_by_id\u001b[0;34m(self, id_)\u001b[0m\n\u001b[1;32m    232\u001b[0m             \u001b[0mdriver\u001b[0m\u001b[0;34m.\u001b[0m\u001b[0mfind_element_by_id\u001b[0m\u001b[0;34m(\u001b[0m\u001b[0;34m'foo'\u001b[0m\u001b[0;34m)\u001b[0m\u001b[0;34m\u001b[0m\u001b[0m\n\u001b[1;32m    233\u001b[0m         \"\"\"\n\u001b[0;32m--> 234\u001b[0;31m         \u001b[0;32mreturn\u001b[0m \u001b[0mself\u001b[0m\u001b[0;34m.\u001b[0m\u001b[0mfind_element\u001b[0m\u001b[0;34m(\u001b[0m\u001b[0mby\u001b[0m\u001b[0;34m=\u001b[0m\u001b[0mBy\u001b[0m\u001b[0;34m.\u001b[0m\u001b[0mID\u001b[0m\u001b[0;34m,\u001b[0m \u001b[0mvalue\u001b[0m\u001b[0;34m=\u001b[0m\u001b[0mid_\u001b[0m\u001b[0;34m)\u001b[0m\u001b[0;34m\u001b[0m\u001b[0m\n\u001b[0m\u001b[1;32m    235\u001b[0m \u001b[0;34m\u001b[0m\u001b[0m\n\u001b[1;32m    236\u001b[0m     \u001b[0;32mdef\u001b[0m \u001b[0mfind_elements_by_id\u001b[0m\u001b[0;34m(\u001b[0m\u001b[0mself\u001b[0m\u001b[0;34m,\u001b[0m \u001b[0mid_\u001b[0m\u001b[0;34m)\u001b[0m\u001b[0;34m:\u001b[0m\u001b[0;34m\u001b[0m\u001b[0m\n",
      "\u001b[0;32m//anaconda/envs/python3/lib/python3.5/site-packages/selenium-2.51.1-py3.5.egg/selenium/webdriver/remote/webdriver.py\u001b[0m in \u001b[0;36mfind_element\u001b[0;34m(self, by, value)\u001b[0m\n\u001b[1;32m    710\u001b[0m                 \u001b[0mvalue\u001b[0m \u001b[0;34m=\u001b[0m \u001b[0;34m'[name=\"%s\"]'\u001b[0m \u001b[0;34m%\u001b[0m \u001b[0mvalue\u001b[0m\u001b[0;34m\u001b[0m\u001b[0m\n\u001b[1;32m    711\u001b[0m         return self.execute(Command.FIND_ELEMENT,\n\u001b[0;32m--> 712\u001b[0;31m                              {'using': by, 'value': value})['value']\n\u001b[0m\u001b[1;32m    713\u001b[0m \u001b[0;34m\u001b[0m\u001b[0m\n\u001b[1;32m    714\u001b[0m     \u001b[0;32mdef\u001b[0m \u001b[0mfind_elements\u001b[0m\u001b[0;34m(\u001b[0m\u001b[0mself\u001b[0m\u001b[0;34m,\u001b[0m \u001b[0mby\u001b[0m\u001b[0;34m=\u001b[0m\u001b[0mBy\u001b[0m\u001b[0;34m.\u001b[0m\u001b[0mID\u001b[0m\u001b[0;34m,\u001b[0m \u001b[0mvalue\u001b[0m\u001b[0;34m=\u001b[0m\u001b[0;32mNone\u001b[0m\u001b[0;34m)\u001b[0m\u001b[0;34m:\u001b[0m\u001b[0;34m\u001b[0m\u001b[0m\n",
      "\u001b[0;32m//anaconda/envs/python3/lib/python3.5/site-packages/selenium-2.51.1-py3.5.egg/selenium/webdriver/remote/webdriver.py\u001b[0m in \u001b[0;36mexecute\u001b[0;34m(self, driver_command, params)\u001b[0m\n\u001b[1;32m    199\u001b[0m         \u001b[0mresponse\u001b[0m \u001b[0;34m=\u001b[0m \u001b[0mself\u001b[0m\u001b[0;34m.\u001b[0m\u001b[0mcommand_executor\u001b[0m\u001b[0;34m.\u001b[0m\u001b[0mexecute\u001b[0m\u001b[0;34m(\u001b[0m\u001b[0mdriver_command\u001b[0m\u001b[0;34m,\u001b[0m \u001b[0mparams\u001b[0m\u001b[0;34m)\u001b[0m\u001b[0;34m\u001b[0m\u001b[0m\n\u001b[1;32m    200\u001b[0m         \u001b[0;32mif\u001b[0m \u001b[0mresponse\u001b[0m\u001b[0;34m:\u001b[0m\u001b[0;34m\u001b[0m\u001b[0m\n\u001b[0;32m--> 201\u001b[0;31m             \u001b[0mself\u001b[0m\u001b[0;34m.\u001b[0m\u001b[0merror_handler\u001b[0m\u001b[0;34m.\u001b[0m\u001b[0mcheck_response\u001b[0m\u001b[0;34m(\u001b[0m\u001b[0mresponse\u001b[0m\u001b[0;34m)\u001b[0m\u001b[0;34m\u001b[0m\u001b[0m\n\u001b[0m\u001b[1;32m    202\u001b[0m             response['value'] = self._unwrap_value(\n\u001b[1;32m    203\u001b[0m                 response.get('value', None))\n",
      "\u001b[0;32m//anaconda/envs/python3/lib/python3.5/site-packages/selenium-2.51.1-py3.5.egg/selenium/webdriver/remote/errorhandler.py\u001b[0m in \u001b[0;36mcheck_response\u001b[0;34m(self, response)\u001b[0m\n\u001b[1;32m    191\u001b[0m         \u001b[0;32melif\u001b[0m \u001b[0mexception_class\u001b[0m \u001b[0;34m==\u001b[0m \u001b[0mUnexpectedAlertPresentException\u001b[0m \u001b[0;32mand\u001b[0m \u001b[0;34m'alert'\u001b[0m \u001b[0;32min\u001b[0m \u001b[0mvalue\u001b[0m\u001b[0;34m:\u001b[0m\u001b[0;34m\u001b[0m\u001b[0m\n\u001b[1;32m    192\u001b[0m             \u001b[0;32mraise\u001b[0m \u001b[0mexception_class\u001b[0m\u001b[0;34m(\u001b[0m\u001b[0mmessage\u001b[0m\u001b[0;34m,\u001b[0m \u001b[0mscreen\u001b[0m\u001b[0;34m,\u001b[0m \u001b[0mstacktrace\u001b[0m\u001b[0;34m,\u001b[0m \u001b[0mvalue\u001b[0m\u001b[0;34m[\u001b[0m\u001b[0;34m'alert'\u001b[0m\u001b[0;34m]\u001b[0m\u001b[0;34m.\u001b[0m\u001b[0mget\u001b[0m\u001b[0;34m(\u001b[0m\u001b[0;34m'text'\u001b[0m\u001b[0;34m)\u001b[0m\u001b[0;34m)\u001b[0m\u001b[0;34m\u001b[0m\u001b[0m\n\u001b[0;32m--> 193\u001b[0;31m         \u001b[0;32mraise\u001b[0m \u001b[0mexception_class\u001b[0m\u001b[0;34m(\u001b[0m\u001b[0mmessage\u001b[0m\u001b[0;34m,\u001b[0m \u001b[0mscreen\u001b[0m\u001b[0;34m,\u001b[0m \u001b[0mstacktrace\u001b[0m\u001b[0;34m)\u001b[0m\u001b[0;34m\u001b[0m\u001b[0m\n\u001b[0m\u001b[1;32m    194\u001b[0m \u001b[0;34m\u001b[0m\u001b[0m\n\u001b[1;32m    195\u001b[0m     \u001b[0;32mdef\u001b[0m \u001b[0m_value_or_default\u001b[0m\u001b[0;34m(\u001b[0m\u001b[0mself\u001b[0m\u001b[0;34m,\u001b[0m \u001b[0mobj\u001b[0m\u001b[0;34m,\u001b[0m \u001b[0mkey\u001b[0m\u001b[0;34m,\u001b[0m \u001b[0mdefault\u001b[0m\u001b[0;34m)\u001b[0m\u001b[0;34m:\u001b[0m\u001b[0;34m\u001b[0m\u001b[0m\n",
      "\u001b[0;31mNoSuchElementException\u001b[0m: Message: {\"errorMessage\":\"Unable to find element with id '_pager_content_0'\",\"request\":{\"headers\":{\"Accept\":\"application/json\",\"Accept-Encoding\":\"identity\",\"Connection\":\"close\",\"Content-Length\":\"97\",\"Content-Type\":\"application/json;charset=UTF-8\",\"Host\":\"127.0.0.1:52171\",\"User-Agent\":\"Python-urllib/3.5\"},\"httpVersion\":\"1.1\",\"method\":\"POST\",\"post\":\"{\\\"value\\\": \\\"_pager_content_0\\\", \\\"sessionId\\\": \\\"82d6ee40-cd36-11e5-9484-ed7069798f95\\\", \\\"using\\\": \\\"id\\\"}\",\"url\":\"/element\",\"urlParsed\":{\"anchor\":\"\",\"query\":\"\",\"file\":\"element\",\"directory\":\"/\",\"path\":\"/element\",\"relative\":\"/element\",\"port\":\"\",\"host\":\"\",\"password\":\"\",\"user\":\"\",\"userInfo\":\"\",\"authority\":\"\",\"protocol\":\"\",\"source\":\"/element\",\"queryKey\":{},\"chunks\":[\"element\"]},\"urlOriginal\":\"/session/82d6ee40-cd36-11e5-9484-ed7069798f95/element\"}}\n"
     ]
    }
   ],
   "source": [
    "driver.get(driver.current_url+'/311')\n",
    "# time.sleep(1)\n",
    "driver.switch_to_frame(driver.find_element_by_class_name('app_canvas_frame'))\n",
    "allPagesNum = allPages()\n",
    "TIMES_CONSTENTS = []\n",
    "for i in range(allPagesNum):\n",
    "    print ('开始第',i+1,'页的收集')\n",
    "    times_contents = onePageInfo()\n",
    "    TIMES_CONSTENTS+=times_contents\n",
    "    print ('结束第',i+1,'页的收集')\n",
    "    try:\n",
    "        nextPage(i)\n",
    "    except:\n",
    "        print ('全部完成！')"
   ]
  }
 ],
 "metadata": {
  "kernelspec": {
   "display_name": "Python 3",
   "language": "python",
   "name": "python3"
  },
  "language_info": {
   "codemirror_mode": {
    "name": "ipython",
    "version": 3
   },
   "file_extension": ".py",
   "mimetype": "text/x-python",
   "name": "python",
   "nbconvert_exporter": "python",
   "pygments_lexer": "ipython3",
   "version": "3.5.1"
  }
 },
 "nbformat": 4,
 "nbformat_minor": 0
}
