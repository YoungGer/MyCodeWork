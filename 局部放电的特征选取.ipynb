{
 "cells": [
  {
   "cell_type": "markdown",
   "metadata": {},
   "source": [
    "# 输入数据"
   ]
  },
  {
   "cell_type": "code",
   "execution_count": 112,
   "metadata": {
    "collapsed": false
   },
   "outputs": [],
   "source": [
    "import pandas as pd"
   ]
  },
  {
   "cell_type": "code",
   "execution_count": 113,
   "metadata": {
    "collapsed": false
   },
   "outputs": [],
   "source": [
    "d = pd.read_csv(\"2C4KPdNoise.csv\")"
   ]
  },
  {
   "cell_type": "markdown",
   "metadata": {},
   "source": [
    "# 数据观察"
   ]
  },
  {
   "cell_type": "code",
   "execution_count": 8,
   "metadata": {
    "collapsed": false
   },
   "outputs": [
    {
     "data": {
      "text/html": [
       "<div>\n",
       "<table border=\"1\" class=\"dataframe\">\n",
       "  <thead>\n",
       "    <tr style=\"text-align: right;\">\n",
       "      <th></th>\n",
       "      <th>pd_location</th>\n",
       "      <th>signal_width</th>\n",
       "      <th>rise_time</th>\n",
       "      <th>fall_time</th>\n",
       "      <th>peak_voltage</th>\n",
       "      <th>polarity</th>\n",
       "      <th>mean_voltage</th>\n",
       "      <th>rms</th>\n",
       "      <th>sd</th>\n",
       "      <th>skewness</th>\n",
       "      <th>kurtosis</th>\n",
       "      <th>crest</th>\n",
       "      <th>form_factor</th>\n",
       "      <th>MainFreq</th>\n",
       "      <th>phase_angle</th>\n",
       "      <th>T</th>\n",
       "      <th>W</th>\n",
       "      <th>pC</th>\n",
       "      <th>pd_class</th>\n",
       "    </tr>\n",
       "  </thead>\n",
       "  <tbody>\n",
       "    <tr>\n",
       "      <th>0</th>\n",
       "      <td>974025</td>\n",
       "      <td>15</td>\n",
       "      <td>7</td>\n",
       "      <td>8</td>\n",
       "      <td>0.003647</td>\n",
       "      <td>1</td>\n",
       "      <td>0.002281</td>\n",
       "      <td>0.002612</td>\n",
       "      <td>0.001315</td>\n",
       "      <td>-0.527909</td>\n",
       "      <td>1.809819</td>\n",
       "      <td>1.396064</td>\n",
       "      <td>1.145260</td>\n",
       "      <td>0</td>\n",
       "      <td>175.32450</td>\n",
       "      <td>23.51204</td>\n",
       "      <td>8.375604</td>\n",
       "      <td>72.98505</td>\n",
       "      <td>1</td>\n",
       "    </tr>\n",
       "    <tr>\n",
       "      <th>1</th>\n",
       "      <td>367088</td>\n",
       "      <td>15</td>\n",
       "      <td>7</td>\n",
       "      <td>8</td>\n",
       "      <td>0.008524</td>\n",
       "      <td>-1</td>\n",
       "      <td>-0.004991</td>\n",
       "      <td>0.005775</td>\n",
       "      <td>0.003001</td>\n",
       "      <td>0.353562</td>\n",
       "      <td>1.682262</td>\n",
       "      <td>1.476026</td>\n",
       "      <td>-1.157157</td>\n",
       "      <td>0</td>\n",
       "      <td>66.07584</td>\n",
       "      <td>23.57325</td>\n",
       "      <td>8.367459</td>\n",
       "      <td>159.69920</td>\n",
       "      <td>1</td>\n",
       "    </tr>\n",
       "    <tr>\n",
       "      <th>2</th>\n",
       "      <td>1175169</td>\n",
       "      <td>16</td>\n",
       "      <td>8</td>\n",
       "      <td>8</td>\n",
       "      <td>0.003238</td>\n",
       "      <td>1</td>\n",
       "      <td>0.002011</td>\n",
       "      <td>0.002265</td>\n",
       "      <td>0.001074</td>\n",
       "      <td>-0.435637</td>\n",
       "      <td>1.931870</td>\n",
       "      <td>1.429596</td>\n",
       "      <td>1.126346</td>\n",
       "      <td>0</td>\n",
       "      <td>211.53040</td>\n",
       "      <td>25.72543</td>\n",
       "      <td>7.494658</td>\n",
       "      <td>68.37072</td>\n",
       "      <td>1</td>\n",
       "    </tr>\n",
       "    <tr>\n",
       "      <th>3</th>\n",
       "      <td>313993</td>\n",
       "      <td>15</td>\n",
       "      <td>6</td>\n",
       "      <td>9</td>\n",
       "      <td>0.007815</td>\n",
       "      <td>-1</td>\n",
       "      <td>-0.004734</td>\n",
       "      <td>0.005354</td>\n",
       "      <td>0.002583</td>\n",
       "      <td>0.400923</td>\n",
       "      <td>1.835821</td>\n",
       "      <td>1.459494</td>\n",
       "      <td>-1.130962</td>\n",
       "      <td>0</td>\n",
       "      <td>56.51874</td>\n",
       "      <td>23.17775</td>\n",
       "      <td>7.680690</td>\n",
       "      <td>151.49990</td>\n",
       "      <td>1</td>\n",
       "    </tr>\n",
       "    <tr>\n",
       "      <th>4</th>\n",
       "      <td>92725</td>\n",
       "      <td>15</td>\n",
       "      <td>6</td>\n",
       "      <td>9</td>\n",
       "      <td>0.006957</td>\n",
       "      <td>-1</td>\n",
       "      <td>-0.004095</td>\n",
       "      <td>0.004687</td>\n",
       "      <td>0.002354</td>\n",
       "      <td>0.340022</td>\n",
       "      <td>1.750541</td>\n",
       "      <td>1.484330</td>\n",
       "      <td>-1.144421</td>\n",
       "      <td>0</td>\n",
       "      <td>16.69050</td>\n",
       "      <td>23.27243</td>\n",
       "      <td>7.945805</td>\n",
       "      <td>131.05210</td>\n",
       "      <td>1</td>\n",
       "    </tr>\n",
       "  </tbody>\n",
       "</table>\n",
       "</div>"
      ],
      "text/plain": [
       "   pd_location  signal_width  rise_time  fall_time  peak_voltage  polarity  \\\n",
       "0       974025            15          7          8      0.003647         1   \n",
       "1       367088            15          7          8      0.008524        -1   \n",
       "2      1175169            16          8          8      0.003238         1   \n",
       "3       313993            15          6          9      0.007815        -1   \n",
       "4        92725            15          6          9      0.006957        -1   \n",
       "\n",
       "   mean_voltage       rms        sd  skewness  kurtosis     crest  \\\n",
       "0      0.002281  0.002612  0.001315 -0.527909  1.809819  1.396064   \n",
       "1     -0.004991  0.005775  0.003001  0.353562  1.682262  1.476026   \n",
       "2      0.002011  0.002265  0.001074 -0.435637  1.931870  1.429596   \n",
       "3     -0.004734  0.005354  0.002583  0.400923  1.835821  1.459494   \n",
       "4     -0.004095  0.004687  0.002354  0.340022  1.750541  1.484330   \n",
       "\n",
       "   form_factor  MainFreq  phase_angle         T         W         pC  pd_class  \n",
       "0     1.145260         0    175.32450  23.51204  8.375604   72.98505         1  \n",
       "1    -1.157157         0     66.07584  23.57325  8.367459  159.69920         1  \n",
       "2     1.126346         0    211.53040  25.72543  7.494658   68.37072         1  \n",
       "3    -1.130962         0     56.51874  23.17775  7.680690  151.49990         1  \n",
       "4    -1.144421         0     16.69050  23.27243  7.945805  131.05210         1  "
      ]
     },
     "execution_count": 8,
     "metadata": {},
     "output_type": "execute_result"
    }
   ],
   "source": [
    "d.head()"
   ]
  },
  {
   "cell_type": "code",
   "execution_count": 29,
   "metadata": {
    "collapsed": false,
    "scrolled": false
   },
   "outputs": [
    {
     "data": {
      "text/html": [
       "<div>\n",
       "<table border=\"1\" class=\"dataframe\">\n",
       "  <thead>\n",
       "    <tr style=\"text-align: right;\">\n",
       "      <th></th>\n",
       "      <th>T</th>\n",
       "    </tr>\n",
       "    <tr>\n",
       "      <th>pd_class</th>\n",
       "      <th></th>\n",
       "    </tr>\n",
       "  </thead>\n",
       "  <tbody>\n",
       "    <tr>\n",
       "      <th>1</th>\n",
       "      <td>400</td>\n",
       "    </tr>\n",
       "    <tr>\n",
       "      <th>2</th>\n",
       "      <td>400</td>\n",
       "    </tr>\n",
       "    <tr>\n",
       "      <th>3</th>\n",
       "      <td>400</td>\n",
       "    </tr>\n",
       "    <tr>\n",
       "      <th>4</th>\n",
       "      <td>400</td>\n",
       "    </tr>\n",
       "    <tr>\n",
       "      <th>5</th>\n",
       "      <td>400</td>\n",
       "    </tr>\n",
       "  </tbody>\n",
       "</table>\n",
       "</div>"
      ],
      "text/plain": [
       "            T\n",
       "pd_class     \n",
       "1         400\n",
       "2         400\n",
       "3         400\n",
       "4         400\n",
       "5         400"
      ]
     },
     "execution_count": 29,
     "metadata": {},
     "output_type": "execute_result"
    }
   ],
   "source": [
    "d.groupby(\"pd_class\").agg({'T': len})"
   ]
  },
  {
   "cell_type": "code",
   "execution_count": 230,
   "metadata": {
    "collapsed": false
   },
   "outputs": [
    {
     "data": {
      "text/plain": [
       "Index(['pd_location', 'signal_width', 'rise_time', 'fall_time', 'peak_voltage',\n",
       "       'polarity', 'mean_voltage', 'rms', 'sd', 'skewness', 'kurtosis',\n",
       "       'crest', 'form_factor', 'MainFreq', 'phase_angle', 'T', 'W', 'pC',\n",
       "       'pd_class'],\n",
       "      dtype='object')"
      ]
     },
     "execution_count": 230,
     "metadata": {},
     "output_type": "execute_result"
    }
   ],
   "source": [
    "d.columns"
   ]
  },
  {
   "cell_type": "code",
   "execution_count": 32,
   "metadata": {
    "collapsed": false,
    "scrolled": true
   },
   "outputs": [
    {
     "data": {
      "text/plain": [
       "pd_location     False\n",
       "signal_width    False\n",
       "rise_time       False\n",
       "fall_time       False\n",
       "peak_voltage    False\n",
       "polarity        False\n",
       "mean_voltage    False\n",
       "rms             False\n",
       "sd              False\n",
       "skewness        False\n",
       "kurtosis        False\n",
       "crest           False\n",
       "form_factor     False\n",
       "MainFreq        False\n",
       "phase_angle     False\n",
       "T               False\n",
       "W               False\n",
       "pC              False\n",
       "pd_class        False\n",
       "dtype: bool"
      ]
     },
     "execution_count": 32,
     "metadata": {},
     "output_type": "execute_result"
    }
   ],
   "source": [
    "d.isnull().any()"
   ]
  },
  {
   "cell_type": "markdown",
   "metadata": {},
   "source": [
    "# 训练集和测试集划分"
   ]
  },
  {
   "cell_type": "code",
   "execution_count": 48,
   "metadata": {
    "collapsed": false
   },
   "outputs": [
    {
     "name": "stdout",
     "output_type": "stream",
     "text": [
      "X_train shape: (1400, 18)\n",
      "X_test  shape: (600, 18)\n",
      "Y_train shape: (1400,)\n",
      "Y_test  shape: (600,)\n"
     ]
    }
   ],
   "source": [
    "# 训练集和测试集划分\n",
    "from sklearn.cross_validation import train_test_split\n",
    "n1 = d.shape[1]-1\n",
    "X, y = d.iloc[:, 0:n1].values, d.iloc[:, n1].values\n",
    "X_train, X_test, y_train, y_test = \\\n",
    "        train_test_split(X, y, test_size=0.3, random_state=0)\n",
    "print (\"X_train shape:\",X_train.shape) \n",
    "print (\"X_test  shape:\",X_test.shape) \n",
    "print (\"Y_train shape:\",y_train.shape) \n",
    "print (\"Y_test  shape:\",y_test.shape) "
   ]
  },
  {
   "cell_type": "markdown",
   "metadata": {},
   "source": [
    "# 数据归一化"
   ]
  },
  {
   "cell_type": "code",
   "execution_count": 49,
   "metadata": {
    "collapsed": true
   },
   "outputs": [],
   "source": [
    "from sklearn.preprocessing import StandardScaler\n",
    "\n",
    "stdsc = StandardScaler()\n",
    "X_train_std = stdsc.fit_transform(X_train)\n",
    "X_test_std = stdsc.transform(X_test)"
   ]
  },
  {
   "cell_type": "markdown",
   "metadata": {},
   "source": [
    "# 通过L1-regularization选择合适的参数"
   ]
  },
  {
   "cell_type": "code",
   "execution_count": 138,
   "metadata": {
    "collapsed": false
   },
   "outputs": [],
   "source": [
    "COLUMNS = d.columns[:-1]"
   ]
  },
  {
   "cell_type": "code",
   "execution_count": null,
   "metadata": {
    "collapsed": true
   },
   "outputs": [],
   "source": [
    "#第一次选权重\n",
    "weights, params = [], []\n",
    "for c in np.arange(-4, 6):\n",
    "    lr = LogisticRegression(penalty='l1', C=10**c, random_state=0)\n",
    "    lr.fit(X_train_std, y_train)\n",
    "    weights.append(lr.coef_[1])\n",
    "    params.append(10**c)\n",
    "\n",
    "weights = np.array(weights)"
   ]
  },
  {
   "cell_type": "code",
   "execution_count": 122,
   "metadata": {
    "collapsed": false,
    "scrolled": true
   },
   "outputs": [
    {
     "data": {
      "text/html": [
       "<div>\n",
       "<table border=\"1\" class=\"dataframe\">\n",
       "  <thead>\n",
       "    <tr style=\"text-align: right;\">\n",
       "      <th></th>\n",
       "      <th>c</th>\n",
       "      <th>num</th>\n",
       "    </tr>\n",
       "  </thead>\n",
       "  <tbody>\n",
       "    <tr>\n",
       "      <th>0</th>\n",
       "      <td>-4</td>\n",
       "      <td>0</td>\n",
       "    </tr>\n",
       "    <tr>\n",
       "      <th>1</th>\n",
       "      <td>-3</td>\n",
       "      <td>0</td>\n",
       "    </tr>\n",
       "    <tr>\n",
       "      <th>2</th>\n",
       "      <td>-2</td>\n",
       "      <td>2</td>\n",
       "    </tr>\n",
       "    <tr>\n",
       "      <th>3</th>\n",
       "      <td>-1</td>\n",
       "      <td>7</td>\n",
       "    </tr>\n",
       "    <tr>\n",
       "      <th>4</th>\n",
       "      <td>0</td>\n",
       "      <td>13</td>\n",
       "    </tr>\n",
       "    <tr>\n",
       "      <th>5</th>\n",
       "      <td>1</td>\n",
       "      <td>15</td>\n",
       "    </tr>\n",
       "    <tr>\n",
       "      <th>6</th>\n",
       "      <td>2</td>\n",
       "      <td>15</td>\n",
       "    </tr>\n",
       "    <tr>\n",
       "      <th>7</th>\n",
       "      <td>3</td>\n",
       "      <td>16</td>\n",
       "    </tr>\n",
       "    <tr>\n",
       "      <th>8</th>\n",
       "      <td>4</td>\n",
       "      <td>17</td>\n",
       "    </tr>\n",
       "    <tr>\n",
       "      <th>9</th>\n",
       "      <td>5</td>\n",
       "      <td>17</td>\n",
       "    </tr>\n",
       "  </tbody>\n",
       "</table>\n",
       "</div>"
      ],
      "text/plain": [
       "   c  num\n",
       "0 -4    0\n",
       "1 -3    0\n",
       "2 -2    2\n",
       "3 -1    7\n",
       "4  0   13\n",
       "5  1   15\n",
       "6  2   15\n",
       "7  3   16\n",
       "8  4   17\n",
       "9  5   17"
      ]
     },
     "execution_count": 122,
     "metadata": {},
     "output_type": "execute_result"
    }
   ],
   "source": [
    "pd.DataFrame({\"c\":np.arange(-4, 6),\"num\":[sum(i!=0) for i in weights]})"
   ]
  },
  {
   "cell_type": "code",
   "execution_count": 126,
   "metadata": {
    "collapsed": false
   },
   "outputs": [],
   "source": [
    "#第二次选权重\n",
    "weights, params = [], []\n",
    "for c in np.linspace(-2, -1,5):\n",
    "    lr = LogisticRegression(penalty='l1', C=10**c, random_state=0)\n",
    "    lr.fit(X_train_std, y_train)\n",
    "    weights.append(lr.coef_[1])\n",
    "    params.append(10**c)\n",
    "\n",
    "weights = np.array(weights)"
   ]
  },
  {
   "cell_type": "code",
   "execution_count": 127,
   "metadata": {
    "collapsed": false,
    "scrolled": false
   },
   "outputs": [
    {
     "data": {
      "text/html": [
       "<div>\n",
       "<table border=\"1\" class=\"dataframe\">\n",
       "  <thead>\n",
       "    <tr style=\"text-align: right;\">\n",
       "      <th></th>\n",
       "      <th>c</th>\n",
       "      <th>num</th>\n",
       "    </tr>\n",
       "  </thead>\n",
       "  <tbody>\n",
       "    <tr>\n",
       "      <th>0</th>\n",
       "      <td>-2.00</td>\n",
       "      <td>2</td>\n",
       "    </tr>\n",
       "    <tr>\n",
       "      <th>1</th>\n",
       "      <td>-1.75</td>\n",
       "      <td>2</td>\n",
       "    </tr>\n",
       "    <tr>\n",
       "      <th>2</th>\n",
       "      <td>-1.50</td>\n",
       "      <td>3</td>\n",
       "    </tr>\n",
       "    <tr>\n",
       "      <th>3</th>\n",
       "      <td>-1.25</td>\n",
       "      <td>4</td>\n",
       "    </tr>\n",
       "    <tr>\n",
       "      <th>4</th>\n",
       "      <td>-1.00</td>\n",
       "      <td>7</td>\n",
       "    </tr>\n",
       "  </tbody>\n",
       "</table>\n",
       "</div>"
      ],
      "text/plain": [
       "      c  num\n",
       "0 -2.00    2\n",
       "1 -1.75    2\n",
       "2 -1.50    3\n",
       "3 -1.25    4\n",
       "4 -1.00    7"
      ]
     },
     "execution_count": 127,
     "metadata": {},
     "output_type": "execute_result"
    }
   ],
   "source": [
    "pd.DataFrame({\"c\":np.linspace(-2, -1,5),\"num\":[sum(i!=0) for i in weights]})"
   ]
  },
  {
   "cell_type": "code",
   "execution_count": 147,
   "metadata": {
    "collapsed": false,
    "scrolled": true
   },
   "outputs": [
    {
     "name": "stdout",
     "output_type": "stream",
     "text": [
      "Index(['W', 'pC'], dtype='object')\n",
      "Index(['W', 'pC'], dtype='object')\n",
      "Index(['T', 'W', 'pC'], dtype='object')\n",
      "Index(['kurtosis', 'T', 'W', 'pC'], dtype='object')\n",
      "Index(['pd_location', 'skewness', 'kurtosis', 'phase_angle', 'T', 'W', 'pC'], dtype='object')\n"
     ]
    }
   ],
   "source": [
    "for i in range (len(weights)):\n",
    "    print (COLUMNS[weights[i] !=0])"
   ]
  },
  {
   "cell_type": "code",
   "execution_count": 148,
   "metadata": {
    "collapsed": true
   },
   "outputs": [],
   "source": [
    "#第三次选权重\n",
    "weights, params = [], []\n",
    "for c in np.linspace(-1.25, -1,10):\n",
    "    lr = LogisticRegression(penalty='l1', C=10**c, random_state=0)\n",
    "    lr.fit(X_train_std, y_train)\n",
    "    weights.append(lr.coef_[1])\n",
    "    params.append(10**c)\n",
    "weights = np.array(weights)"
   ]
  },
  {
   "cell_type": "code",
   "execution_count": 149,
   "metadata": {
    "collapsed": false,
    "scrolled": true
   },
   "outputs": [
    {
     "data": {
      "text/html": [
       "<div>\n",
       "<table border=\"1\" class=\"dataframe\">\n",
       "  <thead>\n",
       "    <tr style=\"text-align: right;\">\n",
       "      <th></th>\n",
       "      <th>c</th>\n",
       "      <th>num</th>\n",
       "    </tr>\n",
       "  </thead>\n",
       "  <tbody>\n",
       "    <tr>\n",
       "      <th>0</th>\n",
       "      <td>-1.250000</td>\n",
       "      <td>4</td>\n",
       "    </tr>\n",
       "    <tr>\n",
       "      <th>1</th>\n",
       "      <td>-1.222222</td>\n",
       "      <td>4</td>\n",
       "    </tr>\n",
       "    <tr>\n",
       "      <th>2</th>\n",
       "      <td>-1.194444</td>\n",
       "      <td>4</td>\n",
       "    </tr>\n",
       "    <tr>\n",
       "      <th>3</th>\n",
       "      <td>-1.166667</td>\n",
       "      <td>6</td>\n",
       "    </tr>\n",
       "    <tr>\n",
       "      <th>4</th>\n",
       "      <td>-1.138889</td>\n",
       "      <td>6</td>\n",
       "    </tr>\n",
       "    <tr>\n",
       "      <th>5</th>\n",
       "      <td>-1.111111</td>\n",
       "      <td>6</td>\n",
       "    </tr>\n",
       "    <tr>\n",
       "      <th>6</th>\n",
       "      <td>-1.083333</td>\n",
       "      <td>6</td>\n",
       "    </tr>\n",
       "    <tr>\n",
       "      <th>7</th>\n",
       "      <td>-1.055556</td>\n",
       "      <td>6</td>\n",
       "    </tr>\n",
       "    <tr>\n",
       "      <th>8</th>\n",
       "      <td>-1.027778</td>\n",
       "      <td>7</td>\n",
       "    </tr>\n",
       "    <tr>\n",
       "      <th>9</th>\n",
       "      <td>-1.000000</td>\n",
       "      <td>7</td>\n",
       "    </tr>\n",
       "  </tbody>\n",
       "</table>\n",
       "</div>"
      ],
      "text/plain": [
       "          c  num\n",
       "0 -1.250000    4\n",
       "1 -1.222222    4\n",
       "2 -1.194444    4\n",
       "3 -1.166667    6\n",
       "4 -1.138889    6\n",
       "5 -1.111111    6\n",
       "6 -1.083333    6\n",
       "7 -1.055556    6\n",
       "8 -1.027778    7\n",
       "9 -1.000000    7"
      ]
     },
     "execution_count": 149,
     "metadata": {},
     "output_type": "execute_result"
    }
   ],
   "source": [
    "pd.DataFrame({\"c\":np.linspace(-1.25, -1,10),\"num\":[sum(i!=0) for i in weights]})"
   ]
  },
  {
   "cell_type": "code",
   "execution_count": 150,
   "metadata": {
    "collapsed": false
   },
   "outputs": [
    {
     "name": "stdout",
     "output_type": "stream",
     "text": [
      "Index(['kurtosis', 'T', 'W', 'pC'], dtype='object')\n",
      "Index(['kurtosis', 'T', 'W', 'pC'], dtype='object')\n",
      "Index(['kurtosis', 'T', 'W', 'pC'], dtype='object')\n",
      "Index(['pd_location', 'kurtosis', 'phase_angle', 'T', 'W', 'pC'], dtype='object')\n",
      "Index(['pd_location', 'kurtosis', 'phase_angle', 'T', 'W', 'pC'], dtype='object')\n",
      "Index(['pd_location', 'kurtosis', 'phase_angle', 'T', 'W', 'pC'], dtype='object')\n",
      "Index(['pd_location', 'kurtosis', 'phase_angle', 'T', 'W', 'pC'], dtype='object')\n",
      "Index(['pd_location', 'kurtosis', 'phase_angle', 'T', 'W', 'pC'], dtype='object')\n",
      "Index(['pd_location', 'skewness', 'kurtosis', 'phase_angle', 'T', 'W', 'pC'], dtype='object')\n",
      "Index(['pd_location', 'skewness', 'kurtosis', 'phase_angle', 'T', 'W', 'pC'], dtype='object')\n"
     ]
    }
   ],
   "source": [
    "for i in range (len(weights)):\n",
    "    print (COLUMNS[weights[i] !=0])"
   ]
  },
  {
   "cell_type": "markdown",
   "metadata": {},
   "source": [
    "因此，按照重要性排序的话：\n",
    "\n",
    "['W', 'pC']\n",
    "\n",
    "['T', 'W', 'pC']\n",
    "\n",
    "['pd_location', 'kurtosis', 'phase_angle', 'T', 'W', 'pC']\n",
    "\n",
    "['pd_location', 'skewness', 'kurtosis', 'phase_angle', 'T', 'W', 'pC']\n"
   ]
  },
  {
   "cell_type": "code",
   "execution_count": 236,
   "metadata": {
    "collapsed": false
   },
   "outputs": [
    {
     "data": {
      "image/png": "[encoded data removed]",
      "text/plain": [
       "<matplotlib.figure.Figure at 0x1c6081d63c8>"
      ]
     },
     "metadata": {},
     "output_type": "display_data"
    }
   ],
   "source": [
    "import matplotlib.pyplot as plt\n",
    "\n",
    "#颜色的选择用`iWantHue`\n",
    "colors = [\"#6FC9CA\",\n",
    "\"#CD5430\",\n",
    "\"#CE4DC4\",\n",
    "\"#88D54D\",\n",
    "\"#3D455E\",\n",
    "\"#5A752D\",\n",
    "\"#CC436D\",\n",
    "\"#603422\",\n",
    "\"#D2B43F\",\n",
    "\"#CD88BC\",\n",
    "\"#C8C28D\",\n",
    "\"#71D195\",\n",
    "\"#6A89C8\",\n",
    "\"#C18170\",\n",
    "\"#7F68D1\",\n",
    "\"#4A6553\",\n",
    "\"#BABAC7\",\n",
    "\"#693263\"]\n",
    "\n",
    "#计算权重\n",
    "weights, params = [], []\n",
    "for c in np.arange(-2, 10):\n",
    "    lr = LogisticRegression(penalty='l1', C=10**c, random_state=0)\n",
    "    lr.fit(X_train_std, y_train)\n",
    "    weights.append(lr.coef_[1])\n",
    "    params.append(10**c)\n",
    "\n",
    "weights = np.array(weights)\n",
    "\n",
    "# 开始画图\n",
    "import matplotlib.pyplot as plt\n",
    "%matplotlib inline\n",
    "fig = plt.figure()\n",
    "ax = plt.subplot(111)\n",
    "for column, color in zip(range(weights.shape[1]), colors):\n",
    "    plt.plot(params, weights[:, column],\n",
    "             label=d.columns[column],\n",
    "             color=color)\n",
    "plt.axhline(0, color='black', linestyle='--', linewidth=5)\n",
    "plt.xlim([10**(-3), 10**5])\n",
    "plt.ylabel('weight coefficient')\n",
    "plt.xlabel('C')\n",
    "plt.xscale('log')\n",
    "plt.legend(loc='upper left',markerscale=5)\n",
    "ax.legend(loc='upper center', \n",
    "          bbox_to_anchor=(1.38, 1.03),\n",
    "          ncol=1, fancybox=True)\n",
    "plt.savefig('l1_path.png', dpi=600)\n",
    "plt.show()"
   ]
  },
  {
   "cell_type": "markdown",
   "metadata": {},
   "source": [
    "#  通过sequential feature selection选择合适的参数\n"
   ]
  },
  {
   "cell_type": "code",
   "execution_count": 151,
   "metadata": {
    "collapsed": true
   },
   "outputs": [],
   "source": [
    "from sklearn.base import clone\n",
    "from itertools import combinations\n",
    "import numpy as np\n",
    "from sklearn.cross_validation import train_test_split\n",
    "from sklearn.metrics import accuracy_score\n",
    "\n",
    "class SBS():\n",
    "    def __init__(self, estimator, k_features, scoring=accuracy_score,\n",
    "                 test_size=0.25, random_state=1):\n",
    "        self.scoring = scoring\n",
    "        self.estimator = clone(estimator)\n",
    "        self.k_features = k_features\n",
    "        self.test_size = test_size\n",
    "        self.random_state = random_state\n",
    "\n",
    "    def fit(self, X, y):\n",
    "        \n",
    "        X_train, X_test, y_train, y_test = \\\n",
    "                train_test_split(X, y, test_size=self.test_size, \n",
    "                                 random_state=self.random_state)\n",
    "\n",
    "        dim = X_train.shape[1]\n",
    "        self.indices_ = tuple(range(dim))\n",
    "        self.subsets_ = [self.indices_]\n",
    "        score = self._calc_score(X_train, y_train, \n",
    "                                 X_test, y_test, self.indices_)\n",
    "        self.scores_ = [score]\n",
    "\n",
    "        while dim > self.k_features:\n",
    "            scores = []\n",
    "            subsets = []\n",
    "\n",
    "            for p in combinations(self.indices_, r=dim-1):\n",
    "                score = self._calc_score(X_train, y_train, \n",
    "                                         X_test, y_test, p)\n",
    "                scores.append(score)\n",
    "                subsets.append(p)\n",
    "\n",
    "            best = np.argmax(scores)\n",
    "            self.indices_ = subsets[best]\n",
    "            self.subsets_.append(self.indices_)\n",
    "            dim -= 1\n",
    "\n",
    "            self.scores_.append(scores[best])\n",
    "        self.k_score_ = self.scores_[-1]\n",
    "\n",
    "        return self\n",
    "\n",
    "    def transform(self, X):\n",
    "        return X[:, self.indices_]\n",
    "\n",
    "    def _calc_score(self, X_train, y_train, X_test, y_test, indices):\n",
    "        self.estimator.fit(X_train[:, indices], y_train)\n",
    "        y_pred = self.estimator.predict(X_test[:, indices])\n",
    "        score = self.scoring(y_test, y_pred)\n",
    "        return score"
   ]
  },
  {
   "cell_type": "code",
   "execution_count": 153,
   "metadata": {
    "collapsed": false
   },
   "outputs": [
    {
     "data": {
      "image/png": "[encoded data removed]",
      "text/plain": [
       "<matplotlib.figure.Figure at 0x1c6099bbe10>"
      ]
     },
     "metadata": {},
     "output_type": "display_data"
    }
   ],
   "source": [
    "%matplotlib inline\n",
    "from sklearn.neighbors import KNeighborsClassifier\n",
    "import matplotlib.pyplot as plt\n",
    "\n",
    "lr = LogisticRegression()\n",
    "\n",
    "# selecting features\n",
    "sbs = SBS(lr, k_features=1)\n",
    "sbs.fit(X_train_std, y_train)\n",
    "\n",
    "# plotting performance of feature subsets\n",
    "k_feat = [len(k) for k in sbs.subsets_]\n",
    "\n",
    "plt.plot(k_feat, sbs.scores_, marker='o')\n",
    "plt.ylim([0, 1])\n",
    "plt.ylabel('Accuracy')\n",
    "plt.xlabel('Number of features')\n",
    "plt.grid()\n",
    "plt.tight_layout()\n",
    "# plt.savefig('./sbs.png', dpi=300)\n",
    "plt.show()"
   ]
  },
  {
   "cell_type": "code",
   "execution_count": 223,
   "metadata": {
    "collapsed": false
   },
   "outputs": [
    {
     "name": "stdout",
     "output_type": "stream",
     "text": [
      "['pd_location' 'signal_width' 'rise_time' 'fall_time' 'peak_voltage'\n",
      " 'polarity' 'mean_voltage' 'rms' 'sd' 'skewness' 'kurtosis' 'crest'\n",
      " 'form_factor' 'MainFreq' 'phase_angle' 'T' 'W' 'pC']\n",
      "['pd_location' 'signal_width' 'rise_time' 'fall_time' 'peak_voltage'\n",
      " 'polarity' 'mean_voltage' 'rms' 'sd' 'skewness' 'kurtosis' 'crest'\n",
      " 'form_factor' 'MainFreq' 'phase_angle' 'T' 'pC']\n",
      "['pd_location' 'signal_width' 'rise_time' 'fall_time' 'peak_voltage'\n",
      " 'polarity' 'mean_voltage' 'rms' 'sd' 'skewness' 'kurtosis' 'crest'\n",
      " 'form_factor' 'MainFreq' 'T' 'pC']\n",
      "['pd_location' 'signal_width' 'rise_time' 'fall_time' 'peak_voltage'\n",
      " 'polarity' 'mean_voltage' 'rms' 'sd' 'skewness' 'kurtosis' 'crest'\n",
      " 'form_factor' 'T' 'pC']\n",
      "['pd_location' 'signal_width' 'rise_time' 'fall_time' 'peak_voltage'\n",
      " 'mean_voltage' 'rms' 'sd' 'skewness' 'kurtosis' 'crest' 'form_factor' 'T'\n",
      " 'pC']\n",
      "['pd_location' 'signal_width' 'rise_time' 'peak_voltage' 'mean_voltage'\n",
      " 'rms' 'sd' 'skewness' 'kurtosis' 'crest' 'form_factor' 'T' 'pC']\n",
      "['pd_location' 'signal_width' 'rise_time' 'peak_voltage' 'mean_voltage'\n",
      " 'rms' 'skewness' 'kurtosis' 'crest' 'form_factor' 'T' 'pC']\n",
      "['pd_location' 'signal_width' 'rise_time' 'peak_voltage' 'mean_voltage'\n",
      " 'skewness' 'kurtosis' 'crest' 'form_factor' 'T' 'pC']\n",
      "['pd_location' 'signal_width' 'rise_time' 'peak_voltage' 'mean_voltage'\n",
      " 'kurtosis' 'crest' 'form_factor' 'T' 'pC']\n",
      "['pd_location' 'signal_width' 'rise_time' 'peak_voltage' 'mean_voltage'\n",
      " 'kurtosis' 'form_factor' 'T' 'pC']\n",
      "['pd_location' 'signal_width' 'rise_time' 'peak_voltage' 'mean_voltage'\n",
      " 'kurtosis' 'form_factor' 'pC']\n",
      "['pd_location' 'signal_width' 'rise_time' 'peak_voltage' 'mean_voltage'\n",
      " 'form_factor' 'pC']\n",
      "['pd_location' 'signal_width' 'peak_voltage' 'mean_voltage' 'form_factor'\n",
      " 'pC']\n",
      "['pd_location' 'signal_width' 'peak_voltage' 'form_factor' 'pC']\n",
      "['signal_width' 'peak_voltage' 'form_factor' 'pC']\n",
      "['signal_width' 'peak_voltage' 'pC']\n",
      "['peak_voltage' 'pC']\n",
      "['peak_voltage']\n"
     ]
    }
   ],
   "source": [
    "for i in sbs.subsets_:\n",
    "    print (np.array(COLUMNS[[i]]))"
   ]
  },
  {
   "cell_type": "markdown",
   "metadata": {},
   "source": [
    "# 通过决策森林，根据特征的重要性选择合适的参数\n"
   ]
  },
  {
   "cell_type": "code",
   "execution_count": 228,
   "metadata": {
    "collapsed": false,
    "scrolled": true
   },
   "outputs": [
    {
     "name": "stdout",
     "output_type": "stream",
     "text": [
      " 1) pd_location                    0.135614\n",
      " 2) signal_width                   0.105168\n",
      " 3) rise_time                      0.104014\n",
      " 4) fall_time                      0.100831\n",
      " 5) peak_voltage                   0.084795\n",
      " 6) polarity                       0.071462\n",
      " 7) mean_voltage                   0.056699\n",
      " 8) rms                            0.056144\n",
      " 9) sd                             0.048083\n",
      "10) skewness                       0.044781\n",
      "11) kurtosis                       0.041479\n",
      "12) crest                          0.036688\n",
      "13) form_factor                    0.033465\n",
      "14) MainFreq                       0.029730\n",
      "15) phase_angle                    0.029136\n",
      "16) T                              0.011835\n",
      "17) W                              0.010076\n",
      "18) pC                             0.000000\n"
     ]
    },
    {
     "data": {
      "image/png": "[encoded data removed]",
      "text/plain": [
       "<matplotlib.figure.Figure at 0x1c6093a7588>"
      ]
     },
     "metadata": {},
     "output_type": "display_data"
    }
   ],
   "source": [
    "from sklearn.ensemble import RandomForestClassifier\n",
    "\n",
    "feat_labels = d.columns[0:-1]\n",
    "\n",
    "forest = RandomForestClassifier(n_estimators=10000,\n",
    "                                random_state=0,\n",
    "                                n_jobs=-1)\n",
    "\n",
    "forest.fit(X_train, y_train)\n",
    "importances = forest.feature_importances_\n",
    "\n",
    "indices = np.argsort(importances)[::-1]\n",
    "\n",
    "for f in range(X_train.shape[1]):\n",
    "    print(\"%2d) %-*s %f\" % (f + 1, 30, \n",
    "                            feat_labels[f], \n",
    "                            importances[indices[f]]))\n",
    "\n",
    "plt.title('Feature Importances')\n",
    "plt.bar(range(X_train.shape[1]), \n",
    "        importances[indices],\n",
    "        color='lightblue', \n",
    "        align='center')\n",
    "\n",
    "plt.xticks(range(X_train.shape[1]), \n",
    "           feat_labels, rotation=90)\n",
    "plt.xlim([-1, X_train.shape[1]])\n",
    "plt.tight_layout()\n",
    "# plt.savefig('./figures/random_forest.png', dpi=300)\n",
    "plt.show()"
   ]
  },
  {
   "cell_type": "code",
   "execution_count": 229,
   "metadata": {
    "collapsed": false
   },
   "outputs": [
    {
     "name": "stderr",
     "output_type": "stream",
     "text": [
      "C:\\Users\\younggy\\Anaconda\\envs\\python3\\lib\\site-packages\\sklearn\\utils\\__init__.py:93: DeprecationWarning: Function transform is deprecated; Support to use estimators as feature selectors will be removed in version 0.19. Use SelectFromModel instead.\n",
      "  warnings.warn(msg, category=DeprecationWarning)\n"
     ]
    },
    {
     "ename": "ValueError",
     "evalue": "Invalid threshold: all features are discarded.",
     "output_type": "error",
     "traceback": [
      "\u001b[1;31m---------------------------------------------------------------------------\u001b[0m",
      "\u001b[1;31mValueError\u001b[0m                                Traceback (most recent call last)",
      "\u001b[1;32m<ipython-input-229-4c0eb8dfaccf>\u001b[0m in \u001b[0;36m<module>\u001b[1;34m()\u001b[0m\n\u001b[1;32m----> 1\u001b[1;33m \u001b[0mX_selected\u001b[0m \u001b[1;33m=\u001b[0m \u001b[0mforest\u001b[0m\u001b[1;33m.\u001b[0m\u001b[0mtransform\u001b[0m\u001b[1;33m(\u001b[0m\u001b[0mX_train\u001b[0m\u001b[1;33m,\u001b[0m \u001b[0mthreshold\u001b[0m\u001b[1;33m=\u001b[0m\u001b[1;36m0.15\u001b[0m\u001b[1;33m)\u001b[0m\u001b[1;33m\u001b[0m\u001b[0m\n\u001b[0m\u001b[0;32m      2\u001b[0m \u001b[0mX_selected\u001b[0m\u001b[1;33m.\u001b[0m\u001b[0mshape\u001b[0m\u001b[1;33m\u001b[0m\u001b[0m\n",
      "\u001b[1;32mC:\\Users\\younggy\\Anaconda\\envs\\python3\\lib\\site-packages\\sklearn\\utils\\__init__.py\u001b[0m in \u001b[0;36mwrapped\u001b[1;34m(*args, **kwargs)\u001b[0m\n\u001b[0;32m     92\u001b[0m         \u001b[1;32mdef\u001b[0m \u001b[0mwrapped\u001b[0m\u001b[1;33m(\u001b[0m\u001b[1;33m*\u001b[0m\u001b[0margs\u001b[0m\u001b[1;33m,\u001b[0m \u001b[1;33m**\u001b[0m\u001b[0mkwargs\u001b[0m\u001b[1;33m)\u001b[0m\u001b[1;33m:\u001b[0m\u001b[1;33m\u001b[0m\u001b[0m\n\u001b[0;32m     93\u001b[0m             \u001b[0mwarnings\u001b[0m\u001b[1;33m.\u001b[0m\u001b[0mwarn\u001b[0m\u001b[1;33m(\u001b[0m\u001b[0mmsg\u001b[0m\u001b[1;33m,\u001b[0m \u001b[0mcategory\u001b[0m\u001b[1;33m=\u001b[0m\u001b[0mDeprecationWarning\u001b[0m\u001b[1;33m)\u001b[0m\u001b[1;33m\u001b[0m\u001b[0m\n\u001b[1;32m---> 94\u001b[1;33m             \u001b[1;32mreturn\u001b[0m \u001b[0mfun\u001b[0m\u001b[1;33m(\u001b[0m\u001b[1;33m*\u001b[0m\u001b[0margs\u001b[0m\u001b[1;33m,\u001b[0m \u001b[1;33m**\u001b[0m\u001b[0mkwargs\u001b[0m\u001b[1;33m)\u001b[0m\u001b[1;33m\u001b[0m\u001b[0m\n\u001b[0m\u001b[0;32m     95\u001b[0m \u001b[1;33m\u001b[0m\u001b[0m\n\u001b[0;32m     96\u001b[0m         \u001b[0mwrapped\u001b[0m\u001b[1;33m.\u001b[0m\u001b[0m__name__\u001b[0m \u001b[1;33m=\u001b[0m \u001b[0mfun\u001b[0m\u001b[1;33m.\u001b[0m\u001b[0m__name__\u001b[0m\u001b[1;33m\u001b[0m\u001b[0m\n",
      "\u001b[1;32mC:\\Users\\younggy\\Anaconda\\envs\\python3\\lib\\site-packages\\sklearn\\feature_selection\\from_model.py\u001b[0m in \u001b[0;36mtransform\u001b[1;34m(self, X, threshold)\u001b[0m\n\u001b[0;32m    141\u001b[0m             \u001b[1;32mreturn\u001b[0m \u001b[0mX\u001b[0m\u001b[1;33m[\u001b[0m\u001b[1;33m:\u001b[0m\u001b[1;33m,\u001b[0m \u001b[0mmask\u001b[0m\u001b[1;33m]\u001b[0m\u001b[1;33m\u001b[0m\u001b[0m\n\u001b[0;32m    142\u001b[0m         \u001b[1;32melse\u001b[0m\u001b[1;33m:\u001b[0m\u001b[1;33m\u001b[0m\u001b[0m\n\u001b[1;32m--> 143\u001b[1;33m             \u001b[1;32mraise\u001b[0m \u001b[0mValueError\u001b[0m\u001b[1;33m(\u001b[0m\u001b[1;34m\"Invalid threshold: all features are discarded.\"\u001b[0m\u001b[1;33m)\u001b[0m\u001b[1;33m\u001b[0m\u001b[0m\n\u001b[0m\u001b[0;32m    144\u001b[0m \u001b[1;33m\u001b[0m\u001b[0m\n\u001b[0;32m    145\u001b[0m \u001b[1;33m\u001b[0m\u001b[0m\n",
      "\u001b[1;31mValueError\u001b[0m: Invalid threshold: all features are discarded."
     ]
    }
   ],
   "source": [
    "X_selected = forest.transform(X_train, threshold=0.15)\n",
    "X_selected.shape"
   ]
  }
 ],
 "metadata": {
  "kernelspec": {
   "display_name": "Python 3",
   "language": "python",
   "name": "python3"
  },
  "language_info": {
   "codemirror_mode": {
    "name": "ipython",
    "version": 3
   },
   "file_extension": ".py",
   "mimetype": "text/x-python",
   "name": "python",
   "nbconvert_exporter": "python",
   "pygments_lexer": "ipython3",
   "version": "3.5.1"
  }
 },
 "nbformat": 4,
 "nbformat_minor": 0
}
