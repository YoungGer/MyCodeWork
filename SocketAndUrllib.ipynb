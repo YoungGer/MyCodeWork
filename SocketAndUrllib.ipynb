{
 "cells": [
  {
   "cell_type": "markdown",
   "metadata": {},
   "source": [
    "# Transport Layer\n",
    "\n",
    "It's the way using socket. First, we build the endpoint in our machine, then through socket make a connection to the server. Second, we send our request to the server and get the response in a circle."
   ]
  },
  {
   "cell_type": "code",
   "execution_count": 26,
   "metadata": {
    "collapsed": true
   },
   "outputs": [],
   "source": [
    "import socket\n",
    "mysock = socket.socket(socket.AF_INET,socket.SOCK_STREAM)\n",
    "mysock.connect(('www.younggy.com',80))"
   ]
  },
  {
   "cell_type": "code",
   "execution_count": 27,
   "metadata": {
    "collapsed": false
   },
   "outputs": [
    {
     "data": {
      "text/plain": [
       "47"
      ]
     },
     "execution_count": 27,
     "metadata": {},
     "output_type": "execute_result"
    }
   ],
   "source": [
    "mysock.send(\"GET  http://www.younggy.com/test.txt HTTP/1.0\\n\\n\")"
   ]
  },
  {
   "cell_type": "code",
   "execution_count": 28,
   "metadata": {
    "collapsed": false,
    "scrolled": false
   },
   "outputs": [
    {
     "name": "stdout",
     "output_type": "stream",
     "text": [
      "HTTP/1.1 200 OK\r\n",
      "Date: Mon, 30 Nov 2015 08:02:02 GMT\r\n",
      "Server: Apache\r\n",
      "Last-Modified: Mon, 30 Nov 2015 08:01:28 GMT\r\n",
      "Accept-Ranges: bytes\r\n",
      "Content-Length: 665\r\n",
      "Connection: close\r\n",
      "Content-Type: text/plain\r\n",
      "\r\n",
      "test 1\r\n",
      "test 2\r\n",
      "end od test\r\n",
      "\r\n",
      "\r\n",
      "\r\n",
      "Package Control Messages\r\n",
      "========================\r\n",
      "\r\n",
      "MarkdownEditing\r\n",
      "---------------\r\n",
      "\r\n",
      "  # MarkdownEditing 2.1.4 Changelog\r\n",
      "  \r\n",
      "  Your _MarkdownEditing_ plugin is updated. Enjoy new version. For any type of\r\n",
      "  feedback you can use [GitHub issues][issues].\r\n",
      "  \r\n",
      "  ## Bu\n",
      "g Fixes\r\n",
      "  \r\n",
      "  * Various small bug fixes.\r\n",
      "  \r\n",
      "  ## New Features\r\n",
      "  \r\n",
      "  * Automatized syntax highlighting tests (a new feature of ST).\r\n",
      "  * \"Swift\" and \"scheme\" language support for fenced code blocks.\r\n",
      "  * More liberal fenced code block matching, with unknown language header.\r\n",
      "  \r\n",
      "  [issues]: https://github.com/SublimeText-Markdown/MarkdownEditing/issues\r\n",
      "\n"
     ]
    }
   ],
   "source": [
    "while True:\n",
    "    data = mysock.recv(512)\n",
    "    if (len(data)<1):\n",
    "        break\n",
    "    print data\n",
    "mysock.close()"
   ]
  },
  {
   "cell_type": "markdown",
   "metadata": {},
   "source": [
    "# Application Layer\n",
    "\n",
    "Since HTTP is so common, we have a library that does all the socket work for us and makes web pages look like a file."
   ]
  },
  {
   "cell_type": "code",
   "execution_count": 29,
   "metadata": {
    "collapsed": false
   },
   "outputs": [
    {
     "name": "stdout",
     "output_type": "stream",
     "text": [
      "test 1\r\n",
      "test 2\r\n",
      "end od test\r\n",
      "\r\n",
      "\r\n",
      "\r\n",
      "Package Control Messages\r\n",
      "========================\r\n",
      "\r\n",
      "MarkdownEditing\r\n",
      "---------------\r\n",
      "\r\n",
      "  # MarkdownEditing 2.1.4 Changelog\r\n",
      "  \r\n",
      "  Your _MarkdownEditing_ plugin is updated. Enjoy new version. For any type of\r\n",
      "  feedback you can use [GitHub issues][issues].\r\n",
      "  \r\n",
      "  ## Bug Fixes\r\n",
      "  \r\n",
      "  * Various small bug fixes.\r\n",
      "  \r\n",
      "  ## New Features\r\n",
      "  \r\n",
      "  * Automatized syntax highlighting tests (a new feature of ST).\r\n",
      "  * \"Swift\" and \"scheme\" language support for fenced code blocks.\r\n",
      "  * More liberal fenced code block matching, with unknown language header.\r\n",
      "  \r\n",
      "  [issues]: https://github.com/SublimeText-Markdown/MarkdownEditing/issues\r\n",
      "\n"
     ]
    }
   ],
   "source": [
    "import urllib\n",
    "fhand = urllib.urlopen('http://www.younggy.com/test.txt')\n",
    "print fhand.read()\n",
    "fhand.close()"
   ]
  }
 ],
 "metadata": {
  "kernelspec": {
   "display_name": "Python 2",
   "language": "python",
   "name": "python2"
  },
  "language_info": {
   "codemirror_mode": {
    "name": "ipython",
    "version": 2
   },
   "file_extension": ".py",
   "mimetype": "text/x-python",
   "name": "python",
   "nbconvert_exporter": "python",
   "pygments_lexer": "ipython2",
   "version": "2.7.10"
  }
 },
 "nbformat": 4,
 "nbformat_minor": 0
}
