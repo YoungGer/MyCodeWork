{
 "cells": [
  {
   "cell_type": "markdown",
   "metadata": {},
   "source": [
    "# PageRank概述"
   ]
  },
  {
   "cell_type": "markdown",
   "metadata": {},
   "source": [
    "Web中，每个网页当做一个节点，网页间的链接当做一条线，组成了Web网络。\n",
    "\n",
    "Web网络中，很重要的一点就是对Web进行排序。\n",
    "一般来说，重要的网页有以下特征：\n",
    "1. in-link很多\n",
    "2. in-link的网页rank很高\n",
    "\n",
    "PageRank用矩阵的形式可以表达成：\n",
    "$$r=Mr$$\n",
    "\n",
    "上式的求解可以用`power iteration`，通过不断地迭代最终达到稳定值。"
   ]
  },
  {
   "cell_type": "markdown",
   "metadata": {},
   "source": [
    "# PageRank遇到的问题"
   ]
  },
  {
   "cell_type": "markdown",
   "metadata": {},
   "source": [
    "然而，求解的过程不一定顺利，主要原因有：  \n",
    "* dead point，导致rank的丢失\n",
    "* spider trap，导致rank的不断波动，不收敛\n",
    "\n",
    "解决办法如下：\n",
    "* 在$M$中，对全为0的列增加权值，解决dead point\n",
    "* $M$转移的概率为$\\beta$（一般为0.8、0.9），同时增加random teleport"
   ]
  },
  {
   "cell_type": "markdown",
   "metadata": {},
   "source": [
    "# Teleports的理论依据\n"
   ]
  },
  {
   "cell_type": "markdown",
   "metadata": {},
   "source": [
    "PageRank的迭代过程，实际上就是`Markov Chains`。\n",
    "\n",
    ">For any **start vector**, the power method\n",
    "applied to a Markov transition matrix P will\n",
    "**converge** to a **unique** positive stationary\n",
    "vector as long as P is **stochastic**, **irreducible**\n",
    "and **aperiodic**.\n",
    "\n",
    "1. Stochastic：具体是指$M$的每一列和必须为1\n",
    "2. Aperiodic: 具体指每个点必须可以跳到自己本身\n",
    "3. Irreducible: 具体指每个点必须可以跳到其他的点\n",
    "\n",
    "综上，肯定可以收敛的PageRank的迭代公式为：\n",
    "$$A = \\beta M +\\frac{1-\\beta}{N}ee^T$$\n",
    "$$r^{t+1} = Ar^{t}$$\n",
    "\n",
    "其中，$\\beta$一般取值0.8，0.9。\n",
    "\n",
    "另外如果有dead point的话，解决方法有两种：\n",
    "* 在$M$中修改全为0的列，改成均匀分布，和为1\n",
    "* 计算出新的$r$后，重新正则化使和为1"
   ]
  },
  {
   "cell_type": "markdown",
   "metadata": {},
   "source": [
    "# 大规模计算遇到的问题"
   ]
  },
  {
   "cell_type": "markdown",
   "metadata": {},
   "source": [
    "\n",
    "$$r = \\beta M r + [\\frac{1-\\beta}{N}]_{N}$$"
   ]
  },
  {
   "cell_type": "code",
   "execution_count": null,
   "metadata": {
    "collapsed": true
   },
   "outputs": [],
   "source": []
  }
 ],
 "metadata": {
  "kernelspec": {
   "display_name": "Python 2",
   "language": "python",
   "name": "python2"
  },
  "language_info": {
   "codemirror_mode": {
    "name": "ipython",
    "version": 2
   },
   "file_extension": ".py",
   "mimetype": "text/x-python",
   "name": "python",
   "nbconvert_exporter": "python",
   "pygments_lexer": "ipython2",
   "version": "2.7.10"
  }
 },
 "nbformat": 4,
 "nbformat_minor": 0
}
