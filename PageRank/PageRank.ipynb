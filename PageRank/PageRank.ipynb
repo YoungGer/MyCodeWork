{
 "cells": [
  {
   "cell_type": "markdown",
   "metadata": {},
   "source": [
    "# PageRank概述"
   ]
  },
  {
   "cell_type": "markdown",
   "metadata": {},
   "source": [
    "Web中，每个网页当做一个节点，网页间的链接当做一条线，组成了Web网络。\n",
    "\n",
    "Web网络中，很重要的一点就是对Web进行排序。\n",
    "一般来说，重要的网页有以下特征：\n",
    "1. in-link很多\n",
    "2. in-link的网页rank很高\n",
    "\n",
    "PageRank用矩阵的形式可以表达成：\n",
    "$$r=Mr$$\n",
    "\n",
    "上式的求解可以用`power iteration`，通过不断地迭代最终达到稳定值。"
   ]
  },
  {
   "cell_type": "markdown",
   "metadata": {},
   "source": [
    "# PageRank遇到的问题"
   ]
  },
  {
   "cell_type": "markdown",
   "metadata": {},
   "source": [
    "然而，求解的过程不一定顺利，主要原因有：  \n",
    "* dead point，导致rank的丢失\n",
    "* spider trap，导致rank的不断波动，不收敛\n",
    "\n",
    "解决办法如下：\n",
    "* 在$M$中，对全为0的列增加权值，解决dead point\n",
    "* $M$转移的概率为$\\beta$（一般为0.8、0.9），同时增加random teleport"
   ]
  },
  {
   "cell_type": "markdown",
   "metadata": {},
   "source": [
    "# Teleports的理论依据\n"
   ]
  },
  {
   "cell_type": "markdown",
   "metadata": {},
   "source": [
    "PageRank的迭代过程，实际上就是`Markov Chains`。\n",
    "\n",
    ">For any **start vector**, the power method\n",
    "applied to a Markov transition matrix P will\n",
    "**converge** to a **unique** positive stationary\n",
    "vector as long as P is **stochastic**, **irreducible**\n",
    "and **aperiodic**.\n",
    "\n",
    "1. Stochastic：具体是指$M$的每一列和必须为1\n",
    "2. Aperiodic: 具体指每个点必须可以跳到自己本身\n",
    "3. Irreducible: 具体指每个点必须可以跳到其他的点\n",
    "\n",
    "综上，肯定可以收敛的PageRank的迭代公式为：\n",
    "$$A = \\beta M +\\frac{1-\\beta}{N}ee^T$$\n",
    "$$r^{t+1} = Ar^{t}$$\n",
    "\n",
    "其中，$\\beta$一般取值0.8，0.9。\n",
    "\n",
    "另外如果有dead point的话，解决方法有两种：\n",
    "* 在$M$中修改全为0的列，改成均匀分布，和为1\n",
    "* 计算出新的$r$后，重新正则化使和为1"
   ]
  },
  {
   "cell_type": "markdown",
   "metadata": {},
   "source": [
    "# 大规模计算遇到的问题"
   ]
  },
  {
   "cell_type": "markdown",
   "metadata": {},
   "source": [
    "上面的矩阵$A$是密集的矩阵，如果Web站点过多的话，计算的复杂度过大。  \n",
    "需要想办法，转换成稀疏矩阵的计算问题。\n",
    "\n",
    "$$r = \\beta M r + [\\frac{1-\\beta}{N}]_{N}$$\n",
    "\n",
    "实际计算的过程中，$M$中可能存在dead point，因此会造成rank的流失。所以可以改进为：\n",
    "\n",
    "$$r = \\beta M r + [\\frac{1-S}{N}]_{N}$$\n",
    "$$S =1- \\sum r$$\n"
   ]
  },
  {
   "cell_type": "markdown",
   "metadata": {
    "collapsed": true
   },
   "source": [
    "# 实例"
   ]
  },
  {
   "cell_type": "code",
   "execution_count": 2,
   "metadata": {
    "collapsed": false
   },
   "outputs": [
    {
     "name": "stdout",
     "output_type": "stream",
     "text": [
      "PageRank.ipynb  web-Google.txt\r\n"
     ]
    }
   ],
   "source": [
    "ls"
   ]
  },
  {
   "cell_type": "code",
   "execution_count": 12,
   "metadata": {
    "collapsed": true
   },
   "outputs": [],
   "source": [
    "import numpy as np\n",
    "import random"
   ]
  },
  {
   "cell_type": "code",
   "execution_count": 44,
   "metadata": {
    "collapsed": false
   },
   "outputs": [
    {
     "name": "stdout",
     "output_type": "stream",
     "text": [
      "True\n"
     ]
    }
   ],
   "source": [
    "# 读取Web中的数据\n",
    "f = open(\"web-Google.txt\",'r')\n",
    "L = []\n",
    "for line in f:\n",
    "    l = line.split()\n",
    "    if len(l)==2:\n",
    "        L.append(map(int,l))\n",
    "f.close()\n",
    "print f.closed"
   ]
  },
  {
   "cell_type": "code",
   "execution_count": 45,
   "metadata": {
    "collapsed": false
   },
   "outputs": [],
   "source": [
    "L = np.array(L)"
   ]
  },
  {
   "cell_type": "code",
   "execution_count": null,
   "metadata": {
    "collapsed": true
   },
   "outputs": [],
   "source": [
    "#构建M矩阵\n",
    "N = L.max()\n",
    "M = np.zeros([N+1,N+1])\n",
    "#将所有的数据打入标签，第一项为From，第二项为To\n",
    "for i in L:\n",
    "    xfrom = i[0]\n",
    "    xto = i[1]\n",
    "    M[xto,xfrom] = 1\n"
   ]
  },
  {
   "cell_type": "code",
   "execution_count": 68,
   "metadata": {
    "collapsed": false
   },
   "outputs": [],
   "source": [
    "x = np.array([[1,2],[3,4],[5,6]])"
   ]
  },
  {
   "cell_type": "code",
   "execution_count": 69,
   "metadata": {
    "collapsed": false,
    "scrolled": false
   },
   "outputs": [
    {
     "data": {
      "text/plain": [
       "array([[1, 2],\n",
       "       [3, 4],\n",
       "       [5, 6]])"
      ]
     },
     "execution_count": 69,
     "metadata": {},
     "output_type": "execute_result"
    }
   ],
   "source": [
    "x"
   ]
  },
  {
   "cell_type": "code",
   "execution_count": 80,
   "metadata": {
    "collapsed": false
   },
   "outputs": [
    {
     "data": {
      "text/plain": [
       "916427"
      ]
     },
     "execution_count": 80,
     "metadata": {},
     "output_type": "execute_result"
    }
   ],
   "source": [
    "L.max()"
   ]
  },
  {
   "cell_type": "code",
   "execution_count": 74,
   "metadata": {
    "collapsed": false
   },
   "outputs": [],
   "source": [
    "x2 = 0\n",
    "for i in x:\n",
    "      x2 = i"
   ]
  },
  {
   "cell_type": "code",
   "execution_count": 78,
   "metadata": {
    "collapsed": false
   },
   "outputs": [
    {
     "data": {
      "text/plain": [
       "6"
      ]
     },
     "execution_count": 78,
     "metadata": {},
     "output_type": "execute_result"
    }
   ],
   "source": [
    "x2[1]"
   ]
  },
  {
   "cell_type": "code",
   "execution_count": null,
   "metadata": {
    "collapsed": true
   },
   "outputs": [],
   "source": []
  },
  {
   "cell_type": "code",
   "execution_count": 47,
   "metadata": {
    "collapsed": true
   },
   "outputs": [],
   "source": [
    "L1 = L[:,0]\n",
    "L2 = L[:,1]"
   ]
  },
  {
   "cell_type": "code",
   "execution_count": 48,
   "metadata": {
    "collapsed": false
   },
   "outputs": [
    {
     "data": {
      "text/plain": [
       "(739454,)"
      ]
     },
     "execution_count": 48,
     "metadata": {},
     "output_type": "execute_result"
    }
   ],
   "source": [
    "np.unique(L1).shape"
   ]
  },
  {
   "cell_type": "code",
   "execution_count": 23,
   "metadata": {
    "collapsed": false
   },
   "outputs": [
    {
     "data": {
      "text/plain": [
       "(714545,)"
      ]
     },
     "execution_count": 23,
     "metadata": {},
     "output_type": "execute_result"
    }
   ],
   "source": [
    "np.unique(L2).shape"
   ]
  },
  {
   "cell_type": "code",
   "execution_count": 50,
   "metadata": {
    "collapsed": false
   },
   "outputs": [],
   "source": [
    "Lall = np.r_[L1,L2]"
   ]
  },
  {
   "cell_type": "code",
   "execution_count": 51,
   "metadata": {
    "collapsed": false,
    "scrolled": true
   },
   "outputs": [
    {
     "data": {
      "text/plain": [
       "(875713,)"
      ]
     },
     "execution_count": 51,
     "metadata": {},
     "output_type": "execute_result"
    }
   ],
   "source": [
    "np.unique(Lall).shape"
   ]
  },
  {
   "cell_type": "code",
   "execution_count": 54,
   "metadata": {
    "collapsed": false
   },
   "outputs": [
    {
     "name": "stdout",
     "output_type": "stream",
     "text": [
      "916427 0\n"
     ]
    }
   ],
   "source": [
    "print Lall.max(),Lall.min()"
   ]
  },
  {
   "cell_type": "code",
   "execution_count": 40,
   "metadata": {
    "collapsed": false
   },
   "outputs": [
    {
     "data": {
      "text/plain": [
       "array(['0', '0', '0', ..., '632916', '637936', '837379'], \n",
       "      dtype='|S6')"
      ]
     },
     "execution_count": 40,
     "metadata": {},
     "output_type": "execute_result"
    }
   ],
   "source": [
    "Lall"
   ]
  },
  {
   "cell_type": "code",
   "execution_count": 20,
   "metadata": {
    "collapsed": false
   },
   "outputs": [
    {
     "data": {
      "text/plain": [
       "(5105039,)"
      ]
     },
     "execution_count": 20,
     "metadata": {},
     "output_type": "execute_result"
    }
   ],
   "source": [
    "L2.shape"
   ]
  },
  {
   "cell_type": "code",
   "execution_count": null,
   "metadata": {
    "collapsed": true
   },
   "outputs": [],
   "source": []
  }
 ],
 "metadata": {
  "kernelspec": {
   "display_name": "Python 2",
   "language": "python",
   "name": "python2"
  },
  "language_info": {
   "codemirror_mode": {
    "name": "ipython",
    "version": 2
   },
   "file_extension": ".py",
   "mimetype": "text/x-python",
   "name": "python",
   "nbconvert_exporter": "python",
   "pygments_lexer": "ipython2",
   "version": "2.7.10"
  }
 },
 "nbformat": 4,
 "nbformat_minor": 0
}
